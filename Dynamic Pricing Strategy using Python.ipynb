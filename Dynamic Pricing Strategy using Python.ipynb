{
 "cells": [
  {
   "cell_type": "markdown",
   "id": "83aa6eec-c312-4dfb-86ad-2eb6843eb531",
   "metadata": {},
   "source": [
    "## Dynamic Pricing Strategy using Python"
   ]
  },
  {
   "cell_type": "markdown",
   "id": "e143766a-26ee-417c-89c2-983e77d638a8",
   "metadata": {},
   "source": [
    "Dynamic Pricing is an application of data science that involves adjusting the prices of a product or service based on various factors in real time. It is used by companies to optimize revenue by setting flexible prices that respond to market demand, demographics, customer behaviour and competitor prices"
   ]
  },
  {
   "cell_type": "markdown",
   "id": "4de17062-f212-495f-b9fb-5e3994d71255",
   "metadata": {},
   "source": [
    "## What is Dynamic Pricing?"
   ]
  },
  {
   "cell_type": "markdown",
   "id": "ec0f08ac-a70b-4ff0-ab42-6a7a1dd18a90",
   "metadata": {},
   "source": [
    "Dynamic Pricing is an application of Data Science that involves adjusting product or service prices based on various factors in real time. It is employed by businesses to optimize their revenue and profitability by setting flexible prices that respond to market demand, customer behaviour, and competitor pricing."
   ]
  },
  {
   "cell_type": "markdown",
   "id": "5cea9865-8d3e-4478-8914-ac1376bd57b1",
   "metadata": {},
   "source": [
    "Using data-driven insights and algorithms, businesses can dynamically modify prices to achieve the most favourable outcomes."
   ]
  },
  {
   "cell_type": "markdown",
   "id": "60568301-4cd4-401d-b876-8dad2b67e15a",
   "metadata": {},
   "source": [
    "For example, consider a ride-sharing company operating in a metropolitan area. The company wants to optimize its pricing strategy to maximize revenue and improve customer satisfaction. The traditional pricing model used by the business is based on fixed rates per kilometre, which does not account for fluctuations in supply and demand."
   ]
  },
  {
   "cell_type": "markdown",
   "id": "1b05242e-9378-44e8-a7d8-9bf8289bdd17",
   "metadata": {},
   "source": [
    "By implementing a dynamic pricing strategy, the company can leverage data science techniques to analyze various factors such as historical trip data, real-time demand, traffic patterns, and events happening in the area."
   ]
  },
  {
   "cell_type": "markdown",
   "id": "aa4d5c82-02ce-4ad7-8e84-90aa665cdb55",
   "metadata": {},
   "source": [
    "Using Machine Learning algorithms, the company can analyze data and adjust its prices in real-time. When demand is high, such as during rush hours or major events, the algorithm can increase the cost of the rides to incentivize more drivers to be available and balance the supply and demand. Conversely, during periods of low demand, the algorithm can lower the prices to attract more customers."
   ]
  },
  {
   "cell_type": "markdown",
   "id": "bceabb11-da3d-4aac-8b42-93fcc5c7386c",
   "metadata": {},
   "source": [
    "## Dynamic Pricing Strategy: Overview"
   ]
  },
  {
   "cell_type": "markdown",
   "id": "661dcf2d-1b5d-4c3d-8d6f-8a3f14d6ee6e",
   "metadata": {},
   "source": [
    "So, in a dynamic pricing strategy, the aim is to maximize revenue and profitability by pricing items at the right level that balances supply and demand dynamics. It allows businesses to adjust prices dynamically based on factors like time of day, day of the week, customer segments, inventory levels, seasonal fluctuations, competitor pricing, and market conditions."
   ]
  },
  {
   "cell_type": "markdown",
   "id": "2d97d170-57a6-42cc-b847-45d43d50b1d2",
   "metadata": {},
   "source": [
    "To implement a data-driven dynamic pricing strategy, businesses typically require data that can provide insights into customer behaviour, market trends, and other influencing factors. So to create a dynamic pricing strategy, we need to have a dataset based on:\n",
    "\n",
    "* historical sales data\n",
    "* customer purchase patterns\n",
    "* market demand forecasts\n",
    "* cost data\n",
    "* customer segmentation data,\n",
    "* and real-time market data.\n"
   ]
  },
  {
   "cell_type": "markdown",
   "id": "a0c3571f-0527-4c36-b49a-79f2ee8622e1",
   "metadata": {},
   "source": [
    "I found an ideal dataset to create a Dynamic Pricing Strategy based on the example we discussed above."
   ]
  },
  {
   "cell_type": "markdown",
   "id": "b0221356-5710-4824-a9f2-3334d1f25595",
   "metadata": {},
   "source": [
    "## Dynamic Pricing Strategy using Python"
   ]
  },
  {
   "cell_type": "markdown",
   "id": "871ab0db-9d2e-464e-91d6-b3792a869527",
   "metadata": {},
   "source": [
    "Let’s start the task of building a dynamic pricing strategy by importing the necessary Python libraries and the dataset:"
   ]
  },
  {
   "cell_type": "code",
   "execution_count": 1,
   "id": "bf76a23a-f142-41ee-a506-ccd36bec95e2",
   "metadata": {},
   "outputs": [
    {
     "data": {
      "text/html": [
       "<div>\n",
       "<style scoped>\n",
       "    .dataframe tbody tr th:only-of-type {\n",
       "        vertical-align: middle;\n",
       "    }\n",
       "\n",
       "    .dataframe tbody tr th {\n",
       "        vertical-align: top;\n",
       "    }\n",
       "\n",
       "    .dataframe thead th {\n",
       "        text-align: right;\n",
       "    }\n",
       "</style>\n",
       "<table border=\"1\" class=\"dataframe\">\n",
       "  <thead>\n",
       "    <tr style=\"text-align: right;\">\n",
       "      <th></th>\n",
       "      <th>Number_of_Riders</th>\n",
       "      <th>Number_of_Drivers</th>\n",
       "      <th>Location_Category</th>\n",
       "      <th>Customer_Loyalty_Status</th>\n",
       "      <th>Number_of_Past_Rides</th>\n",
       "      <th>Average_Ratings</th>\n",
       "      <th>Time_of_Booking</th>\n",
       "      <th>Vehicle_Type</th>\n",
       "      <th>Expected_Ride_Duration</th>\n",
       "      <th>Historical_Cost_of_Ride</th>\n",
       "    </tr>\n",
       "  </thead>\n",
       "  <tbody>\n",
       "    <tr>\n",
       "      <th>0</th>\n",
       "      <td>90</td>\n",
       "      <td>45</td>\n",
       "      <td>Urban</td>\n",
       "      <td>Silver</td>\n",
       "      <td>13</td>\n",
       "      <td>4.47</td>\n",
       "      <td>Night</td>\n",
       "      <td>Premium</td>\n",
       "      <td>90</td>\n",
       "      <td>284.257273</td>\n",
       "    </tr>\n",
       "    <tr>\n",
       "      <th>1</th>\n",
       "      <td>58</td>\n",
       "      <td>39</td>\n",
       "      <td>Suburban</td>\n",
       "      <td>Silver</td>\n",
       "      <td>72</td>\n",
       "      <td>4.06</td>\n",
       "      <td>Evening</td>\n",
       "      <td>Economy</td>\n",
       "      <td>43</td>\n",
       "      <td>173.874753</td>\n",
       "    </tr>\n",
       "    <tr>\n",
       "      <th>2</th>\n",
       "      <td>42</td>\n",
       "      <td>31</td>\n",
       "      <td>Rural</td>\n",
       "      <td>Silver</td>\n",
       "      <td>0</td>\n",
       "      <td>3.99</td>\n",
       "      <td>Afternoon</td>\n",
       "      <td>Premium</td>\n",
       "      <td>76</td>\n",
       "      <td>329.795469</td>\n",
       "    </tr>\n",
       "    <tr>\n",
       "      <th>3</th>\n",
       "      <td>89</td>\n",
       "      <td>28</td>\n",
       "      <td>Rural</td>\n",
       "      <td>Regular</td>\n",
       "      <td>67</td>\n",
       "      <td>4.31</td>\n",
       "      <td>Afternoon</td>\n",
       "      <td>Premium</td>\n",
       "      <td>134</td>\n",
       "      <td>470.201232</td>\n",
       "    </tr>\n",
       "    <tr>\n",
       "      <th>4</th>\n",
       "      <td>78</td>\n",
       "      <td>22</td>\n",
       "      <td>Rural</td>\n",
       "      <td>Regular</td>\n",
       "      <td>74</td>\n",
       "      <td>3.77</td>\n",
       "      <td>Afternoon</td>\n",
       "      <td>Economy</td>\n",
       "      <td>149</td>\n",
       "      <td>579.681422</td>\n",
       "    </tr>\n",
       "  </tbody>\n",
       "</table>\n",
       "</div>"
      ],
      "text/plain": [
       "   Number_of_Riders  Number_of_Drivers Location_Category  \\\n",
       "0                90                 45             Urban   \n",
       "1                58                 39          Suburban   \n",
       "2                42                 31             Rural   \n",
       "3                89                 28             Rural   \n",
       "4                78                 22             Rural   \n",
       "\n",
       "  Customer_Loyalty_Status  Number_of_Past_Rides  Average_Ratings  \\\n",
       "0                  Silver                    13             4.47   \n",
       "1                  Silver                    72             4.06   \n",
       "2                  Silver                     0             3.99   \n",
       "3                 Regular                    67             4.31   \n",
       "4                 Regular                    74             3.77   \n",
       "\n",
       "  Time_of_Booking Vehicle_Type  Expected_Ride_Duration  \\\n",
       "0           Night      Premium                      90   \n",
       "1         Evening      Economy                      43   \n",
       "2       Afternoon      Premium                      76   \n",
       "3       Afternoon      Premium                     134   \n",
       "4       Afternoon      Economy                     149   \n",
       "\n",
       "   Historical_Cost_of_Ride  \n",
       "0               284.257273  \n",
       "1               173.874753  \n",
       "2               329.795469  \n",
       "3               470.201232  \n",
       "4               579.681422  "
      ]
     },
     "execution_count": 1,
     "metadata": {},
     "output_type": "execute_result"
    }
   ],
   "source": [
    "import pandas as pd\n",
    "import plotly.express as px\n",
    "import plotly.graph_objects as go\n",
    "\n",
    "price = pd.read_csv(\"dynamic_pricing.csv\")\n",
    "price.head()"
   ]
  },
  {
   "cell_type": "markdown",
   "id": "d8472345-4a92-4aff-adbc-ba084460c1ea",
   "metadata": {},
   "source": [
    "* A ride-sharing company wants to implement a dynamic pricing strategy to optimize fares based on real-time market conditions. The company only uses ride duration to decide ride fares currently. The company aims to leverage data-driven techniques to analyze historical data and develop a predictive model that can dynamically adjust prices in response to changing factors.\n",
    "\n",
    "* A dataset containing historical ride data has been provided. The dataset includes features such as the number of riders, number of drivers, location category, customer loyalty status, number of past rides, average ratings, time of booking, vehicle type, expected ride duration, and historical cost of the rides.\n",
    "\n",
    "* Your goal is to build a dynamic pricing model that incorporates the provided features to predict optimal fares for rides in real-time. The model must consider factors such as demand patterns and supply availability."
   ]
  },
  {
   "cell_type": "markdown",
   "id": "7edf425f-dbd3-4979-9394-5f586cb007d8",
   "metadata": {},
   "source": [
    "## Exploratory Data Analysis"
   ]
  },
  {
   "cell_type": "markdown",
   "id": "d8db28e6-e8fc-40aa-83b9-cfc61bfdf1c5",
   "metadata": {},
   "source": [
    "Let’s have a look at the descriptive statistics of the data:"
   ]
  },
  {
   "cell_type": "code",
   "execution_count": 2,
   "id": "5b32e3ed-0f0c-4450-89e5-9f309debea0f",
   "metadata": {},
   "outputs": [
    {
     "data": {
      "text/html": [
       "<div>\n",
       "<style scoped>\n",
       "    .dataframe tbody tr th:only-of-type {\n",
       "        vertical-align: middle;\n",
       "    }\n",
       "\n",
       "    .dataframe tbody tr th {\n",
       "        vertical-align: top;\n",
       "    }\n",
       "\n",
       "    .dataframe thead th {\n",
       "        text-align: right;\n",
       "    }\n",
       "</style>\n",
       "<table border=\"1\" class=\"dataframe\">\n",
       "  <thead>\n",
       "    <tr style=\"text-align: right;\">\n",
       "      <th></th>\n",
       "      <th>Number_of_Riders</th>\n",
       "      <th>Number_of_Drivers</th>\n",
       "      <th>Number_of_Past_Rides</th>\n",
       "      <th>Average_Ratings</th>\n",
       "      <th>Expected_Ride_Duration</th>\n",
       "      <th>Historical_Cost_of_Ride</th>\n",
       "    </tr>\n",
       "  </thead>\n",
       "  <tbody>\n",
       "    <tr>\n",
       "      <th>count</th>\n",
       "      <td>1000.000000</td>\n",
       "      <td>1000.000000</td>\n",
       "      <td>1000.000000</td>\n",
       "      <td>1000.000000</td>\n",
       "      <td>1000.00000</td>\n",
       "      <td>1000.000000</td>\n",
       "    </tr>\n",
       "    <tr>\n",
       "      <th>mean</th>\n",
       "      <td>60.372000</td>\n",
       "      <td>27.076000</td>\n",
       "      <td>50.031000</td>\n",
       "      <td>4.257220</td>\n",
       "      <td>99.58800</td>\n",
       "      <td>372.502623</td>\n",
       "    </tr>\n",
       "    <tr>\n",
       "      <th>std</th>\n",
       "      <td>23.701506</td>\n",
       "      <td>19.068346</td>\n",
       "      <td>29.313774</td>\n",
       "      <td>0.435781</td>\n",
       "      <td>49.16545</td>\n",
       "      <td>187.158756</td>\n",
       "    </tr>\n",
       "    <tr>\n",
       "      <th>min</th>\n",
       "      <td>20.000000</td>\n",
       "      <td>5.000000</td>\n",
       "      <td>0.000000</td>\n",
       "      <td>3.500000</td>\n",
       "      <td>10.00000</td>\n",
       "      <td>25.993449</td>\n",
       "    </tr>\n",
       "    <tr>\n",
       "      <th>25%</th>\n",
       "      <td>40.000000</td>\n",
       "      <td>11.000000</td>\n",
       "      <td>25.000000</td>\n",
       "      <td>3.870000</td>\n",
       "      <td>59.75000</td>\n",
       "      <td>221.365202</td>\n",
       "    </tr>\n",
       "    <tr>\n",
       "      <th>50%</th>\n",
       "      <td>60.000000</td>\n",
       "      <td>22.000000</td>\n",
       "      <td>51.000000</td>\n",
       "      <td>4.270000</td>\n",
       "      <td>102.00000</td>\n",
       "      <td>362.019426</td>\n",
       "    </tr>\n",
       "    <tr>\n",
       "      <th>75%</th>\n",
       "      <td>81.000000</td>\n",
       "      <td>38.000000</td>\n",
       "      <td>75.000000</td>\n",
       "      <td>4.632500</td>\n",
       "      <td>143.00000</td>\n",
       "      <td>510.497504</td>\n",
       "    </tr>\n",
       "    <tr>\n",
       "      <th>max</th>\n",
       "      <td>100.000000</td>\n",
       "      <td>89.000000</td>\n",
       "      <td>100.000000</td>\n",
       "      <td>5.000000</td>\n",
       "      <td>180.00000</td>\n",
       "      <td>836.116419</td>\n",
       "    </tr>\n",
       "  </tbody>\n",
       "</table>\n",
       "</div>"
      ],
      "text/plain": [
       "       Number_of_Riders  Number_of_Drivers  Number_of_Past_Rides  \\\n",
       "count       1000.000000        1000.000000           1000.000000   \n",
       "mean          60.372000          27.076000             50.031000   \n",
       "std           23.701506          19.068346             29.313774   \n",
       "min           20.000000           5.000000              0.000000   \n",
       "25%           40.000000          11.000000             25.000000   \n",
       "50%           60.000000          22.000000             51.000000   \n",
       "75%           81.000000          38.000000             75.000000   \n",
       "max          100.000000          89.000000            100.000000   \n",
       "\n",
       "       Average_Ratings  Expected_Ride_Duration  Historical_Cost_of_Ride  \n",
       "count      1000.000000              1000.00000              1000.000000  \n",
       "mean          4.257220                99.58800               372.502623  \n",
       "std           0.435781                49.16545               187.158756  \n",
       "min           3.500000                10.00000                25.993449  \n",
       "25%           3.870000                59.75000               221.365202  \n",
       "50%           4.270000               102.00000               362.019426  \n",
       "75%           4.632500               143.00000               510.497504  \n",
       "max           5.000000               180.00000               836.116419  "
      ]
     },
     "execution_count": 2,
     "metadata": {},
     "output_type": "execute_result"
    }
   ],
   "source": [
    "price.describe()"
   ]
  },
  {
   "cell_type": "markdown",
   "id": "bade54bf-0e91-4475-bde8-436df93227f4",
   "metadata": {},
   "source": [
    "Now let’s have a look at the relationship between expected ride duration and the historical cost of the ride:"
   ]
  },
  {
   "cell_type": "code",
   "execution_count": 3,
   "id": "47fb607e-47f6-43cb-82fe-db4bcc511173",
   "metadata": {},
   "outputs": [
    {
     "data": {
      "application/vnd.plotly.v1+json": {
       "config": {
        "plotlyServerURL": "https://plot.ly"
       },
       "data": [
        {
         "hovertemplate": "Expected_Ride_Duration=%{x}<br>Historical_Cost_of_Ride=%{y}<extra></extra>",
         "legendgroup": "",
         "marker": {
          "color": "#636efa",
          "symbol": "circle"
         },
         "mode": "markers",
         "name": "",
         "orientation": "v",
         "showlegend": false,
         "type": "scatter",
         "x": {
          "bdata": "WgArAEwAhgCVAIAAEAAvAIAAgACnAJAApABTAGYAjAA2AA8AFgBXAAsADwCLAC0AQQCiAB4AngCBAIMAUQCZADAAaQBNAFsAXgBlAFkAqgBcAC0AfQCmAHQAWwChAGAAIAB7AHUANQBBAHAAagCWAEQAgABZAF4ARQBiAB0AUQCkAFsAkwAcAKkAQABiAA8AQwBfAIQAYAA8AHAAKABOAFIAYgCPADQAVgCMABIAMAAtAKcAcQBQADoAfgBfAGkAnACaAIoALQCYAC0AgwCYADUAEAA8AHkApgAqAKEALwArAKsAiAA1AF0ADQB9AFkAeABHAH8AbAChAK4AqwAKAIwAmgCUAHkACwCYAF0AFwAnAIQAWgAZAC4AoACWADQAFwBdAA0AfQAtAH4ACgBwAIwAXAAxALAArwAmAKAAngBDAJQAjABtADAArwBUAAoAkQAVAEgAVwCLAEsADgBgAB8AVwA1AFUAOABEACQAGAAaAK0AVwCLAD0ArwAzAKwAqgB+AC8ALQCCAIYAYQCLAEcATQA0AKQAPwBZAHcAkgB/AHMAOACkAJ0AsABFAGQAGwCnAHcANQByAKIATQBCAKQACgCvAB4ADgCAACQAYAAqAEcAHwCuAGAAfwCNAIEAlwAaAGcAVQBzAHYAYwAMAFAAsQCTACAAqABfAJAARQBnAJ8AWgBIAD8AjwCjAFYARACzACEAqwBIACAAfgCjAGUAhQCyAJoAhgBwAIIAkACuAIYAsACBAFcAEgArAIQAfAB0AEIAlQBbAKkARgAYAH8AJQCnALQAdABuADwATwBHAGoAVQCdAIUApgCtAIYAjABuAK4AOACjAKIAggBgAD0AMgAtAK0AWgBgAJ4AfgCdAIYArwAoAGoAmAAsAGQAZgBFAA8AgwASAB0AFgCjAGQAbgBhAIgAgwCSAJMAQACWAEIAZABCAFYAowCNADoASwByAJAAagCoACIApgBuADAAWgBjAEUAoACDAGQAGABzAH8AcACRADEAQABlAKkALQANAI4APAAoAIYAZwCiAJgAWABpAHkAGgC0AD4AhABHACYAFwCJAFAAOACCAEsAXwBiABwAEwB9ABcAHgCsAEQAIwBXAHQAjwAKAG0APAAQACMAFgCSAKgAcwAcAEkACwAfAD8AIACcAIQAJQBXALQAswBMAAoAHgCnAJoANAAWAG8AlAAjADgAJwCVADMAPQAMADkAVQCXAGoAEgCoAIIAewCPADkAIABuAKIAQQClAI0ArACbAEoAjgAmAHwAZwA1AE0AMwCtAEUAIABGAI8AYQCoAHsAkwAYAK4ASwAkABAALgAqAH8AnwCgAJEALgBOADIAQQB8AJQASwCNAFAAKwCtAFMAKQCmADAAawCEAHIAXgBzAEkASAChAGsAeQBvAH0AOwCZAEoAlgBUAGYAfgBvAFMAkwATAIoAPQByAE0ATABTAJ0AfwBGAEoAiwCKAJwAdQA3AKQAjgAWADcAIABrAHkAcQAxAIIAlQB5AJ8AUwA0AA4AIQCeAFUAHQCrADoANQA5AG4AHwBlACwAGAAWAAoAFwCdALMAKQCpABMAbwCWALEARACWAJMAoQCwAIAAcwB+AGoAmgB5AGUAQgCOAIAAbwCoAIgAEgBQAGUAggBxAE4AcwBsAD4AgQBrADUAfQCdAKsAWgB2AFoAMgA8AJMADACiAJAAVgCsAEUAagCpAEAAjQCqACMAkQBmAF4AFQAsAF4AsgByAKYAkgCiABAAVwCCAC0AqgB2AJcAeQCwAJMAEAAdAIEAtABPAB8APQAPACIAaQB5AJIADQCXAC8AhABsAIcAJgATALQAbwAMAFUAfABwAEYADQClAEwAjQBnAGkAEgCwAGMAawBKADAASQCsAFcAKwCYACcAFQBrABoAYgBDAK0AlwCwAB0AigAvAFMAfQBTADMAjABMABAASABvABQAgABAAFEAawCaALQAogCkAJgAnQCsAIYApwBvABAAnwCUACYAkACaALMAegCsAKMAQwBhACkAmgBBAJQAgQCaAHQAkgBPAF0AmQA8AI4AnQB7AHYAjQCrAKcAIQAdAA0ASABtAD0ATQBtAFYAegC0ADEAFACVAIUAFABnAFAAQACoACYAUwALACAAFQCwAGwAPgCbAHMAsgBcAKQALwBWAHoAMQCnAEQAZQCTABAAegBuAE4AaQCqABoAngCoAIsAGgCbAIwASwAkAG0AVQBcAF0AYwBPAJAAmQCWAE0AaACsAGQAjQCJAFgAGQCHAEwAZABWAC4AXAB4AHoAQgBnAJkAXgAgADIApwCPAGcAVACQAB0AqQB7AAoADQCTAG8AIwBBAFwAsQByAAwAfwCNAC0AlwChAH4AiQA+ADAAoABKAEYAcQCXAGsAcwBGADcAdQCzAIUAbgBFADcAGQAtAGEAUQBmAG4AhgAuACUArQChAFYAHwAPALEAUgAyAAsAgQCfABgAqQBkACIAiwCQAJQAWQBEAG0AogBJAHEAkwAlAJsATAAUAHUAIABfADIAaQCMACYAWQAcAKYAYQBCAKoAgQBJAGMAbQC0AFkAYgCKAG0AMwClAEoAigCpAK8AGAAdAF8AUQBjALEAHAB0ALIAlQCuAIIAQwAPAHIAKgCCAKAAnAARAAsAXgAoADoAkwA=",
          "dtype": "i2"
         },
         "xaxis": "x",
         "y": {
          "bdata": "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",
          "dtype": "f8"
         },
         "yaxis": "y"
        },
        {
         "hovertemplate": "<b>OLS trendline</b><br>Historical_Cost_of_Ride = 3.53091 * Expected_Ride_Duration + 20.8668<br>R<sup>2</sup>=0.860344<br><br>Expected_Ride_Duration=%{x}<br>Historical_Cost_of_Ride=%{y} <b>(trend)</b><extra></extra>",
         "legendgroup": "",
         "marker": {
          "color": "#636efa",
          "symbol": "circle"
         },
         "mode": "lines",
         "name": "",
         "showlegend": false,
         "type": "scatter",
         "x": {
          "bdata": "CgAKAAoACgAKAAoACgAKAAsACwALAAsACwALAAwADAAMAAwADAANAA0ADQANAA0ADQANAA4ADgAOAA8ADwAPAA8ADwAPAA8AEAAQABAAEAAQABAAEAAQABAAEQASABIAEgASABIAEgATABMAEwATABQAFAAUABQAFQAVABUAFQAWABYAFgAWABYAFgAXABcAFwAXABcAGAAYABgAGAAYABgAGAAZABkAGQAaABoAGgAaABoAGgAbABwAHAAcABwAHAAdAB0AHQAdAB0AHQAdAB0AHgAeAB4AHgAfAB8AHwAfAB8AHwAgACAAIAAgACAAIAAgACAAIAAgACEAIQAhACIAIgAiACMAIwAjACMAIwAkACQAJAAkACUAJQAlACUAJgAmACYAJgAmACYAJgAnACcAJwAoACgAKAAoACkAKQApACoAKgAqACoAKwArACsAKwArACwALAAsAC0ALQAtAC0ALQAtAC0ALQAtAC0ALQAtAC4ALgAuAC4ALgAvAC8ALwAvAC8ALwAwADAAMAAwADAAMAAwADEAMQAxADEAMQAyADIAMgAyADIAMgAzADMAMwAzADMANAA0ADQANAA0ADUANQA1ADUANQA1ADUANQA2ADcANwA3ADcAOAA4ADgAOAA4ADkAOQA5ADoAOgA6ADoAOwA8ADwAPAA8ADwAPAA8AD0APQA9AD0APQA9AD4APgA+AD4APwA/AD8AQABAAEAAQABAAEAAQQBBAEEAQQBBAEEAQgBCAEIAQgBCAEIAQgBDAEMAQwBDAEMARABEAEQARABEAEQARABFAEUARQBFAEUARQBFAEUARgBGAEYARgBGAEYARwBHAEcARwBHAEgASABIAEgASABIAEkASQBJAEkASQBKAEoASgBKAEoASgBLAEsASwBLAEsASwBMAEwATABMAEwATABMAE0ATQBNAE0ATQBNAE0ATgBOAE4ATgBPAE8ATwBPAFAAUABQAFAAUABQAFEAUQBRAFEAUQBSAFIAUwBTAFMAUwBTAFMAUwBTAFQAVABUAFUAVQBVAFUAVQBVAFUAVgBWAFYAVgBWAFYAVgBWAFcAVwBXAFcAVwBXAFcAVwBXAFgAWABZAFkAWQBZAFkAWQBZAFoAWgBaAFoAWgBaAFoAWwBbAFsAWwBcAFwAXABcAFwAXABdAF0AXQBdAF0AXgBeAF4AXgBeAF4AXgBfAF8AXwBfAF8AXwBgAGAAYABgAGAAYABgAGEAYQBhAGEAYQBhAGIAYgBiAGIAYgBiAGMAYwBjAGMAYwBjAGQAZABkAGQAZABkAGQAZABlAGUAZQBlAGUAZQBlAGYAZgBmAGYAZgBnAGcAZwBnAGcAZwBnAGcAaABpAGkAaQBpAGkAaQBpAGoAagBqAGoAagBqAGoAawBrAGsAawBrAGsAawBrAGwAbABsAGwAbQBtAG0AbQBtAG0AbQBtAG4AbgBuAG4AbgBuAG4AbgBuAG8AbwBvAG8AbwBvAG8AbwBvAHAAcABwAHAAcABwAHEAcQBxAHEAcQByAHIAcgByAHIAcgByAHMAcwBzAHMAcwBzAHMAcwBzAHQAdAB0AHQAdAB0AHUAdQB1AHUAdgB2AHYAdgB3AHcAeAB4AHkAeQB5AHkAeQB5AHkAeQB5AHoAegB6AHoAegB7AHsAewB7AHsAfAB8AHwAfAB9AH0AfQB9AH0AfQB9AH4AfgB+AH4AfgB+AH4AfgB/AH8AfwB/AH8AfwB/AH8AgACAAIAAgACAAIAAgACAAIEAgQCBAIEAgQCBAIEAgQCCAIIAggCCAIIAggCCAIIAggCCAIMAgwCDAIMAgwCEAIQAhACEAIQAhACEAIUAhQCFAIUAhgCGAIYAhgCGAIYAhgCGAIYAhwCHAIgAiACIAIkAiQCJAIoAigCKAIoAigCKAIsAiwCLAIsAiwCLAIsAjACMAIwAjACMAIwAjACMAIwAjQCNAI0AjQCNAI0AjQCNAI0AjgCOAI4AjgCOAI8AjwCPAI8AjwCPAJAAkACQAJAAkACQAJAAkACQAJEAkQCRAJEAkgCSAJIAkgCSAJIAkwCTAJMAkwCTAJMAkwCTAJMAkwCTAJMAlACUAJQAlACUAJQAlACVAJUAlQCVAJUAlQCWAJYAlgCWAJYAlgCWAJcAlwCXAJcAlwCXAJcAmACYAJgAmACYAJgAmACZAJkAmQCZAJkAmgCaAJoAmgCaAJoAmgCaAJoAmwCbAJsAmwCcAJwAnACcAJ0AnQCdAJ0AnQCdAJ0AnQCeAJ4AngCeAJ4AnwCfAJ8AnwCfAKAAoACgAKAAoACgAKEAoQChAKEAoQChAKEAogCiAKIAogCiAKIAogCiAKIAowCjAKMAowCjAKMApACkAKQApACkAKQApACkAKUApQClAKYApgCmAKYApgCmAKYApwCnAKcApwCnAKcApwCnAKcAqACoAKgAqACoAKgAqACoAKkAqQCpAKkAqQCpAKkAqQCqAKoAqgCqAKoAqgCrAKsAqwCrAKsAqwCsAKwArACsAKwArACsAKwArQCtAK0ArQCtAK0ArQCuAK4ArgCuAK4ArgCvAK8ArwCvAK8ArwCwALAAsACwALAAsACwALAAsQCxALEAsQCxALIAsgCyALIAswCzALMAswCzALQAtAC0ALQAtAC0ALQAtAA=",
          "dtype": "i2"
         },
         "xaxis": "x",
         "y": {
          "bdata": "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",
          "dtype": "f8"
         },
         "yaxis": "y"
        }
       ],
       "layout": {
        "legend": {
         "tracegroupgap": 0
        },
        "template": {
         "data": {
          "bar": [
           {
            "error_x": {
             "color": "#2a3f5f"
            },
            "error_y": {
             "color": "#2a3f5f"
            },
            "marker": {
             "line": {
              "color": "#E5ECF6",
              "width": 0.5
             },
             "pattern": {
              "fillmode": "overlay",
              "size": 10,
              "solidity": 0.2
             }
            },
            "type": "bar"
           }
          ],
          "barpolar": [
           {
            "marker": {
             "line": {
              "color": "#E5ECF6",
              "width": 0.5
             },
             "pattern": {
              "fillmode": "overlay",
              "size": 10,
              "solidity": 0.2
             }
            },
            "type": "barpolar"
           }
          ],
          "carpet": [
           {
            "aaxis": {
             "endlinecolor": "#2a3f5f",
             "gridcolor": "white",
             "linecolor": "white",
             "minorgridcolor": "white",
             "startlinecolor": "#2a3f5f"
            },
            "baxis": {
             "endlinecolor": "#2a3f5f",
             "gridcolor": "white",
             "linecolor": "white",
             "minorgridcolor": "white",
             "startlinecolor": "#2a3f5f"
            },
            "type": "carpet"
           }
          ],
          "choropleth": [
           {
            "colorbar": {
             "outlinewidth": 0,
             "ticks": ""
            },
            "type": "choropleth"
           }
          ],
          "contour": [
           {
            "colorbar": {
             "outlinewidth": 0,
             "ticks": ""
            },
            "colorscale": [
             [
              0,
              "#0d0887"
             ],
             [
              0.1111111111111111,
              "#46039f"
             ],
             [
              0.2222222222222222,
              "#7201a8"
             ],
             [
              0.3333333333333333,
              "#9c179e"
             ],
             [
              0.4444444444444444,
              "#bd3786"
             ],
             [
              0.5555555555555556,
              "#d8576b"
             ],
             [
              0.6666666666666666,
              "#ed7953"
             ],
             [
              0.7777777777777778,
              "#fb9f3a"
             ],
             [
              0.8888888888888888,
              "#fdca26"
             ],
             [
              1,
              "#f0f921"
             ]
            ],
            "type": "contour"
           }
          ],
          "contourcarpet": [
           {
            "colorbar": {
             "outlinewidth": 0,
             "ticks": ""
            },
            "type": "contourcarpet"
           }
          ],
          "heatmap": [
           {
            "colorbar": {
             "outlinewidth": 0,
             "ticks": ""
            },
            "colorscale": [
             [
              0,
              "#0d0887"
             ],
             [
              0.1111111111111111,
              "#46039f"
             ],
             [
              0.2222222222222222,
              "#7201a8"
             ],
             [
              0.3333333333333333,
              "#9c179e"
             ],
             [
              0.4444444444444444,
              "#bd3786"
             ],
             [
              0.5555555555555556,
              "#d8576b"
             ],
             [
              0.6666666666666666,
              "#ed7953"
             ],
             [
              0.7777777777777778,
              "#fb9f3a"
             ],
             [
              0.8888888888888888,
              "#fdca26"
             ],
             [
              1,
              "#f0f921"
             ]
            ],
            "type": "heatmap"
           }
          ],
          "histogram": [
           {
            "marker": {
             "pattern": {
              "fillmode": "overlay",
              "size": 10,
              "solidity": 0.2
             }
            },
            "type": "histogram"
           }
          ],
          "histogram2d": [
           {
            "colorbar": {
             "outlinewidth": 0,
             "ticks": ""
            },
            "colorscale": [
             [
              0,
              "#0d0887"
             ],
             [
              0.1111111111111111,
              "#46039f"
             ],
             [
              0.2222222222222222,
              "#7201a8"
             ],
             [
              0.3333333333333333,
              "#9c179e"
             ],
             [
              0.4444444444444444,
              "#bd3786"
             ],
             [
              0.5555555555555556,
              "#d8576b"
             ],
             [
              0.6666666666666666,
              "#ed7953"
             ],
             [
              0.7777777777777778,
              "#fb9f3a"
             ],
             [
              0.8888888888888888,
              "#fdca26"
             ],
             [
              1,
              "#f0f921"
             ]
            ],
            "type": "histogram2d"
           }
          ],
          "histogram2dcontour": [
           {
            "colorbar": {
             "outlinewidth": 0,
             "ticks": ""
            },
            "colorscale": [
             [
              0,
              "#0d0887"
             ],
             [
              0.1111111111111111,
              "#46039f"
             ],
             [
              0.2222222222222222,
              "#7201a8"
             ],
             [
              0.3333333333333333,
              "#9c179e"
             ],
             [
              0.4444444444444444,
              "#bd3786"
             ],
             [
              0.5555555555555556,
              "#d8576b"
             ],
             [
              0.6666666666666666,
              "#ed7953"
             ],
             [
              0.7777777777777778,
              "#fb9f3a"
             ],
             [
              0.8888888888888888,
              "#fdca26"
             ],
             [
              1,
              "#f0f921"
             ]
            ],
            "type": "histogram2dcontour"
           }
          ],
          "mesh3d": [
           {
            "colorbar": {
             "outlinewidth": 0,
             "ticks": ""
            },
            "type": "mesh3d"
           }
          ],
          "parcoords": [
           {
            "line": {
             "colorbar": {
              "outlinewidth": 0,
              "ticks": ""
             }
            },
            "type": "parcoords"
           }
          ],
          "pie": [
           {
            "automargin": true,
            "type": "pie"
           }
          ],
          "scatter": [
           {
            "fillpattern": {
             "fillmode": "overlay",
             "size": 10,
             "solidity": 0.2
            },
            "type": "scatter"
           }
          ],
          "scatter3d": [
           {
            "line": {
             "colorbar": {
              "outlinewidth": 0,
              "ticks": ""
             }
            },
            "marker": {
             "colorbar": {
              "outlinewidth": 0,
              "ticks": ""
             }
            },
            "type": "scatter3d"
           }
          ],
          "scattercarpet": [
           {
            "marker": {
             "colorbar": {
              "outlinewidth": 0,
              "ticks": ""
             }
            },
            "type": "scattercarpet"
           }
          ],
          "scattergeo": [
           {
            "marker": {
             "colorbar": {
              "outlinewidth": 0,
              "ticks": ""
             }
            },
            "type": "scattergeo"
           }
          ],
          "scattergl": [
           {
            "marker": {
             "colorbar": {
              "outlinewidth": 0,
              "ticks": ""
             }
            },
            "type": "scattergl"
           }
          ],
          "scattermap": [
           {
            "marker": {
             "colorbar": {
              "outlinewidth": 0,
              "ticks": ""
             }
            },
            "type": "scattermap"
           }
          ],
          "scattermapbox": [
           {
            "marker": {
             "colorbar": {
              "outlinewidth": 0,
              "ticks": ""
             }
            },
            "type": "scattermapbox"
           }
          ],
          "scatterpolar": [
           {
            "marker": {
             "colorbar": {
              "outlinewidth": 0,
              "ticks": ""
             }
            },
            "type": "scatterpolar"
           }
          ],
          "scatterpolargl": [
           {
            "marker": {
             "colorbar": {
              "outlinewidth": 0,
              "ticks": ""
             }
            },
            "type": "scatterpolargl"
           }
          ],
          "scatterternary": [
           {
            "marker": {
             "colorbar": {
              "outlinewidth": 0,
              "ticks": ""
             }
            },
            "type": "scatterternary"
           }
          ],
          "surface": [
           {
            "colorbar": {
             "outlinewidth": 0,
             "ticks": ""
            },
            "colorscale": [
             [
              0,
              "#0d0887"
             ],
             [
              0.1111111111111111,
              "#46039f"
             ],
             [
              0.2222222222222222,
              "#7201a8"
             ],
             [
              0.3333333333333333,
              "#9c179e"
             ],
             [
              0.4444444444444444,
              "#bd3786"
             ],
             [
              0.5555555555555556,
              "#d8576b"
             ],
             [
              0.6666666666666666,
              "#ed7953"
             ],
             [
              0.7777777777777778,
              "#fb9f3a"
             ],
             [
              0.8888888888888888,
              "#fdca26"
             ],
             [
              1,
              "#f0f921"
             ]
            ],
            "type": "surface"
           }
          ],
          "table": [
           {
            "cells": {
             "fill": {
              "color": "#EBF0F8"
             },
             "line": {
              "color": "white"
             }
            },
            "header": {
             "fill": {
              "color": "#C8D4E3"
             },
             "line": {
              "color": "white"
             }
            },
            "type": "table"
           }
          ]
         },
         "layout": {
          "annotationdefaults": {
           "arrowcolor": "#2a3f5f",
           "arrowhead": 0,
           "arrowwidth": 1
          },
          "autotypenumbers": "strict",
          "coloraxis": {
           "colorbar": {
            "outlinewidth": 0,
            "ticks": ""
           }
          },
          "colorscale": {
           "diverging": [
            [
             0,
             "#8e0152"
            ],
            [
             0.1,
             "#c51b7d"
            ],
            [
             0.2,
             "#de77ae"
            ],
            [
             0.3,
             "#f1b6da"
            ],
            [
             0.4,
             "#fde0ef"
            ],
            [
             0.5,
             "#f7f7f7"
            ],
            [
             0.6,
             "#e6f5d0"
            ],
            [
             0.7,
             "#b8e186"
            ],
            [
             0.8,
             "#7fbc41"
            ],
            [
             0.9,
             "#4d9221"
            ],
            [
             1,
             "#276419"
            ]
           ],
           "sequential": [
            [
             0,
             "#0d0887"
            ],
            [
             0.1111111111111111,
             "#46039f"
            ],
            [
             0.2222222222222222,
             "#7201a8"
            ],
            [
             0.3333333333333333,
             "#9c179e"
            ],
            [
             0.4444444444444444,
             "#bd3786"
            ],
            [
             0.5555555555555556,
             "#d8576b"
            ],
            [
             0.6666666666666666,
             "#ed7953"
            ],
            [
             0.7777777777777778,
             "#fb9f3a"
            ],
            [
             0.8888888888888888,
             "#fdca26"
            ],
            [
             1,
             "#f0f921"
            ]
           ],
           "sequentialminus": [
            [
             0,
             "#0d0887"
            ],
            [
             0.1111111111111111,
             "#46039f"
            ],
            [
             0.2222222222222222,
             "#7201a8"
            ],
            [
             0.3333333333333333,
             "#9c179e"
            ],
            [
             0.4444444444444444,
             "#bd3786"
            ],
            [
             0.5555555555555556,
             "#d8576b"
            ],
            [
             0.6666666666666666,
             "#ed7953"
            ],
            [
             0.7777777777777778,
             "#fb9f3a"
            ],
            [
             0.8888888888888888,
             "#fdca26"
            ],
            [
             1,
             "#f0f921"
            ]
           ]
          },
          "colorway": [
           "#636efa",
           "#EF553B",
           "#00cc96",
           "#ab63fa",
           "#FFA15A",
           "#19d3f3",
           "#FF6692",
           "#B6E880",
           "#FF97FF",
           "#FECB52"
          ],
          "font": {
           "color": "#2a3f5f"
          },
          "geo": {
           "bgcolor": "white",
           "lakecolor": "white",
           "landcolor": "#E5ECF6",
           "showlakes": true,
           "showland": true,
           "subunitcolor": "white"
          },
          "hoverlabel": {
           "align": "left"
          },
          "hovermode": "closest",
          "mapbox": {
           "style": "light"
          },
          "paper_bgcolor": "white",
          "plot_bgcolor": "#E5ECF6",
          "polar": {
           "angularaxis": {
            "gridcolor": "white",
            "linecolor": "white",
            "ticks": ""
           },
           "bgcolor": "#E5ECF6",
           "radialaxis": {
            "gridcolor": "white",
            "linecolor": "white",
            "ticks": ""
           }
          },
          "scene": {
           "xaxis": {
            "backgroundcolor": "#E5ECF6",
            "gridcolor": "white",
            "gridwidth": 2,
            "linecolor": "white",
            "showbackground": true,
            "ticks": "",
            "zerolinecolor": "white"
           },
           "yaxis": {
            "backgroundcolor": "#E5ECF6",
            "gridcolor": "white",
            "gridwidth": 2,
            "linecolor": "white",
            "showbackground": true,
            "ticks": "",
            "zerolinecolor": "white"
           },
           "zaxis": {
            "backgroundcolor": "#E5ECF6",
            "gridcolor": "white",
            "gridwidth": 2,
            "linecolor": "white",
            "showbackground": true,
            "ticks": "",
            "zerolinecolor": "white"
           }
          },
          "shapedefaults": {
           "line": {
            "color": "#2a3f5f"
           }
          },
          "ternary": {
           "aaxis": {
            "gridcolor": "white",
            "linecolor": "white",
            "ticks": ""
           },
           "baxis": {
            "gridcolor": "white",
            "linecolor": "white",
            "ticks": ""
           },
           "bgcolor": "#E5ECF6",
           "caxis": {
            "gridcolor": "white",
            "linecolor": "white",
            "ticks": ""
           }
          },
          "title": {
           "x": 0.05
          },
          "xaxis": {
           "automargin": true,
           "gridcolor": "white",
           "linecolor": "white",
           "ticks": "",
           "title": {
            "standoff": 15
           },
           "zerolinecolor": "white",
           "zerolinewidth": 2
          },
          "yaxis": {
           "automargin": true,
           "gridcolor": "white",
           "linecolor": "white",
           "ticks": "",
           "title": {
            "standoff": 15
           },
           "zerolinecolor": "white",
           "zerolinewidth": 2
          }
         }
        },
        "title": {
         "text": "Expected Ride Duration VS Historical Cost of Ride"
        },
        "xaxis": {
         "anchor": "y",
         "domain": [
          0,
          1
         ],
         "title": {
          "text": "Expected_Ride_Duration"
         }
        },
        "yaxis": {
         "anchor": "x",
         "domain": [
          0,
          1
         ],
         "title": {
          "text": "Historical_Cost_of_Ride"
         }
        }
       }
      }
     },
     "metadata": {},
     "output_type": "display_data"
    }
   ],
   "source": [
    "fig_durationVScost = px.scatter(price , x = \"Expected_Ride_Duration\" , y = \"Historical_Cost_of_Ride\",\n",
    "                               title= \"Expected Ride Duration VS Historical Cost of Ride\" , trendline= \"ols\")\n",
    "fig_durationVScost.show()"
   ]
  },
  {
   "cell_type": "code",
   "execution_count": 4,
   "id": "3ce5941f-1c7a-4e2b-9746-5c014c6ed4f6",
   "metadata": {},
   "outputs": [
    {
     "data": {
      "text/plain": [
       "Index(['Number_of_Riders', 'Number_of_Drivers', 'Location_Category',\n",
       "       'Customer_Loyalty_Status', 'Number_of_Past_Rides', 'Average_Ratings',\n",
       "       'Time_of_Booking', 'Vehicle_Type', 'Expected_Ride_Duration',\n",
       "       'Historical_Cost_of_Ride'],\n",
       "      dtype='object')"
      ]
     },
     "execution_count": 4,
     "metadata": {},
     "output_type": "execute_result"
    }
   ],
   "source": [
    "price.columns"
   ]
  },
  {
   "cell_type": "markdown",
   "id": "3bb76500-be84-4cde-9ae0-bf0daf0ce581",
   "metadata": {},
   "source": [
    "Now let’s have a look at the distribution of the historical cost of rides based on the vehicle type:"
   ]
  },
  {
   "cell_type": "code",
   "execution_count": 5,
   "id": "62943339-4344-4f5a-b0a9-9afcbaf17ff5",
   "metadata": {},
   "outputs": [
    {
     "data": {
      "application/vnd.plotly.v1+json": {
       "config": {
        "plotlyServerURL": "https://plot.ly"
       },
       "data": [
        {
         "alignmentgroup": "True",
         "hovertemplate": "Vehicle_Type=%{x}<br>Historical_Cost_of_Ride=%{y}<extra></extra>",
         "legendgroup": "",
         "marker": {
          "color": "#636efa"
         },
         "name": "",
         "notched": false,
         "offsetgroup": "",
         "orientation": "v",
         "showlegend": false,
         "type": "box",
         "x": [
          "Premium",
          "Economy",
          "Premium",
          "Premium",
          "Economy",
          "Economy",
          "Premium",
          "Premium",
          "Economy",
          "Premium",
          "Economy",
          "Premium",
          "Economy",
          "Premium",
          "Premium",
          "Premium",
          "Premium",
          "Economy",
          "Premium",
          "Premium",
          "Premium",
          "Economy",
          "Economy",
          "Premium",
          "Premium",
          "Economy",
          "Premium",
          "Economy",
          "Premium",
          "Premium",
          "Premium",
          "Premium",
          "Premium",
          "Premium",
          "Economy",
          "Premium",
          "Premium",
          "Premium",
          "Economy",
          "Premium",
          "Premium",
          "Economy",
          "Economy",
          "Premium",
          "Premium",
          "Economy",
          "Premium",
          "Premium",
          "Economy",
          "Economy",
          "Economy",
          "Economy",
          "Economy",
          "Premium",
          "Premium",
          "Premium",
          "Economy",
          "Premium",
          "Economy",
          "Economy",
          "Economy",
          "Premium",
          "Premium",
          "Premium",
          "Economy",
          "Premium",
          "Economy",
          "Economy",
          "Economy",
          "Premium",
          "Economy",
          "Economy",
          "Premium",
          "Premium",
          "Economy",
          "Economy",
          "Economy",
          "Economy",
          "Premium",
          "Premium",
          "Premium",
          "Premium",
          "Economy",
          "Premium",
          "Economy",
          "Premium",
          "Economy",
          "Premium",
          "Economy",
          "Economy",
          "Premium",
          "Premium",
          "Premium",
          "Premium",
          "Economy",
          "Premium",
          "Economy",
          "Economy",
          "Premium",
          "Economy",
          "Economy",
          "Economy",
          "Premium",
          "Premium",
          "Premium",
          "Premium",
          "Economy",
          "Economy",
          "Premium",
          "Premium",
          "Economy",
          "Economy",
          "Premium",
          "Premium",
          "Economy",
          "Premium",
          "Economy",
          "Premium",
          "Premium",
          "Economy",
          "Premium",
          "Economy",
          "Economy",
          "Premium",
          "Premium",
          "Premium",
          "Premium",
          "Economy",
          "Premium",
          "Premium",
          "Economy",
          "Economy",
          "Economy",
          "Economy",
          "Economy",
          "Premium",
          "Economy",
          "Premium",
          "Economy",
          "Premium",
          "Economy",
          "Economy",
          "Economy",
          "Economy",
          "Economy",
          "Premium",
          "Premium",
          "Economy",
          "Premium",
          "Economy",
          "Economy",
          "Economy",
          "Premium",
          "Premium",
          "Economy",
          "Economy",
          "Premium",
          "Premium",
          "Premium",
          "Premium",
          "Economy",
          "Premium",
          "Economy",
          "Economy",
          "Economy",
          "Economy",
          "Economy",
          "Premium",
          "Economy",
          "Premium",
          "Economy",
          "Economy",
          "Premium",
          "Economy",
          "Economy",
          "Economy",
          "Economy",
          "Economy",
          "Economy",
          "Economy",
          "Economy",
          "Economy",
          "Premium",
          "Premium",
          "Premium",
          "Economy",
          "Premium",
          "Premium",
          "Premium",
          "Premium",
          "Premium",
          "Premium",
          "Economy",
          "Premium",
          "Premium",
          "Economy",
          "Economy",
          "Economy",
          "Economy",
          "Premium",
          "Premium",
          "Economy",
          "Premium",
          "Premium",
          "Economy",
          "Economy",
          "Premium",
          "Premium",
          "Premium",
          "Economy",
          "Economy",
          "Premium",
          "Premium",
          "Economy",
          "Premium",
          "Premium",
          "Economy",
          "Economy",
          "Economy",
          "Economy",
          "Economy",
          "Premium",
          "Economy",
          "Premium",
          "Economy",
          "Premium",
          "Premium",
          "Premium",
          "Economy",
          "Premium",
          "Premium",
          "Premium",
          "Economy",
          "Premium",
          "Economy",
          "Economy",
          "Economy",
          "Economy",
          "Premium",
          "Economy",
          "Premium",
          "Premium",
          "Economy",
          "Economy",
          "Premium",
          "Premium",
          "Economy",
          "Economy",
          "Premium",
          "Premium",
          "Premium",
          "Premium",
          "Premium",
          "Economy",
          "Premium",
          "Premium",
          "Premium",
          "Premium",
          "Premium",
          "Premium",
          "Economy",
          "Economy",
          "Economy",
          "Economy",
          "Premium",
          "Premium",
          "Economy",
          "Premium",
          "Premium",
          "Premium",
          "Economy",
          "Premium",
          "Premium",
          "Premium",
          "Premium",
          "Premium",
          "Premium",
          "Premium",
          "Premium",
          "Economy",
          "Economy",
          "Premium",
          "Economy",
          "Premium",
          "Premium",
          "Premium",
          "Premium",
          "Economy",
          "Economy",
          "Economy",
          "Economy",
          "Economy",
          "Premium",
          "Economy",
          "Economy",
          "Economy",
          "Premium",
          "Premium",
          "Premium",
          "Economy",
          "Premium",
          "Economy",
          "Premium",
          "Economy",
          "Premium",
          "Premium",
          "Economy",
          "Premium",
          "Economy",
          "Premium",
          "Economy",
          "Premium",
          "Economy",
          "Economy",
          "Economy",
          "Premium",
          "Economy",
          "Economy",
          "Premium",
          "Premium",
          "Premium",
          "Premium",
          "Premium",
          "Economy",
          "Premium",
          "Premium",
          "Premium",
          "Premium",
          "Premium",
          "Economy",
          "Economy",
          "Premium",
          "Premium",
          "Premium",
          "Economy",
          "Premium",
          "Economy",
          "Premium",
          "Premium",
          "Premium",
          "Economy",
          "Economy",
          "Premium",
          "Premium",
          "Economy",
          "Economy",
          "Economy",
          "Premium",
          "Premium",
          "Premium",
          "Premium",
          "Premium",
          "Premium",
          "Premium",
          "Economy",
          "Economy",
          "Economy",
          "Premium",
          "Economy",
          "Premium",
          "Economy",
          "Premium",
          "Premium",
          "Economy",
          "Economy",
          "Premium",
          "Economy",
          "Premium",
          "Economy",
          "Economy",
          "Premium",
          "Premium",
          "Premium",
          "Economy",
          "Premium",
          "Premium",
          "Economy",
          "Economy",
          "Economy",
          "Economy",
          "Premium",
          "Economy",
          "Premium",
          "Economy",
          "Premium",
          "Premium",
          "Economy",
          "Premium",
          "Premium",
          "Economy",
          "Economy",
          "Economy",
          "Premium",
          "Premium",
          "Economy",
          "Economy",
          "Economy",
          "Economy",
          "Economy",
          "Economy",
          "Premium",
          "Premium",
          "Premium",
          "Economy",
          "Premium",
          "Economy",
          "Economy",
          "Economy",
          "Economy",
          "Premium",
          "Economy",
          "Premium",
          "Economy",
          "Premium",
          "Economy",
          "Premium",
          "Economy",
          "Premium",
          "Premium",
          "Premium",
          "Premium",
          "Economy",
          "Premium",
          "Economy",
          "Premium",
          "Economy",
          "Economy",
          "Economy",
          "Premium",
          "Economy",
          "Premium",
          "Economy",
          "Economy",
          "Premium",
          "Premium",
          "Premium",
          "Premium",
          "Premium",
          "Premium",
          "Economy",
          "Economy",
          "Premium",
          "Economy",
          "Economy",
          "Premium",
          "Premium",
          "Premium",
          "Economy",
          "Economy",
          "Premium",
          "Premium",
          "Economy",
          "Economy",
          "Economy",
          "Economy",
          "Premium",
          "Premium",
          "Premium",
          "Premium",
          "Premium",
          "Economy",
          "Premium",
          "Premium",
          "Premium",
          "Economy",
          "Economy",
          "Economy",
          "Economy",
          "Economy",
          "Economy",
          "Premium",
          "Premium",
          "Premium",
          "Economy",
          "Premium",
          "Premium",
          "Premium",
          "Economy",
          "Economy",
          "Economy",
          "Economy",
          "Premium",
          "Economy",
          "Premium",
          "Economy",
          "Premium",
          "Economy",
          "Premium",
          "Premium",
          "Economy",
          "Economy",
          "Premium",
          "Premium",
          "Economy",
          "Economy",
          "Premium",
          "Economy",
          "Premium",
          "Premium",
          "Premium",
          "Economy",
          "Economy",
          "Economy",
          "Premium",
          "Premium",
          "Economy",
          "Economy",
          "Economy",
          "Premium",
          "Premium",
          "Economy",
          "Premium",
          "Premium",
          "Premium",
          "Premium",
          "Economy",
          "Premium",
          "Premium",
          "Premium",
          "Economy",
          "Premium",
          "Economy",
          "Premium",
          "Premium",
          "Premium",
          "Economy",
          "Economy",
          "Economy",
          "Premium",
          "Premium",
          "Economy",
          "Economy",
          "Economy",
          "Economy",
          "Premium",
          "Premium",
          "Economy",
          "Economy",
          "Economy",
          "Economy",
          "Economy",
          "Premium",
          "Economy",
          "Premium",
          "Economy",
          "Economy",
          "Economy",
          "Economy",
          "Economy",
          "Economy",
          "Premium",
          "Economy",
          "Economy",
          "Premium",
          "Economy",
          "Economy",
          "Economy",
          "Economy",
          "Economy",
          "Premium",
          "Premium",
          "Economy",
          "Economy",
          "Economy",
          "Economy",
          "Premium",
          "Economy",
          "Economy",
          "Premium",
          "Premium",
          "Economy",
          "Economy",
          "Premium",
          "Economy",
          "Economy",
          "Economy",
          "Economy",
          "Premium",
          "Premium",
          "Economy",
          "Economy",
          "Economy",
          "Economy",
          "Premium",
          "Economy",
          "Premium",
          "Economy",
          "Economy",
          "Premium",
          "Economy",
          "Economy",
          "Economy",
          "Premium",
          "Economy",
          "Premium",
          "Economy",
          "Premium",
          "Economy",
          "Premium",
          "Economy",
          "Economy",
          "Premium",
          "Economy",
          "Premium",
          "Premium",
          "Premium",
          "Premium",
          "Economy",
          "Economy",
          "Premium",
          "Premium",
          "Economy",
          "Economy",
          "Premium",
          "Premium",
          "Economy",
          "Economy",
          "Premium",
          "Economy",
          "Premium",
          "Economy",
          "Premium",
          "Economy",
          "Premium",
          "Premium",
          "Premium",
          "Economy",
          "Economy",
          "Premium",
          "Economy",
          "Economy",
          "Premium",
          "Premium",
          "Economy",
          "Premium",
          "Economy",
          "Economy",
          "Premium",
          "Premium",
          "Premium",
          "Premium",
          "Economy",
          "Premium",
          "Premium",
          "Premium",
          "Premium",
          "Premium",
          "Economy",
          "Premium",
          "Economy",
          "Economy",
          "Premium",
          "Economy",
          "Premium",
          "Economy",
          "Economy",
          "Economy",
          "Economy",
          "Economy",
          "Economy",
          "Premium",
          "Premium",
          "Premium",
          "Premium",
          "Economy",
          "Premium",
          "Premium",
          "Economy",
          "Premium",
          "Economy",
          "Premium",
          "Economy",
          "Economy",
          "Premium",
          "Premium",
          "Economy",
          "Economy",
          "Economy",
          "Economy",
          "Economy",
          "Economy",
          "Premium",
          "Premium",
          "Economy",
          "Economy",
          "Economy",
          "Premium",
          "Premium",
          "Premium",
          "Premium",
          "Economy",
          "Economy",
          "Economy",
          "Premium",
          "Premium",
          "Economy",
          "Economy",
          "Economy",
          "Economy",
          "Premium",
          "Premium",
          "Economy",
          "Economy",
          "Premium",
          "Economy",
          "Economy",
          "Premium",
          "Premium",
          "Premium",
          "Economy",
          "Premium",
          "Premium",
          "Premium",
          "Economy",
          "Economy",
          "Premium",
          "Premium",
          "Economy",
          "Premium",
          "Premium",
          "Premium",
          "Premium",
          "Economy",
          "Premium",
          "Economy",
          "Economy",
          "Premium",
          "Economy",
          "Premium",
          "Premium",
          "Economy",
          "Premium",
          "Premium",
          "Economy",
          "Premium",
          "Economy",
          "Premium",
          "Economy",
          "Premium",
          "Premium",
          "Premium",
          "Premium",
          "Economy",
          "Premium",
          "Premium",
          "Premium",
          "Economy",
          "Premium",
          "Economy",
          "Premium",
          "Premium",
          "Premium",
          "Economy",
          "Economy",
          "Premium",
          "Economy",
          "Economy",
          "Premium",
          "Economy",
          "Premium",
          "Premium",
          "Economy",
          "Premium",
          "Premium",
          "Premium",
          "Premium",
          "Economy",
          "Premium",
          "Premium",
          "Economy",
          "Economy",
          "Economy",
          "Economy",
          "Economy",
          "Economy",
          "Premium",
          "Economy",
          "Economy",
          "Economy",
          "Economy",
          "Premium",
          "Economy",
          "Premium",
          "Premium",
          "Economy",
          "Premium",
          "Premium",
          "Economy",
          "Economy",
          "Premium",
          "Premium",
          "Economy",
          "Economy",
          "Premium",
          "Premium",
          "Premium",
          "Premium",
          "Premium",
          "Premium",
          "Economy",
          "Premium",
          "Premium",
          "Premium",
          "Economy",
          "Premium",
          "Premium",
          "Premium",
          "Economy",
          "Premium",
          "Premium",
          "Economy",
          "Premium",
          "Economy",
          "Economy",
          "Premium",
          "Economy",
          "Premium",
          "Economy",
          "Premium",
          "Economy",
          "Premium",
          "Economy",
          "Economy",
          "Economy",
          "Premium",
          "Economy",
          "Premium",
          "Premium",
          "Premium",
          "Premium",
          "Economy",
          "Economy",
          "Premium",
          "Premium",
          "Premium",
          "Premium",
          "Economy",
          "Premium",
          "Economy",
          "Economy",
          "Premium",
          "Premium",
          "Premium",
          "Economy",
          "Premium",
          "Economy",
          "Premium",
          "Premium",
          "Economy",
          "Economy",
          "Premium",
          "Premium",
          "Economy",
          "Premium",
          "Economy",
          "Economy",
          "Premium",
          "Economy",
          "Premium",
          "Premium",
          "Premium",
          "Premium",
          "Economy",
          "Premium",
          "Premium",
          "Economy",
          "Economy",
          "Premium",
          "Economy",
          "Premium",
          "Premium",
          "Premium",
          "Economy",
          "Economy",
          "Premium",
          "Premium",
          "Economy",
          "Economy",
          "Premium",
          "Premium",
          "Premium",
          "Economy",
          "Premium",
          "Premium",
          "Economy",
          "Premium",
          "Economy",
          "Premium",
          "Premium",
          "Premium",
          "Premium",
          "Premium",
          "Premium",
          "Premium",
          "Premium",
          "Economy",
          "Premium",
          "Economy",
          "Economy",
          "Economy",
          "Premium",
          "Premium",
          "Premium",
          "Economy",
          "Economy",
          "Premium",
          "Premium",
          "Premium",
          "Premium",
          "Premium",
          "Premium",
          "Premium",
          "Economy",
          "Economy",
          "Economy",
          "Economy",
          "Premium",
          "Premium",
          "Economy",
          "Economy",
          "Economy",
          "Economy",
          "Economy",
          "Economy",
          "Economy",
          "Premium",
          "Economy",
          "Premium",
          "Economy",
          "Economy",
          "Economy",
          "Premium",
          "Economy",
          "Premium",
          "Premium",
          "Premium",
          "Premium",
          "Premium",
          "Premium",
          "Premium",
          "Economy",
          "Premium",
          "Economy",
          "Premium",
          "Premium",
          "Economy",
          "Premium",
          "Economy",
          "Premium",
          "Premium",
          "Premium",
          "Economy",
          "Premium",
          "Economy",
          "Premium",
          "Premium",
          "Economy",
          "Economy",
          "Economy",
          "Economy",
          "Economy",
          "Economy",
          "Premium",
          "Premium",
          "Economy",
          "Premium",
          "Economy",
          "Premium",
          "Premium",
          "Premium",
          "Premium",
          "Economy",
          "Premium",
          "Economy",
          "Premium",
          "Economy",
          "Economy",
          "Economy",
          "Economy",
          "Economy",
          "Economy",
          "Economy",
          "Premium",
          "Premium",
          "Premium",
          "Economy",
          "Premium",
          "Premium",
          "Economy",
          "Economy",
          "Economy",
          "Economy",
          "Premium",
          "Economy",
          "Premium",
          "Premium",
          "Premium",
          "Premium",
          "Premium",
          "Economy"
         ],
         "x0": " ",
         "xaxis": "x",
         "y": {
          "bdata": "CvJQyh3EcUBYWXr5/btlQFGdqT26nHRAXu3IPjhjfUChgZGNcx2CQLGSMyhJP3VAgVvPSvADWkCSwUfJ+nltQDa97quZVn9AbHw/0uTveEBVxUWWY+qEQPZcD3jX73lA+b3vUJKmfkCipO/R4oNyQANekv1rcXRA88jxnDDSe0AgtdNRKJFuQBce60M7qEdArU0tSt05YEArDLp1K+93QKRJiXF1sVRADwhVF44EUEDcOcxDs2p4QMaHLixUhWpAgbJqbg91bUBbLhSD62h5QFQxqIEuz2ZADh6ROfBkhEAjWuYxojN5QHyPZGRHzoBAAuAAbhricUCXbanm31B+QJSygGDAYmVAmBWAJQ5efkBy3CvnuWtyQMwuF2ZrjXhADzN1KOWCfEAF7BIZeGh/QEYckhX3hm5A+1ma78/Vg0ACsnsfgpZ1QNDz/j7e5GJA7F+tdxSWgEAPmMZFmi1+QASbhSRaP3ZA5qhTGmD/ckBuv+1zBBeAQLvROSAeknZAUMxpOMwQVEBhCW2K+0l6QF9wfTAkR4BA+cpV4WziZkCmvAkaZsRnQHHa6LRqUoBAGvTWRPuqeUAhVEiL90eCQKTzJkf22XJAVDQ9smTZeUC0V6vB4xFxQCeRaQSW5W5AvMJLHC+uakAQkPbHtXxyQMRcc+A7ImJANT83S0yQckCmfiEJf9WEQJinoOq6GHxA+/U5WeOHg0AmDTjbQAJYQKuB5jsT7oNAesxBXGt5ckC7Q0quahV2QDUwo5aMIE9AkCLC8RihcECY6M1hDUJ1QD3BgWchtHtACCdyZ+KQcEBJXWB85q1rQJjZkHmxk3hAStqrq5LyYkBn9PKJ659zQDG0laZs4nZAwj/nvJOfekBvB7uc2XB2QCCbusKBRXBAkOf/zNMEdEDr0tO632d8QPM+xBi5jkZArW1QCjD1a0DKiapSDKVlQKyWEYvsgYJA6xKeyuy0d0C77CD0YIt2QI7KnYfDb2lAE+GFbVxMgUCav3SMdrdxQJp2alVTMntASIiBHyVuhUASUagY47aDQE6WjkdBEYFADzczIdnWXED7S9lezEB5QNu/mP85gWNABdxeEDVUf0DhrILtfpOBQE/OO+CtGWtAL90j3s0FXkAOWdl+C6VrQOR212c4y35A/TQON+CRh0DS548n43BqQItl8v0lzHxA9IldbHCDZEAd6HlgR7ZqQH2rhEjq54ZAHhShhp7pdUDRv1dfJxxoQKUxPFfaYXJA3qrESoyhVEDePSGCtCJ4QFwtj71nbnNA3HmZy2dfd0CDGr6corFrQH9iw8/mmIBAQvKHDBVPdEAhz4ShgtZ+QHc99RwRVYhADCuQ9kGBhkCwvzQwHB5DQA+lcX227IFAnN8WRiFQhUAELOJqfiOAQMlboEpQyH5A/BL0Zg2eSEBys7sPFqt/QKwtQ3ADBXNAFZirU3rLW0ACYsXd3WZkQA0Emjq2LXlA9uZ/V8MTckC6DTPnQdFiQH5FJBrwXWhAlMekIjAVhUAUyh43dTyBQEg8/VnfhmBAC69QICiHUUA07LMrjqR1QPwhRtzcgllA7LmnLD7ifkCen/PpEPVmQJLg8B/sSHtAdoWNXLFcP0BkKYduqjd0QPSb5Rglln9AHUNj0bgNdEBOuAQaHdJqQKRt9SMDtIdAQlH8FdbNhEBumialH2JlQFLD7TPSOoRAr32wogYBg0AGbeCZiN1uQEL9SYIQ4XpArMfCVDjKeEDrzLvkLkB7QEmjuS5BXmlASXw+5UDehkBCIQkXngFrQASj5iWT91RAVqGKt+/hgUBmhUmqprNdQDuinCKYvG5AaGA6sMkxeECgcsSNNb9/QDxcyvexKW9Amkt97GP1RkBktCb9yol6QPhIxw5PflVA0RE5zXiPdEDaFRZTJJRlQHy357UYX3BAUTn6cVXhaED7lgoQEgltQKSz6JP6KWdA6qPKtl04Y0Cwt3FiiZ5fQKJ2xNYHDINAqoUiWJnycUBXIlFoMmV5QFEt4QYwIW9AG2ARqjZng0AWb1Ki+LBwQMri9tAJXoZAK4Rh9SrmekCeJEUzL+KCQM88QVHNcG5Asy+Fa9wGZkAz5LOSrHd9QOLBFfwHVnxAbKvzDW9jb0AUGHdVak6AQDeikubhp3VAkmHfWElCbUBFHRhOyABnQIgZloEYV4FATin1LNUTaEDxHZchfXlsQEDesVqgCXpAZNDn37P9hED4xH1AHkWBQGqYDl/1FXRAQqsrQ+LtakB8G3QP+LeHQNmn6dBls4VAQEQd3+dKg0CGyKl4Kop0QJuixgvNhHdA5xRHHQuNUUCZjPg09Tp8QJ0J63t21nJAeFxWnawsY0CPYEjMmDp1QN3EqFCK64ZAhLoLosN6aUDR/exIJMhxQL5btrnQwX5AZXE+SjyMVUDuqsQsDL+GQFrOu3Di1GNAFzBUZjRDRkDcGtkv0EZ8QFgeRM5+FGNAxoSQ1ZdDekBArRpkf+tiQOd6ZPGzSG5Abv/JgxvDXUAXyNPWHIl9QH3Rdb1j6nRAHqcnUF5heUDxLkXN6zqBQNMkNEMlsIBArveQ4sdTf0BQYZ/ga/NjQHD3zhrRfHZAUlEeh7bKdUC5+vaxEKh+QLNdjozuWn5AKYbuFNeOekAk7xKksDhEQOND93PMJnBAgDkXyd7+f0B9RrN88pt7QFtBseaT8GVARagg3KqUhEDI5WTop7RyQK5r/kPY7H5Ai2Lzvpvwa0C3ly8GIyl7QDF1pV1ts4NA2ccWrwHSe0CxXZ+xxJ92QFbbH+GDtHBAAU7DWqM3gECkH3uV8vuBQLrQ6mkX13VAZI/xa8JzcUC4ldOM/I2FQApvXBHUMFZA5A987F5ug0BqODiB8zlzQAZudxIjjWVAR0fiwezDe0B8gUF3LGeBQAfpDnYxNXZAx487vfavfUAL0I0UxS+CQKfWsuKDu4RAQtg3hcE7gEBSYlE6Ett4QPxskrHLQXhA35yf9Mx4gkCMAHMSZFaCQKZFTCdHR4RA9TwUi7ZSh0C0jIUQyFiBQBoACzqcHnpApD76iUJzWEDkDmgB2iJoQMfMeZdsx35AoG3O0AyNeUB1/Sa2lsJ2QJEI2oiXlGxAyMzYSJLfhECGj2W8e6V5QHEeLKdaM4ZAndvng38mZkCGX5ssBJVSQHbk7BrYhHhAtOk0toYTZUBHxkqqEFqCQACo0rXXn4FAPghVWo8FdkDeDN2r6/R5QLfpMzDohmlAY/UF4W76c0DTGVRx2qB2QPybiM2bN3hA3DmQHKfNdUDEnZ9aY+KGQM8c8A7BenVANTD64rq9gkD69FyXEkx+QFHk2i42KYJAJL0+2+vagkArgI2crB13QHt894cKJ4ZA9nK5Ns26aUCgHwRSfGSFQBytfeoQVHxA4i0Sf1vJeUDuNQeZG4d7QMupJbWANG5APpXYa1wpaUBeuffwooFrQBiWB61O94VAUA3THr/2ekDM8qiKzS19QJpxSZMF0ntAIRyvqTSae0DHYioIK+yEQHbNidMpJnZA5gbhf2abfkCkzOLSMdJrQI9mJ/cWxHlAAGbVpnODfUCLKu9/E35mQBPPgRWUTnNAOtjpIwclc0DyI3FI4A5sQHfU4uq4RFlAZfkGFfnLg0AC/+0JA3BPQBsB0Kz8AVdA0xNz3RivWkDEXbrTXIWBQL92Ra9mLnRAqnq7BW5FckDr+dEQDlhuQJsf7115rHtAV4PBWb+Yf0BgCtixrK59QNLyrzh6S4NAU6NlmK9tckB+slMTvWuGQHnPTq6ir3BAuXNeV/D1d0DnWVYZ8KZwQJrRb25PBnVAsyHW9d/mh0BwNyCujWWCQBM9fffhE3NAeuyKGfsFcECzaHZAT9B8QEbRQXD6LYJAunYi1r6IfUDirOla3uuBQFSYERpSDGhAYuZ6sElAh0AiApaRHsR5QK4Y8yXwsWdAmtTjD7JQdkDyHjwYyRJ6QMy29+6DrXNAGajrBaOvg0D0GcTx/Jh9QPRTQWcY3nNAntAnm/mPYEA9q3nYkux6QAKwExag43VAbqOO9NYmfUC62TPW112EQCJ3QLWRpXBAhDrVgCqmcEDMKfQD2vxyQJ63D4V133xA1J5MX9chaUA8q4uBuY1XQIPJhQ3cFoFAgu4mBPNLckC2yLBC/txiQKVKBMlAt4BAv61CFz+0c0DNqu9h48mCQIavdq/B64VAWTmgSyCAeECJkYaAZr10QL88mzRqOHNApFsjRWQRUUCwOeWahOuHQEAWOqS4C2VALpZIvmD8dUDvEEM0iLV2QP4CzKDeNmlAa9Sk8ShcXkAKKWs/M7aCQB/2hRX9MXdAy9wuzFe1ZUD67gLyJdSAQE8vqaxmn3FAVQUVOjsgcEBPmlFgO8N9QPYTzuxPKV9AX3q6uDbHW0Cnl6AzE116QBWAJOmhwWBAenXNZ+eMYECTcvkI2h+BQJXeRu99n3FA5dbvGuzOZkBo52U7Y5xzQHLEeMMvbnpA3swp35KNgEA/KPuzUv45QD/wx4se+XVAjShLNv1VY0BRzw6t5KVaQHwNPoZUhWBAx5XAw2UOU0BOp64zhbeCQB4M1Qo1mYFAn3fqTnlic0C5KEz2ZiRiQClG50fsOHRAW3QoJ9CQP0Bu1mrtzQ5iQGdatwrHj29ArG7kpWhQYkARvFxU0lx/QE2v8kPcFYNA8Dlak2VIaEBcrxCtXONzQCceyTkABYBAgPNNpiJfgUDTTi5jFUVuQPbnEcHWs0RAuzLrpV6cZkCsHNlFLc+AQB7phq1NZYFAEX8jkM3RY0BJLIwUA7lNQLVv5uhR4nRAdywxe2a8e0Cplx3FvidiQPAgnm43VGpAtyCni1UHY0Axq4blkiODQDcyyvIlSW9An71sGlJRc0CuzL95TIpXQJT9Qmr+fW5AIhqsvxazdEAsmn6K2ZmCQICv3yRnH31Aic/M7iAwWkBiB+vlcICIQO/chwbh7ndAhQo6Vr/0c0CQ4D5FGQGEQCSrJdDJb25AfljmHjDgYEBps8tPbI94QMwNHtlOSoNAyADKSJ1sc0Bl7DQvkRCIQBZPRkgTWHdADKslQFtziUA1jEUOjJV9QACJhdJIrHBA62XSWskVd0CXC6MNVe5bQPW/eHcs33pAQZME63PseUBiMRGd12VsQNRDAOEk7m5AEWmvcli6akA34ywAtGSEQLQNV0RXGnJAzeQkTMzwXkAhekk3c0lyQMf+czwIj3tAdW/ncSmlckC2YPiroqmDQAlYfWfwn3tAy5WfpAKchUAl71C1tbxaQBDK0BeCi4FA8uQEblWHdEDKUlRxZaxgQLXSS7q/rFxAPcp2pJakbUCcnRYJaaNjQD4mUYsG9HpAs2PK8HVOgkA7G1GPojmEQOIZwXahfIFACWcOKdGkZUCBjUZ4dMVoQMLcjw6vFmhA6lXSJm2iZEC0Pg4Qfbd3QHJIibvA0XxAFsYk3iZSbUCYWfAJf+CAQOSPLcx27XNAoDCsoxWKaECQTBFz7nODQHs7z93K2nVAD9RT8bbEaUAxvETldt+DQEjxaaqWY29A2DgqjZRBdECImpPb0Zd6QBZLzOtNZH1AR9Oc3tPgeEBI8D8sdKeBQA2rli01ym1AIcBWNZEeZ0Bcz8fmcYKDQFMHMfImVnhAxph0ySb3gUBedRVCji+AQNnaBgFveYBAdtK2CeYvaUBYH1tOIpiDQJirD3UBVGtAZlLei2l1hEDrbbql9lhyQIahEaLDX3pAVEgaK+1NgUCuBnks/al0QLa861UfV3BA+nvuooJAgECxTN+gh2hdQNeEHD090H5ALhJjHqBjaUCa1/u3a1x6QP8TgGUkEHNAU9prp1ncc0A6WEL5n852QFCXRKgc5XhAeZbobOXUfEADWSHFwWN2QCOzj9HTCWxARDviaQ1zgUBH8xReiqOEQOUqK+GWy4BAj98/gKsBfkC7kTAxD0lkQMHwbSpb8INAeMumDsdBekBtT53/ZR9fQLHk6lbmaG1AdVxCIjfVX0CzMnqNbnB4QKGZbzWw+HNA/n/u4JDEd0D5GqwT83NmQL3Eul/NQXxACOOMaVqtgUAC5H15fiJ5QABHW768joVAn6ZF0Vk6c0CuUQtD11BnQL1HB3ZWxFZAXoi1C1z7YUClsVDpsk6BQJAfUoIYCXVAhLC1EUvBV0Cyl6cBGPiBQED2s9zPinBABu1fCMYzZ0DHnEcW+2RvQCZO318Gu3JA+zTnMQkqV0AlSqGGq8N0QKlrJT2WA2dA69bryjslX0Ca7cgvrH1OQJzl2gxo8UFAetwaxe+DYEDww28wo4yBQL5e/MIHE4FAiUt2M7ZuYkBNxhxBI+eEQBQb8lLeCE9A5mGasdvbfUDnYHydF7B5QA7ES3ljUoRAcWnZ1VBnbkAQ5q7sdkeFQBvaF4fqBHtA7BNa7daFhkAS7MAeRed/QCTN8yNhVoBAbFIWzJoCe0CWf6AlUOd3QK3HGnAH93VAJN3Y8CHjf0CkfFez0p5zQD47yFmtQ3dAnZ2B9nync0BGIo1MP7l+QK5SikU/eYBAtqw/IZcNe0Dc8bt+0gSBQNecBWXsYn1ASjQzXAHFSkAbbLDfGAF2QO1bLNfqxXhAFEr5KIf8dkCr3FSE+A52QII6WXewMXVAvSE54VW+dUDmcvi9A1R9QFPSVAX6umpAhHHDUVC8gUD68/c83cJ+QHbB1zBmvGVAHQJ+jbUhekBT+juYbpKEQCvhWELD5IdAR+2KQlkDeEDlFtRUoUl5QIVnpIkS7XtALCO4RmrDY0BR8IjXx8NxQIGSs01keoJAK5VQHAkAQkAQGc+/GCmCQAAgyxoYYYJA5+z9/kYEeUAT2hM8SPuBQIai28JS32dAn68q1ozieEAD3IeR/BaIQEj1pO6fYmpAK69vTG5Tg0CVSEck0RmHQOCVkuC2F2BAH0IiEO9DgkDE0SsSBoV0QKeKXNHiKnFA2eSABo4PW0C/eAt1/bhmQHikeVcWVXlATUMGX1U+iECSnlQsExJyQHDSaxIQEYVAtoM6VOvxfUDMnG0BhiOFQI01oHeKOUtAIFp/v9i7cEDdrXh7v9d7QIA9D2A3SGpAhZkWNMTegkBzFdmF3Q99QNL2n6R9F4BA6BKcu54ofEAfBOpQwSqHQEl3dOUMvYNAXEmFS6zNUUBVMJaGPhNiQOK8YmLAnn9A/6xv26uyhkDu/y/KnLZxQFbsGrb3hWJA5AgrbfLSY0DnL38bg/JMQLCPKebY0WFAOABTwAxydkBBc5M71Xh5QN0n2spidn5Ahr1pfz1nVkChXwx9h+p/QBlo91oRdGVABPRQ0YVEgED+sfmNiqF8QLAm5ngxkYBAIE+iqEMIaUBo3KtMiQBgQG3N2mzuIIpA9UuswWxxfUCNXgJG8VFJQFV8BS6UcnBAQBfdEFNhgEDO/Wrsn6N0QBANaD20l2pA6rKr6ud2SECWJyg0KfOGQFZrAppulXFAB+fuQaPEfUDGCAF7eaV+QPhDVs0dt3ZAMwzPA4PrSECyHtrvoiaAQEn/KsT7anBAeEI0YCh4ekDh6D00nF93QEAa6zPGB2dASq0Mlsbxc0B8uppAmymBQB8QfvC2vXpAYS773h+KZEAUlSx5EvGDQL5ktd0xbmBA2p3JXZXRS0ALjNgE1z59QEIQNALSD15AGXX0oHtqd0BKQbYyG9dwQFdYTYhbbYVAvLpHGQWAgECCCs59lWCJQKv7rpZGvl1AJLZKRnBpeUD02mqY09hgQEPl5LzGfHVAsRKGSorEfECY6UJUPyZzQKJvWvl5bW9AXigT/Rc1g0B2ut0LSeVsQLYuNeHfcF1AWVfrRLivb0C+JAcLk0l5QBjkajKs5WBAE6Wzn7yNdkDvhXIzcepsQN/9RHiM5nFArZqzmmPLf0DPgb8oxY2GQExp8q0nQoFAIodJvwfqf0AiUFLWq/95QBIxNEh6oIRAoLZsSlsghEDxmBYTEzeGQOjqTdQz431AygZiRFhDh0BGajzuUOx9QKvJB7KWA1pA2R0bXvFifkAWtzHfv4iEQGC+w1g/E1hAfQ2HJUQPg0A5JouKnmF/QIk4eUOBG31AxhoChflGc0AA1bSPKzCJQFdwY5a9B4JANAl78rXEcUCaYX5F3OV9QLiUJaTf3l1ADi51BhSkgEAieKIAaj5yQLHJXdjXHoZA1vaxf3I7e0BZdS2IWIF/QBjm5zoIFn9AIDKN+M3MfEDLlAbv7wdxQP53L2uD3m5AICT5FOArfkBdqDND3a9pQGWobYfZnIBADVtXq/w3gUD77JPVVs94QLLWUJ1i43NA8Sfch+GwekCE9KVyAQV8QNrPZI+IdnxATwLiWndlZkB8CE2A5QtaQBoig/lb61ZAjxYcLV+BcEC2zGnLgop6QGs4JdRpXmtA1d+JX3MFb0BljUbi/GZ6QDcVMZ1iiHFASjtYK96vgUD+VeZ/tOGJQBc0kQgZm2BAIlpS4hmLVUD0ZectGAuBQAj+zPF+mIBADnsgAo0mW0CuGifUm+p8QDu9Rjlv3m9AVawr4DPwcECLcl2a0Id6QMvq8off+GJAaT8Q0TLxd0DTaBJYNXJYQMrb1EsF5l1ARnVfRqikX0B89/VoRuyJQHcI96sLLXpAHY3dvNEmbUAPHVW8IemFQOrDyresS3hAl5pRVd2EgECEXdJxneB3QE+14m2mWoJAZPCVmaz3ZEBKKLlQYA1zQEE6bi93InZAHN5TALtOb0CoBSc2hPN+QLrNbiPG2HJAYFWOfY0Qe0BrzC8JxfuEQAUyYh1N20hAsuO0iROCeUDh4f1JvZd0QPVl4bkV9XdAJuzCKxeRc0CtUdNfhBWGQN0MOKOw02FA14/sR5QmhkDRbgoAh4iCQLC6yzQR44JAdA5KYIcQWUBtAn4KF26FQChtzbKb5ntAExL9G7oxckAs35l9jjRoQG0KPgdrCHNAybUD41steEBl8veKpNpsQK6qhB2S3nRA7D7n9PQcdkCwodOOK1NyQI33/j9U8XtAZsi5bxxHgkAdsxD7/oJ+QNOUe4g/2G5AceE1QsWCc0A60367PwKCQOgsmGBC1ndAQQkJeyn+gEBLNRXEW4h9QPYOporx4HFAleq1TjI9VkBCjcdz2TeEQKtigmTLTnJApH/kSlG8eEDGP4uA4HpxQP2XIWQYEGhApCIPH1P8dUASB80qN1uBQDwBZe4MtnhA9jhxNypYcEBtYiGWCdl4QPL7TCU2+oZAWP076U8XckBvxuw4M2tYQKRCIHLYrmhAr9kY6w7Xh0DIvDRbmAOAQLOS2391R35AYd/6ZksQdkC/55p22t2AQCuaE1J5ilxA2/OkrUNLgED3wjHCNCZ8QE+1dqpCrFRAXfhL33tJQUCemMQGYLmAQIv16y1r1nRAlBHKnNd6ZkB4B30OuD9uQObeVxYWFndAXKUmqmYChkD6gUmdjS99QPLN3Q2Sj0RAMTtVD3pAeUBh5ZcYEnx6QET9UG8wt2RAu22+M5IWgkCaku9dmBuGQOOQawF69oBA5rVPresPgEAATZuesKVyQCQ8eDKl6GZAcooaJelEfUAvCxlg8o9rQAel41Uln3BA68RSvNR3c0ARAg8/yD6EQP1lUFOg/ndASqYyWVRvgUBe7prmeJlsQPQtao2YuG1A9weVAWaRckA/VT/QldKIQKqhdGLMnoFA40hc2pc0dUCPDlsxUx5vQNS+SJhMdHFAEE81BFohYkCh+jg8bjpuQERuE/fB6XpAvEc0csx/a0Axrofyput2QHV4qDkaTnZAvv7EK4uXe0AW11CklMRsQCoetxmL3GNAGfimxlr3h0DhZdFVkSt9QDULOEM2MG1AKcACk6MGWkBoDb5z+ipDQAyPGlMiyIdA3NRi08zNcUDFutkf7QFrQMbK3XDVr0NAB19RfYN8fUBqyzuexMp/QJdkZa6Vx1dA1Kdp6if5hkALBugvpol8QE5vB+J6j15ADPYFgYm+gkDDj602TGh7QIk33HYQIYBAzmpVy7rXeEAPlTO/cN1zQAYMdsqJrHRA7YdoeYg6h0Ale0eNvSJxQGXiJ4CF5nxAGkMKYaSogEAR2zGQ+OZhQK2BCa2Q94FAQoLogrz3akCX5R7MlzhgQN0s+iIDEHRAodpbA/iSZUBwg69HW3N8QMbR/y7f+mhAnvshlI2RcUA5ppidxNh5QNHqpbcEw2BALGUNOhCod0BuQAL5tkFkQMX3ZtTtCIBAgNLzhTdKc0D6nn1f1eJtQJw28vNRkYFArLtNfVEwfUD9E7/37nZ0QL9en3N/wXRAgwVNd12RfECNeRWih0aBQD01FYXVkHFAm5Evv4UFckDYYVf5l9aEQG6Hw8tOQHtAuFfGwAwHb0BGSRn9vdN+QPc8ZmQtOHJAChSwbfiwfEBtY+6vfN+CQLVTJz2qaX9A5Uue8nOyUkBsUYOdxY5fQOYfo/wT/3NAjg/GCJ3zaUAAPhcn6AtzQLxJrApBHH5Ac3/vx3bVVECe/lkrKQ2AQHndzL//ioFAbA7L4RYkgEDlHhbwbdOEQMrarxar6YFA+7EpTcS8cUBS7d2OILJQQNRTtBPTE3JAKf6F9aRtYkDR7o3y10GBQBuTsyt7xINAbMMck+zrfkBXT89cI79dQP4xWv7t2FZAyGnp636CekBw3KawrKtjQK7nUFGFcXFALp4MVoV4hEA=",
          "dtype": "f8"
         },
         "y0": " ",
         "yaxis": "y"
        }
       ],
       "layout": {
        "boxmode": "group",
        "legend": {
         "tracegroupgap": 0
        },
        "template": {
         "data": {
          "bar": [
           {
            "error_x": {
             "color": "#2a3f5f"
            },
            "error_y": {
             "color": "#2a3f5f"
            },
            "marker": {
             "line": {
              "color": "#E5ECF6",
              "width": 0.5
             },
             "pattern": {
              "fillmode": "overlay",
              "size": 10,
              "solidity": 0.2
             }
            },
            "type": "bar"
           }
          ],
          "barpolar": [
           {
            "marker": {
             "line": {
              "color": "#E5ECF6",
              "width": 0.5
             },
             "pattern": {
              "fillmode": "overlay",
              "size": 10,
              "solidity": 0.2
             }
            },
            "type": "barpolar"
           }
          ],
          "carpet": [
           {
            "aaxis": {
             "endlinecolor": "#2a3f5f",
             "gridcolor": "white",
             "linecolor": "white",
             "minorgridcolor": "white",
             "startlinecolor": "#2a3f5f"
            },
            "baxis": {
             "endlinecolor": "#2a3f5f",
             "gridcolor": "white",
             "linecolor": "white",
             "minorgridcolor": "white",
             "startlinecolor": "#2a3f5f"
            },
            "type": "carpet"
           }
          ],
          "choropleth": [
           {
            "colorbar": {
             "outlinewidth": 0,
             "ticks": ""
            },
            "type": "choropleth"
           }
          ],
          "contour": [
           {
            "colorbar": {
             "outlinewidth": 0,
             "ticks": ""
            },
            "colorscale": [
             [
              0,
              "#0d0887"
             ],
             [
              0.1111111111111111,
              "#46039f"
             ],
             [
              0.2222222222222222,
              "#7201a8"
             ],
             [
              0.3333333333333333,
              "#9c179e"
             ],
             [
              0.4444444444444444,
              "#bd3786"
             ],
             [
              0.5555555555555556,
              "#d8576b"
             ],
             [
              0.6666666666666666,
              "#ed7953"
             ],
             [
              0.7777777777777778,
              "#fb9f3a"
             ],
             [
              0.8888888888888888,
              "#fdca26"
             ],
             [
              1,
              "#f0f921"
             ]
            ],
            "type": "contour"
           }
          ],
          "contourcarpet": [
           {
            "colorbar": {
             "outlinewidth": 0,
             "ticks": ""
            },
            "type": "contourcarpet"
           }
          ],
          "heatmap": [
           {
            "colorbar": {
             "outlinewidth": 0,
             "ticks": ""
            },
            "colorscale": [
             [
              0,
              "#0d0887"
             ],
             [
              0.1111111111111111,
              "#46039f"
             ],
             [
              0.2222222222222222,
              "#7201a8"
             ],
             [
              0.3333333333333333,
              "#9c179e"
             ],
             [
              0.4444444444444444,
              "#bd3786"
             ],
             [
              0.5555555555555556,
              "#d8576b"
             ],
             [
              0.6666666666666666,
              "#ed7953"
             ],
             [
              0.7777777777777778,
              "#fb9f3a"
             ],
             [
              0.8888888888888888,
              "#fdca26"
             ],
             [
              1,
              "#f0f921"
             ]
            ],
            "type": "heatmap"
           }
          ],
          "histogram": [
           {
            "marker": {
             "pattern": {
              "fillmode": "overlay",
              "size": 10,
              "solidity": 0.2
             }
            },
            "type": "histogram"
           }
          ],
          "histogram2d": [
           {
            "colorbar": {
             "outlinewidth": 0,
             "ticks": ""
            },
            "colorscale": [
             [
              0,
              "#0d0887"
             ],
             [
              0.1111111111111111,
              "#46039f"
             ],
             [
              0.2222222222222222,
              "#7201a8"
             ],
             [
              0.3333333333333333,
              "#9c179e"
             ],
             [
              0.4444444444444444,
              "#bd3786"
             ],
             [
              0.5555555555555556,
              "#d8576b"
             ],
             [
              0.6666666666666666,
              "#ed7953"
             ],
             [
              0.7777777777777778,
              "#fb9f3a"
             ],
             [
              0.8888888888888888,
              "#fdca26"
             ],
             [
              1,
              "#f0f921"
             ]
            ],
            "type": "histogram2d"
           }
          ],
          "histogram2dcontour": [
           {
            "colorbar": {
             "outlinewidth": 0,
             "ticks": ""
            },
            "colorscale": [
             [
              0,
              "#0d0887"
             ],
             [
              0.1111111111111111,
              "#46039f"
             ],
             [
              0.2222222222222222,
              "#7201a8"
             ],
             [
              0.3333333333333333,
              "#9c179e"
             ],
             [
              0.4444444444444444,
              "#bd3786"
             ],
             [
              0.5555555555555556,
              "#d8576b"
             ],
             [
              0.6666666666666666,
              "#ed7953"
             ],
             [
              0.7777777777777778,
              "#fb9f3a"
             ],
             [
              0.8888888888888888,
              "#fdca26"
             ],
             [
              1,
              "#f0f921"
             ]
            ],
            "type": "histogram2dcontour"
           }
          ],
          "mesh3d": [
           {
            "colorbar": {
             "outlinewidth": 0,
             "ticks": ""
            },
            "type": "mesh3d"
           }
          ],
          "parcoords": [
           {
            "line": {
             "colorbar": {
              "outlinewidth": 0,
              "ticks": ""
             }
            },
            "type": "parcoords"
           }
          ],
          "pie": [
           {
            "automargin": true,
            "type": "pie"
           }
          ],
          "scatter": [
           {
            "fillpattern": {
             "fillmode": "overlay",
             "size": 10,
             "solidity": 0.2
            },
            "type": "scatter"
           }
          ],
          "scatter3d": [
           {
            "line": {
             "colorbar": {
              "outlinewidth": 0,
              "ticks": ""
             }
            },
            "marker": {
             "colorbar": {
              "outlinewidth": 0,
              "ticks": ""
             }
            },
            "type": "scatter3d"
           }
          ],
          "scattercarpet": [
           {
            "marker": {
             "colorbar": {
              "outlinewidth": 0,
              "ticks": ""
             }
            },
            "type": "scattercarpet"
           }
          ],
          "scattergeo": [
           {
            "marker": {
             "colorbar": {
              "outlinewidth": 0,
              "ticks": ""
             }
            },
            "type": "scattergeo"
           }
          ],
          "scattergl": [
           {
            "marker": {
             "colorbar": {
              "outlinewidth": 0,
              "ticks": ""
             }
            },
            "type": "scattergl"
           }
          ],
          "scattermap": [
           {
            "marker": {
             "colorbar": {
              "outlinewidth": 0,
              "ticks": ""
             }
            },
            "type": "scattermap"
           }
          ],
          "scattermapbox": [
           {
            "marker": {
             "colorbar": {
              "outlinewidth": 0,
              "ticks": ""
             }
            },
            "type": "scattermapbox"
           }
          ],
          "scatterpolar": [
           {
            "marker": {
             "colorbar": {
              "outlinewidth": 0,
              "ticks": ""
             }
            },
            "type": "scatterpolar"
           }
          ],
          "scatterpolargl": [
           {
            "marker": {
             "colorbar": {
              "outlinewidth": 0,
              "ticks": ""
             }
            },
            "type": "scatterpolargl"
           }
          ],
          "scatterternary": [
           {
            "marker": {
             "colorbar": {
              "outlinewidth": 0,
              "ticks": ""
             }
            },
            "type": "scatterternary"
           }
          ],
          "surface": [
           {
            "colorbar": {
             "outlinewidth": 0,
             "ticks": ""
            },
            "colorscale": [
             [
              0,
              "#0d0887"
             ],
             [
              0.1111111111111111,
              "#46039f"
             ],
             [
              0.2222222222222222,
              "#7201a8"
             ],
             [
              0.3333333333333333,
              "#9c179e"
             ],
             [
              0.4444444444444444,
              "#bd3786"
             ],
             [
              0.5555555555555556,
              "#d8576b"
             ],
             [
              0.6666666666666666,
              "#ed7953"
             ],
             [
              0.7777777777777778,
              "#fb9f3a"
             ],
             [
              0.8888888888888888,
              "#fdca26"
             ],
             [
              1,
              "#f0f921"
             ]
            ],
            "type": "surface"
           }
          ],
          "table": [
           {
            "cells": {
             "fill": {
              "color": "#EBF0F8"
             },
             "line": {
              "color": "white"
             }
            },
            "header": {
             "fill": {
              "color": "#C8D4E3"
             },
             "line": {
              "color": "white"
             }
            },
            "type": "table"
           }
          ]
         },
         "layout": {
          "annotationdefaults": {
           "arrowcolor": "#2a3f5f",
           "arrowhead": 0,
           "arrowwidth": 1
          },
          "autotypenumbers": "strict",
          "coloraxis": {
           "colorbar": {
            "outlinewidth": 0,
            "ticks": ""
           }
          },
          "colorscale": {
           "diverging": [
            [
             0,
             "#8e0152"
            ],
            [
             0.1,
             "#c51b7d"
            ],
            [
             0.2,
             "#de77ae"
            ],
            [
             0.3,
             "#f1b6da"
            ],
            [
             0.4,
             "#fde0ef"
            ],
            [
             0.5,
             "#f7f7f7"
            ],
            [
             0.6,
             "#e6f5d0"
            ],
            [
             0.7,
             "#b8e186"
            ],
            [
             0.8,
             "#7fbc41"
            ],
            [
             0.9,
             "#4d9221"
            ],
            [
             1,
             "#276419"
            ]
           ],
           "sequential": [
            [
             0,
             "#0d0887"
            ],
            [
             0.1111111111111111,
             "#46039f"
            ],
            [
             0.2222222222222222,
             "#7201a8"
            ],
            [
             0.3333333333333333,
             "#9c179e"
            ],
            [
             0.4444444444444444,
             "#bd3786"
            ],
            [
             0.5555555555555556,
             "#d8576b"
            ],
            [
             0.6666666666666666,
             "#ed7953"
            ],
            [
             0.7777777777777778,
             "#fb9f3a"
            ],
            [
             0.8888888888888888,
             "#fdca26"
            ],
            [
             1,
             "#f0f921"
            ]
           ],
           "sequentialminus": [
            [
             0,
             "#0d0887"
            ],
            [
             0.1111111111111111,
             "#46039f"
            ],
            [
             0.2222222222222222,
             "#7201a8"
            ],
            [
             0.3333333333333333,
             "#9c179e"
            ],
            [
             0.4444444444444444,
             "#bd3786"
            ],
            [
             0.5555555555555556,
             "#d8576b"
            ],
            [
             0.6666666666666666,
             "#ed7953"
            ],
            [
             0.7777777777777778,
             "#fb9f3a"
            ],
            [
             0.8888888888888888,
             "#fdca26"
            ],
            [
             1,
             "#f0f921"
            ]
           ]
          },
          "colorway": [
           "#636efa",
           "#EF553B",
           "#00cc96",
           "#ab63fa",
           "#FFA15A",
           "#19d3f3",
           "#FF6692",
           "#B6E880",
           "#FF97FF",
           "#FECB52"
          ],
          "font": {
           "color": "#2a3f5f"
          },
          "geo": {
           "bgcolor": "white",
           "lakecolor": "white",
           "landcolor": "#E5ECF6",
           "showlakes": true,
           "showland": true,
           "subunitcolor": "white"
          },
          "hoverlabel": {
           "align": "left"
          },
          "hovermode": "closest",
          "mapbox": {
           "style": "light"
          },
          "paper_bgcolor": "white",
          "plot_bgcolor": "#E5ECF6",
          "polar": {
           "angularaxis": {
            "gridcolor": "white",
            "linecolor": "white",
            "ticks": ""
           },
           "bgcolor": "#E5ECF6",
           "radialaxis": {
            "gridcolor": "white",
            "linecolor": "white",
            "ticks": ""
           }
          },
          "scene": {
           "xaxis": {
            "backgroundcolor": "#E5ECF6",
            "gridcolor": "white",
            "gridwidth": 2,
            "linecolor": "white",
            "showbackground": true,
            "ticks": "",
            "zerolinecolor": "white"
           },
           "yaxis": {
            "backgroundcolor": "#E5ECF6",
            "gridcolor": "white",
            "gridwidth": 2,
            "linecolor": "white",
            "showbackground": true,
            "ticks": "",
            "zerolinecolor": "white"
           },
           "zaxis": {
            "backgroundcolor": "#E5ECF6",
            "gridcolor": "white",
            "gridwidth": 2,
            "linecolor": "white",
            "showbackground": true,
            "ticks": "",
            "zerolinecolor": "white"
           }
          },
          "shapedefaults": {
           "line": {
            "color": "#2a3f5f"
           }
          },
          "ternary": {
           "aaxis": {
            "gridcolor": "white",
            "linecolor": "white",
            "ticks": ""
           },
           "baxis": {
            "gridcolor": "white",
            "linecolor": "white",
            "ticks": ""
           },
           "bgcolor": "#E5ECF6",
           "caxis": {
            "gridcolor": "white",
            "linecolor": "white",
            "ticks": ""
           }
          },
          "title": {
           "x": 0.05
          },
          "xaxis": {
           "automargin": true,
           "gridcolor": "white",
           "linecolor": "white",
           "ticks": "",
           "title": {
            "standoff": 15
           },
           "zerolinecolor": "white",
           "zerolinewidth": 2
          },
          "yaxis": {
           "automargin": true,
           "gridcolor": "white",
           "linecolor": "white",
           "ticks": "",
           "title": {
            "standoff": 15
           },
           "zerolinecolor": "white",
           "zerolinewidth": 2
          }
         }
        },
        "title": {
         "text": "Historical Cost of Ride as per Vechile Type"
        },
        "xaxis": {
         "anchor": "y",
         "domain": [
          0,
          1
         ],
         "title": {
          "text": "Vehicle_Type"
         }
        },
        "yaxis": {
         "anchor": "x",
         "domain": [
          0,
          1
         ],
         "title": {
          "text": "Historical_Cost_of_Ride"
         }
        }
       }
      }
     },
     "metadata": {},
     "output_type": "display_data"
    }
   ],
   "source": [
    "fig_costVSvechile = px.box(price , x = \"Vehicle_Type\", y = \"Historical_Cost_of_Ride\",\n",
    "                           title= \"Historical Cost of Ride as per Vechile Type\" )\n",
    "fig_costVSvechile.show()"
   ]
  },
  {
   "cell_type": "markdown",
   "id": "26039b9b-0e30-4392-91ad-9c8c2ee2fd93",
   "metadata": {},
   "source": [
    "Now let’s have a look at the correlation matrix:"
   ]
  },
  {
   "cell_type": "code",
   "execution_count": 6,
   "id": "ac93b989-e936-4c0b-b32c-902334268ace",
   "metadata": {},
   "outputs": [
    {
     "data": {
      "text/html": [
       "<div>\n",
       "<style scoped>\n",
       "    .dataframe tbody tr th:only-of-type {\n",
       "        vertical-align: middle;\n",
       "    }\n",
       "\n",
       "    .dataframe tbody tr th {\n",
       "        vertical-align: top;\n",
       "    }\n",
       "\n",
       "    .dataframe thead th {\n",
       "        text-align: right;\n",
       "    }\n",
       "</style>\n",
       "<table border=\"1\" class=\"dataframe\">\n",
       "  <thead>\n",
       "    <tr style=\"text-align: right;\">\n",
       "      <th></th>\n",
       "      <th>Number_of_Riders</th>\n",
       "      <th>Number_of_Drivers</th>\n",
       "      <th>Number_of_Past_Rides</th>\n",
       "      <th>Average_Ratings</th>\n",
       "      <th>Expected_Ride_Duration</th>\n",
       "      <th>Historical_Cost_of_Ride</th>\n",
       "    </tr>\n",
       "  </thead>\n",
       "  <tbody>\n",
       "    <tr>\n",
       "      <th>Number_of_Riders</th>\n",
       "      <td>1.000000</td>\n",
       "      <td>0.627016</td>\n",
       "      <td>0.029265</td>\n",
       "      <td>0.008572</td>\n",
       "      <td>-0.015856</td>\n",
       "      <td>0.005826</td>\n",
       "    </tr>\n",
       "    <tr>\n",
       "      <th>Number_of_Drivers</th>\n",
       "      <td>0.627016</td>\n",
       "      <td>1.000000</td>\n",
       "      <td>0.039660</td>\n",
       "      <td>0.041204</td>\n",
       "      <td>-0.024418</td>\n",
       "      <td>0.017082</td>\n",
       "    </tr>\n",
       "    <tr>\n",
       "      <th>Number_of_Past_Rides</th>\n",
       "      <td>0.029265</td>\n",
       "      <td>0.039660</td>\n",
       "      <td>1.000000</td>\n",
       "      <td>-0.064734</td>\n",
       "      <td>0.030679</td>\n",
       "      <td>0.035859</td>\n",
       "    </tr>\n",
       "    <tr>\n",
       "      <th>Average_Ratings</th>\n",
       "      <td>0.008572</td>\n",
       "      <td>0.041204</td>\n",
       "      <td>-0.064734</td>\n",
       "      <td>1.000000</td>\n",
       "      <td>-0.016968</td>\n",
       "      <td>-0.001063</td>\n",
       "    </tr>\n",
       "    <tr>\n",
       "      <th>Expected_Ride_Duration</th>\n",
       "      <td>-0.015856</td>\n",
       "      <td>-0.024418</td>\n",
       "      <td>0.030679</td>\n",
       "      <td>-0.016968</td>\n",
       "      <td>1.000000</td>\n",
       "      <td>0.927547</td>\n",
       "    </tr>\n",
       "    <tr>\n",
       "      <th>Historical_Cost_of_Ride</th>\n",
       "      <td>0.005826</td>\n",
       "      <td>0.017082</td>\n",
       "      <td>0.035859</td>\n",
       "      <td>-0.001063</td>\n",
       "      <td>0.927547</td>\n",
       "      <td>1.000000</td>\n",
       "    </tr>\n",
       "  </tbody>\n",
       "</table>\n",
       "</div>"
      ],
      "text/plain": [
       "                         Number_of_Riders  Number_of_Drivers  \\\n",
       "Number_of_Riders                 1.000000           0.627016   \n",
       "Number_of_Drivers                0.627016           1.000000   \n",
       "Number_of_Past_Rides             0.029265           0.039660   \n",
       "Average_Ratings                  0.008572           0.041204   \n",
       "Expected_Ride_Duration          -0.015856          -0.024418   \n",
       "Historical_Cost_of_Ride          0.005826           0.017082   \n",
       "\n",
       "                         Number_of_Past_Rides  Average_Ratings  \\\n",
       "Number_of_Riders                     0.029265         0.008572   \n",
       "Number_of_Drivers                    0.039660         0.041204   \n",
       "Number_of_Past_Rides                 1.000000        -0.064734   \n",
       "Average_Ratings                     -0.064734         1.000000   \n",
       "Expected_Ride_Duration               0.030679        -0.016968   \n",
       "Historical_Cost_of_Ride              0.035859        -0.001063   \n",
       "\n",
       "                         Expected_Ride_Duration  Historical_Cost_of_Ride  \n",
       "Number_of_Riders                      -0.015856                 0.005826  \n",
       "Number_of_Drivers                     -0.024418                 0.017082  \n",
       "Number_of_Past_Rides                   0.030679                 0.035859  \n",
       "Average_Ratings                       -0.016968                -0.001063  \n",
       "Expected_Ride_Duration                 1.000000                 0.927547  \n",
       "Historical_Cost_of_Ride                0.927547                 1.000000  "
      ]
     },
     "execution_count": 6,
     "metadata": {},
     "output_type": "execute_result"
    }
   ],
   "source": [
    "corr_matrix =  price.corr(numeric_only= True)\n",
    "\n",
    "corr_matrix"
   ]
  },
  {
   "cell_type": "code",
   "execution_count": 7,
   "id": "399818ab-21d0-4a13-8bfc-bbd891a07ee8",
   "metadata": {},
   "outputs": [
    {
     "data": {
      "application/vnd.plotly.v1+json": {
       "config": {
        "plotlyServerURL": "https://plot.ly"
       },
       "data": [
        {
         "colorscale": [
          [
           0,
           "#440154"
          ],
          [
           0.1111111111111111,
           "#482878"
          ],
          [
           0.2222222222222222,
           "#3e4989"
          ],
          [
           0.3333333333333333,
           "#31688e"
          ],
          [
           0.4444444444444444,
           "#26828e"
          ],
          [
           0.5555555555555556,
           "#1f9e89"
          ],
          [
           0.6666666666666666,
           "#35b779"
          ],
          [
           0.7777777777777778,
           "#6ece58"
          ],
          [
           0.8888888888888888,
           "#b5de2b"
          ],
          [
           1,
           "#fde725"
          ]
         ],
         "type": "heatmap",
         "x": [
          "Number_of_Riders",
          "Number_of_Drivers",
          "Number_of_Past_Rides",
          "Average_Ratings",
          "Expected_Ride_Duration",
          "Historical_Cost_of_Ride"
         ],
         "y": [
          "Number_of_Riders",
          "Number_of_Drivers",
          "Number_of_Past_Rides",
          "Average_Ratings",
          "Expected_Ride_Duration",
          "Historical_Cost_of_Ride"
         ],
         "z": {
          "bdata": "AAAAAAAA8D891miUhBDkP2zmhHSp950/vFVvfvaNgT9YnWr9njyQv1JQzpKw3Hc/PdZolIQQ5D8AAAAAAADwP4jgdv1fTqQ/+No3OMEYpT/hg49o7ACZv5UXHY/dfZE/bOaEdKn3nT+I4Hb9X06kPwAAAAAAAPA/V4zaR2CSsL9K+Sx6QGqfPxpdEx0RXKI/vFVvfvaNgT/42jc4wRilP1eM2kdgkrC/AAAAAAAA8D8Ye9uuGWCRv5Uwhpv6a1G/WJ1q/Z48kL/hg49o7ACZv0r5LHpAap8/GHvbrhlgkb8AAAAAAADwP0XIRG53ru0/UlDOkrDcdz+VFx2P3X2RPxpdEx0RXKI/lTCGm/prUb9FyERud67tPwAAAAAAAPA/",
          "dtype": "f8",
          "shape": "6, 6"
         }
        }
       ],
       "layout": {
        "template": {
         "data": {
          "bar": [
           {
            "error_x": {
             "color": "#2a3f5f"
            },
            "error_y": {
             "color": "#2a3f5f"
            },
            "marker": {
             "line": {
              "color": "#E5ECF6",
              "width": 0.5
             },
             "pattern": {
              "fillmode": "overlay",
              "size": 10,
              "solidity": 0.2
             }
            },
            "type": "bar"
           }
          ],
          "barpolar": [
           {
            "marker": {
             "line": {
              "color": "#E5ECF6",
              "width": 0.5
             },
             "pattern": {
              "fillmode": "overlay",
              "size": 10,
              "solidity": 0.2
             }
            },
            "type": "barpolar"
           }
          ],
          "carpet": [
           {
            "aaxis": {
             "endlinecolor": "#2a3f5f",
             "gridcolor": "white",
             "linecolor": "white",
             "minorgridcolor": "white",
             "startlinecolor": "#2a3f5f"
            },
            "baxis": {
             "endlinecolor": "#2a3f5f",
             "gridcolor": "white",
             "linecolor": "white",
             "minorgridcolor": "white",
             "startlinecolor": "#2a3f5f"
            },
            "type": "carpet"
           }
          ],
          "choropleth": [
           {
            "colorbar": {
             "outlinewidth": 0,
             "ticks": ""
            },
            "type": "choropleth"
           }
          ],
          "contour": [
           {
            "colorbar": {
             "outlinewidth": 0,
             "ticks": ""
            },
            "colorscale": [
             [
              0,
              "#0d0887"
             ],
             [
              0.1111111111111111,
              "#46039f"
             ],
             [
              0.2222222222222222,
              "#7201a8"
             ],
             [
              0.3333333333333333,
              "#9c179e"
             ],
             [
              0.4444444444444444,
              "#bd3786"
             ],
             [
              0.5555555555555556,
              "#d8576b"
             ],
             [
              0.6666666666666666,
              "#ed7953"
             ],
             [
              0.7777777777777778,
              "#fb9f3a"
             ],
             [
              0.8888888888888888,
              "#fdca26"
             ],
             [
              1,
              "#f0f921"
             ]
            ],
            "type": "contour"
           }
          ],
          "contourcarpet": [
           {
            "colorbar": {
             "outlinewidth": 0,
             "ticks": ""
            },
            "type": "contourcarpet"
           }
          ],
          "heatmap": [
           {
            "colorbar": {
             "outlinewidth": 0,
             "ticks": ""
            },
            "colorscale": [
             [
              0,
              "#0d0887"
             ],
             [
              0.1111111111111111,
              "#46039f"
             ],
             [
              0.2222222222222222,
              "#7201a8"
             ],
             [
              0.3333333333333333,
              "#9c179e"
             ],
             [
              0.4444444444444444,
              "#bd3786"
             ],
             [
              0.5555555555555556,
              "#d8576b"
             ],
             [
              0.6666666666666666,
              "#ed7953"
             ],
             [
              0.7777777777777778,
              "#fb9f3a"
             ],
             [
              0.8888888888888888,
              "#fdca26"
             ],
             [
              1,
              "#f0f921"
             ]
            ],
            "type": "heatmap"
           }
          ],
          "histogram": [
           {
            "marker": {
             "pattern": {
              "fillmode": "overlay",
              "size": 10,
              "solidity": 0.2
             }
            },
            "type": "histogram"
           }
          ],
          "histogram2d": [
           {
            "colorbar": {
             "outlinewidth": 0,
             "ticks": ""
            },
            "colorscale": [
             [
              0,
              "#0d0887"
             ],
             [
              0.1111111111111111,
              "#46039f"
             ],
             [
              0.2222222222222222,
              "#7201a8"
             ],
             [
              0.3333333333333333,
              "#9c179e"
             ],
             [
              0.4444444444444444,
              "#bd3786"
             ],
             [
              0.5555555555555556,
              "#d8576b"
             ],
             [
              0.6666666666666666,
              "#ed7953"
             ],
             [
              0.7777777777777778,
              "#fb9f3a"
             ],
             [
              0.8888888888888888,
              "#fdca26"
             ],
             [
              1,
              "#f0f921"
             ]
            ],
            "type": "histogram2d"
           }
          ],
          "histogram2dcontour": [
           {
            "colorbar": {
             "outlinewidth": 0,
             "ticks": ""
            },
            "colorscale": [
             [
              0,
              "#0d0887"
             ],
             [
              0.1111111111111111,
              "#46039f"
             ],
             [
              0.2222222222222222,
              "#7201a8"
             ],
             [
              0.3333333333333333,
              "#9c179e"
             ],
             [
              0.4444444444444444,
              "#bd3786"
             ],
             [
              0.5555555555555556,
              "#d8576b"
             ],
             [
              0.6666666666666666,
              "#ed7953"
             ],
             [
              0.7777777777777778,
              "#fb9f3a"
             ],
             [
              0.8888888888888888,
              "#fdca26"
             ],
             [
              1,
              "#f0f921"
             ]
            ],
            "type": "histogram2dcontour"
           }
          ],
          "mesh3d": [
           {
            "colorbar": {
             "outlinewidth": 0,
             "ticks": ""
            },
            "type": "mesh3d"
           }
          ],
          "parcoords": [
           {
            "line": {
             "colorbar": {
              "outlinewidth": 0,
              "ticks": ""
             }
            },
            "type": "parcoords"
           }
          ],
          "pie": [
           {
            "automargin": true,
            "type": "pie"
           }
          ],
          "scatter": [
           {
            "fillpattern": {
             "fillmode": "overlay",
             "size": 10,
             "solidity": 0.2
            },
            "type": "scatter"
           }
          ],
          "scatter3d": [
           {
            "line": {
             "colorbar": {
              "outlinewidth": 0,
              "ticks": ""
             }
            },
            "marker": {
             "colorbar": {
              "outlinewidth": 0,
              "ticks": ""
             }
            },
            "type": "scatter3d"
           }
          ],
          "scattercarpet": [
           {
            "marker": {
             "colorbar": {
              "outlinewidth": 0,
              "ticks": ""
             }
            },
            "type": "scattercarpet"
           }
          ],
          "scattergeo": [
           {
            "marker": {
             "colorbar": {
              "outlinewidth": 0,
              "ticks": ""
             }
            },
            "type": "scattergeo"
           }
          ],
          "scattergl": [
           {
            "marker": {
             "colorbar": {
              "outlinewidth": 0,
              "ticks": ""
             }
            },
            "type": "scattergl"
           }
          ],
          "scattermap": [
           {
            "marker": {
             "colorbar": {
              "outlinewidth": 0,
              "ticks": ""
             }
            },
            "type": "scattermap"
           }
          ],
          "scattermapbox": [
           {
            "marker": {
             "colorbar": {
              "outlinewidth": 0,
              "ticks": ""
             }
            },
            "type": "scattermapbox"
           }
          ],
          "scatterpolar": [
           {
            "marker": {
             "colorbar": {
              "outlinewidth": 0,
              "ticks": ""
             }
            },
            "type": "scatterpolar"
           }
          ],
          "scatterpolargl": [
           {
            "marker": {
             "colorbar": {
              "outlinewidth": 0,
              "ticks": ""
             }
            },
            "type": "scatterpolargl"
           }
          ],
          "scatterternary": [
           {
            "marker": {
             "colorbar": {
              "outlinewidth": 0,
              "ticks": ""
             }
            },
            "type": "scatterternary"
           }
          ],
          "surface": [
           {
            "colorbar": {
             "outlinewidth": 0,
             "ticks": ""
            },
            "colorscale": [
             [
              0,
              "#0d0887"
             ],
             [
              0.1111111111111111,
              "#46039f"
             ],
             [
              0.2222222222222222,
              "#7201a8"
             ],
             [
              0.3333333333333333,
              "#9c179e"
             ],
             [
              0.4444444444444444,
              "#bd3786"
             ],
             [
              0.5555555555555556,
              "#d8576b"
             ],
             [
              0.6666666666666666,
              "#ed7953"
             ],
             [
              0.7777777777777778,
              "#fb9f3a"
             ],
             [
              0.8888888888888888,
              "#fdca26"
             ],
             [
              1,
              "#f0f921"
             ]
            ],
            "type": "surface"
           }
          ],
          "table": [
           {
            "cells": {
             "fill": {
              "color": "#EBF0F8"
             },
             "line": {
              "color": "white"
             }
            },
            "header": {
             "fill": {
              "color": "#C8D4E3"
             },
             "line": {
              "color": "white"
             }
            },
            "type": "table"
           }
          ]
         },
         "layout": {
          "annotationdefaults": {
           "arrowcolor": "#2a3f5f",
           "arrowhead": 0,
           "arrowwidth": 1
          },
          "autotypenumbers": "strict",
          "coloraxis": {
           "colorbar": {
            "outlinewidth": 0,
            "ticks": ""
           }
          },
          "colorscale": {
           "diverging": [
            [
             0,
             "#8e0152"
            ],
            [
             0.1,
             "#c51b7d"
            ],
            [
             0.2,
             "#de77ae"
            ],
            [
             0.3,
             "#f1b6da"
            ],
            [
             0.4,
             "#fde0ef"
            ],
            [
             0.5,
             "#f7f7f7"
            ],
            [
             0.6,
             "#e6f5d0"
            ],
            [
             0.7,
             "#b8e186"
            ],
            [
             0.8,
             "#7fbc41"
            ],
            [
             0.9,
             "#4d9221"
            ],
            [
             1,
             "#276419"
            ]
           ],
           "sequential": [
            [
             0,
             "#0d0887"
            ],
            [
             0.1111111111111111,
             "#46039f"
            ],
            [
             0.2222222222222222,
             "#7201a8"
            ],
            [
             0.3333333333333333,
             "#9c179e"
            ],
            [
             0.4444444444444444,
             "#bd3786"
            ],
            [
             0.5555555555555556,
             "#d8576b"
            ],
            [
             0.6666666666666666,
             "#ed7953"
            ],
            [
             0.7777777777777778,
             "#fb9f3a"
            ],
            [
             0.8888888888888888,
             "#fdca26"
            ],
            [
             1,
             "#f0f921"
            ]
           ],
           "sequentialminus": [
            [
             0,
             "#0d0887"
            ],
            [
             0.1111111111111111,
             "#46039f"
            ],
            [
             0.2222222222222222,
             "#7201a8"
            ],
            [
             0.3333333333333333,
             "#9c179e"
            ],
            [
             0.4444444444444444,
             "#bd3786"
            ],
            [
             0.5555555555555556,
             "#d8576b"
            ],
            [
             0.6666666666666666,
             "#ed7953"
            ],
            [
             0.7777777777777778,
             "#fb9f3a"
            ],
            [
             0.8888888888888888,
             "#fdca26"
            ],
            [
             1,
             "#f0f921"
            ]
           ]
          },
          "colorway": [
           "#636efa",
           "#EF553B",
           "#00cc96",
           "#ab63fa",
           "#FFA15A",
           "#19d3f3",
           "#FF6692",
           "#B6E880",
           "#FF97FF",
           "#FECB52"
          ],
          "font": {
           "color": "#2a3f5f"
          },
          "geo": {
           "bgcolor": "white",
           "lakecolor": "white",
           "landcolor": "#E5ECF6",
           "showlakes": true,
           "showland": true,
           "subunitcolor": "white"
          },
          "hoverlabel": {
           "align": "left"
          },
          "hovermode": "closest",
          "mapbox": {
           "style": "light"
          },
          "paper_bgcolor": "white",
          "plot_bgcolor": "#E5ECF6",
          "polar": {
           "angularaxis": {
            "gridcolor": "white",
            "linecolor": "white",
            "ticks": ""
           },
           "bgcolor": "#E5ECF6",
           "radialaxis": {
            "gridcolor": "white",
            "linecolor": "white",
            "ticks": ""
           }
          },
          "scene": {
           "xaxis": {
            "backgroundcolor": "#E5ECF6",
            "gridcolor": "white",
            "gridwidth": 2,
            "linecolor": "white",
            "showbackground": true,
            "ticks": "",
            "zerolinecolor": "white"
           },
           "yaxis": {
            "backgroundcolor": "#E5ECF6",
            "gridcolor": "white",
            "gridwidth": 2,
            "linecolor": "white",
            "showbackground": true,
            "ticks": "",
            "zerolinecolor": "white"
           },
           "zaxis": {
            "backgroundcolor": "#E5ECF6",
            "gridcolor": "white",
            "gridwidth": 2,
            "linecolor": "white",
            "showbackground": true,
            "ticks": "",
            "zerolinecolor": "white"
           }
          },
          "shapedefaults": {
           "line": {
            "color": "#2a3f5f"
           }
          },
          "ternary": {
           "aaxis": {
            "gridcolor": "white",
            "linecolor": "white",
            "ticks": ""
           },
           "baxis": {
            "gridcolor": "white",
            "linecolor": "white",
            "ticks": ""
           },
           "bgcolor": "#E5ECF6",
           "caxis": {
            "gridcolor": "white",
            "linecolor": "white",
            "ticks": ""
           }
          },
          "title": {
           "x": 0.05
          },
          "xaxis": {
           "automargin": true,
           "gridcolor": "white",
           "linecolor": "white",
           "ticks": "",
           "title": {
            "standoff": 15
           },
           "zerolinecolor": "white",
           "zerolinewidth": 2
          },
          "yaxis": {
           "automargin": true,
           "gridcolor": "white",
           "linecolor": "white",
           "ticks": "",
           "title": {
            "standoff": 15
           },
           "zerolinecolor": "white",
           "zerolinewidth": 2
          }
         }
        },
        "title": {
         "text": "Correlation Matrix"
        }
       }
      }
     },
     "metadata": {},
     "output_type": "display_data"
    }
   ],
   "source": [
    "fig_corr = go.Figure(data= go.Heatmap(\n",
    "            x = corr_matrix.columns,\n",
    "            y = corr_matrix.columns,\n",
    "            z = corr_matrix.values, \n",
    "            colorscale= \"Viridis\" , ))\n",
    "\n",
    "fig_corr.update_layout(title = \"Correlation Matrix\")\n",
    "fig_corr.show()"
   ]
  },
  {
   "cell_type": "markdown",
   "id": "6f3f4f89-cbe0-41b1-8aa8-3c0d74146d5e",
   "metadata": {},
   "source": [
    "## Implementing a Dynamic Pricing Strategy"
   ]
  },
  {
   "cell_type": "markdown",
   "id": "05c5fa8f-b77d-4d50-8323-ff5d3faf0afc",
   "metadata": {},
   "source": [
    "The data provided by the company states that the company uses a pricing model that only takes the expected ride duration as a factor to determine the price for a ride. Now, we will implement a dynamic pricing strategy aiming to adjust the ride costs dynamically based on the demand and supply levels observed in the data. It will capture high-demand periods and low-supply scenarios to increase prices, while low-demand periods and high-supply situations will lead to price reductions."
   ]
  },
  {
   "cell_type": "markdown",
   "id": "3a12a57c-f961-44bf-bedc-bb85e04702a2",
   "metadata": {},
   "source": [
    "Here’s how to implement this dynamic pricing strategy using Python:"
   ]
  },
  {
   "cell_type": "code",
   "execution_count": 22,
   "id": "0bb66560-7c96-457b-89a5-503d963c851b",
   "metadata": {},
   "outputs": [],
   "source": [
    "import numpy as np\n",
    "\n",
    "#Calculate demand_multiplier based on  percentile for high and low demand\n",
    "high_demand_percentile = 75\n",
    "low_demand_percentile = 25\n",
    "\n",
    "price[\"demand_multiplier\"] = np.where(price[\"Number_of_Riders\"] > np.percentile(price[\"Number_of_Riders\"], high_demand_percentile),#Condition\n",
    "                                      price[\"Number_of_Riders\"] / np.percentile(price[\"Number_of_Riders\"], high_demand_percentile),#Value if True                                        \n",
    "                                      price[\"Number_of_Riders\"] / np.percentile(price[\"Number_of_Riders\"], low_demand_percentile) # Value if False \n",
    "                                      ) ##np.where(condition, value_if_true, value_if_false)\n",
    "\n",
    "#Calculate supply_multiplier based on percentile for high and low supply \n",
    "high_supply_percentile = 75\n",
    "low_supply_percentile = 25\n",
    "\n",
    "price[\"supply_multiplier\"] = np.where(price[\"Number_of_Drivers\"] > np.percentile(price[\"Number_of_Drivers\"], low_supply_percentile),#Condition\n",
    "                                      np.percentile(price[\"Number_of_Drivers\"], high_demand_percentile)/ price[\"Number_of_Drivers\"],  #Value if True                                      \n",
    "                                      np.percentile(price[\"Number_of_Drivers\"], low_demand_percentile)/ price[\"Number_of_Drivers\"] # Value if False \n",
    "                                     ) ##np.where(condition, value_if_true, value_if_false)\n",
    "\n",
    " #Define price adjustment factors for high  and low demand / supply\n",
    "\n",
    "demand_threshold_high = 1.2  #Higher Demand Threshold\n",
    "demand_threshold_low = 0.8  #Lower Demand Threshold\n",
    "supply_threshold_high = 0.8  #Higher Supply Threshold\n",
    "supply_threshold_low = 1.2  #Lower Supply Threshold\n",
    "\n",
    "\n",
    "#Calculate Adjusted_Ride_cost for dynamic pricing\n",
    "#implementing dynamic pricing by adjusting the historical ride cost based on demand and\n",
    "#supply multipliers—with constraints (thresholds) to avoid extreme fluctuations.\n",
    "\n",
    "price[\"adjusted_ride_cost\"] = price[\"Historical_Cost_of_Ride\"] * (\n",
    "                                                                np.maximum(price[\"demand_multiplier\"] , demand_threshold_low) * # value\n",
    "                                                                     np.maximum(price[\"supply_multiplier\"] , supply_threshold_high) # threshold\n",
    "                                                                ) # np.maximum(value, threshold)\n",
    "                                      "
   ]
  },
  {
   "cell_type": "markdown",
   "id": "50002fb3-c05a-4a0f-835c-648ee99a9371",
   "metadata": {},
   "source": [
    "In the above code, we first calculated the demand multiplier by comparing the number of riders to percentiles representing high and low demand levels. If the number of riders exceeds the percentile for high demand, the demand multiplier is set as the number of riders divided by the high-demand percentile. Otherwise, if the number of riders falls below the percentile for low demand, the demand multiplier is set as the number of riders divided by the low-demand percentile."
   ]
  },
  {
   "cell_type": "markdown",
   "id": "00ca1426-c44f-44d0-a714-9b10418450de",
   "metadata": {},
   "source": [
    "Next, we calculated the supply multiplier by comparing the number of drivers to percentiles representing high and low supply levels. If the number of drivers exceeds the low-supply percentile, the supply multiplier is set as the high-supply percentile divided by the number of drivers. On the other hand, if the number of drivers is below the low-supply percentile, the supply multiplier is set as the low-supply percentile divided by the number of drivers."
   ]
  },
  {
   "cell_type": "markdown",
   "id": "79ff3237-b61d-4c84-b89f-1c8fd339766e",
   "metadata": {},
   "source": [
    "Finally, we calculated the adjusted ride cost for dynamic pricing. It multiplies the historical cost of the ride by the maximum of the demand multiplier and a lower threshold (demand_threshold_low), and also by the maximum of the supply multiplier and an upper threshold (supply_threshold_high). This multiplication ensures that the adjusted ride cost captures the combined effect of demand and supply multipliers, with the thresholds serving as caps or floors to control the price adjustments."
   ]
  },
  {
   "cell_type": "markdown",
   "id": "f7cf9cb9-fa72-4502-af47-a06abd24412c",
   "metadata": {},
   "source": [
    "Now let’s calculate the profit percentage we got after implementing this dynamic pricing strategy:"
   ]
  },
  {
   "cell_type": "code",
   "execution_count": 23,
   "id": "6d1f538d-a074-4464-a511-600f29f5ef05",
   "metadata": {},
   "outputs": [
    {
     "data": {
      "application/vnd.plotly.v1+json": {
       "config": {
        "plotlyServerURL": "https://plot.ly"
       },
       "data": [
        {
         "hole": 0.4,
         "labels": [
          "Profitable Rides",
          "Loss Rides"
         ],
         "type": "pie",
         "values": [
          826,
          173
         ]
        }
       ],
       "layout": {
        "template": {
         "data": {
          "bar": [
           {
            "error_x": {
             "color": "#2a3f5f"
            },
            "error_y": {
             "color": "#2a3f5f"
            },
            "marker": {
             "line": {
              "color": "#E5ECF6",
              "width": 0.5
             },
             "pattern": {
              "fillmode": "overlay",
              "size": 10,
              "solidity": 0.2
             }
            },
            "type": "bar"
           }
          ],
          "barpolar": [
           {
            "marker": {
             "line": {
              "color": "#E5ECF6",
              "width": 0.5
             },
             "pattern": {
              "fillmode": "overlay",
              "size": 10,
              "solidity": 0.2
             }
            },
            "type": "barpolar"
           }
          ],
          "carpet": [
           {
            "aaxis": {
             "endlinecolor": "#2a3f5f",
             "gridcolor": "white",
             "linecolor": "white",
             "minorgridcolor": "white",
             "startlinecolor": "#2a3f5f"
            },
            "baxis": {
             "endlinecolor": "#2a3f5f",
             "gridcolor": "white",
             "linecolor": "white",
             "minorgridcolor": "white",
             "startlinecolor": "#2a3f5f"
            },
            "type": "carpet"
           }
          ],
          "choropleth": [
           {
            "colorbar": {
             "outlinewidth": 0,
             "ticks": ""
            },
            "type": "choropleth"
           }
          ],
          "contour": [
           {
            "colorbar": {
             "outlinewidth": 0,
             "ticks": ""
            },
            "colorscale": [
             [
              0,
              "#0d0887"
             ],
             [
              0.1111111111111111,
              "#46039f"
             ],
             [
              0.2222222222222222,
              "#7201a8"
             ],
             [
              0.3333333333333333,
              "#9c179e"
             ],
             [
              0.4444444444444444,
              "#bd3786"
             ],
             [
              0.5555555555555556,
              "#d8576b"
             ],
             [
              0.6666666666666666,
              "#ed7953"
             ],
             [
              0.7777777777777778,
              "#fb9f3a"
             ],
             [
              0.8888888888888888,
              "#fdca26"
             ],
             [
              1,
              "#f0f921"
             ]
            ],
            "type": "contour"
           }
          ],
          "contourcarpet": [
           {
            "colorbar": {
             "outlinewidth": 0,
             "ticks": ""
            },
            "type": "contourcarpet"
           }
          ],
          "heatmap": [
           {
            "colorbar": {
             "outlinewidth": 0,
             "ticks": ""
            },
            "colorscale": [
             [
              0,
              "#0d0887"
             ],
             [
              0.1111111111111111,
              "#46039f"
             ],
             [
              0.2222222222222222,
              "#7201a8"
             ],
             [
              0.3333333333333333,
              "#9c179e"
             ],
             [
              0.4444444444444444,
              "#bd3786"
             ],
             [
              0.5555555555555556,
              "#d8576b"
             ],
             [
              0.6666666666666666,
              "#ed7953"
             ],
             [
              0.7777777777777778,
              "#fb9f3a"
             ],
             [
              0.8888888888888888,
              "#fdca26"
             ],
             [
              1,
              "#f0f921"
             ]
            ],
            "type": "heatmap"
           }
          ],
          "histogram": [
           {
            "marker": {
             "pattern": {
              "fillmode": "overlay",
              "size": 10,
              "solidity": 0.2
             }
            },
            "type": "histogram"
           }
          ],
          "histogram2d": [
           {
            "colorbar": {
             "outlinewidth": 0,
             "ticks": ""
            },
            "colorscale": [
             [
              0,
              "#0d0887"
             ],
             [
              0.1111111111111111,
              "#46039f"
             ],
             [
              0.2222222222222222,
              "#7201a8"
             ],
             [
              0.3333333333333333,
              "#9c179e"
             ],
             [
              0.4444444444444444,
              "#bd3786"
             ],
             [
              0.5555555555555556,
              "#d8576b"
             ],
             [
              0.6666666666666666,
              "#ed7953"
             ],
             [
              0.7777777777777778,
              "#fb9f3a"
             ],
             [
              0.8888888888888888,
              "#fdca26"
             ],
             [
              1,
              "#f0f921"
             ]
            ],
            "type": "histogram2d"
           }
          ],
          "histogram2dcontour": [
           {
            "colorbar": {
             "outlinewidth": 0,
             "ticks": ""
            },
            "colorscale": [
             [
              0,
              "#0d0887"
             ],
             [
              0.1111111111111111,
              "#46039f"
             ],
             [
              0.2222222222222222,
              "#7201a8"
             ],
             [
              0.3333333333333333,
              "#9c179e"
             ],
             [
              0.4444444444444444,
              "#bd3786"
             ],
             [
              0.5555555555555556,
              "#d8576b"
             ],
             [
              0.6666666666666666,
              "#ed7953"
             ],
             [
              0.7777777777777778,
              "#fb9f3a"
             ],
             [
              0.8888888888888888,
              "#fdca26"
             ],
             [
              1,
              "#f0f921"
             ]
            ],
            "type": "histogram2dcontour"
           }
          ],
          "mesh3d": [
           {
            "colorbar": {
             "outlinewidth": 0,
             "ticks": ""
            },
            "type": "mesh3d"
           }
          ],
          "parcoords": [
           {
            "line": {
             "colorbar": {
              "outlinewidth": 0,
              "ticks": ""
             }
            },
            "type": "parcoords"
           }
          ],
          "pie": [
           {
            "automargin": true,
            "type": "pie"
           }
          ],
          "scatter": [
           {
            "fillpattern": {
             "fillmode": "overlay",
             "size": 10,
             "solidity": 0.2
            },
            "type": "scatter"
           }
          ],
          "scatter3d": [
           {
            "line": {
             "colorbar": {
              "outlinewidth": 0,
              "ticks": ""
             }
            },
            "marker": {
             "colorbar": {
              "outlinewidth": 0,
              "ticks": ""
             }
            },
            "type": "scatter3d"
           }
          ],
          "scattercarpet": [
           {
            "marker": {
             "colorbar": {
              "outlinewidth": 0,
              "ticks": ""
             }
            },
            "type": "scattercarpet"
           }
          ],
          "scattergeo": [
           {
            "marker": {
             "colorbar": {
              "outlinewidth": 0,
              "ticks": ""
             }
            },
            "type": "scattergeo"
           }
          ],
          "scattergl": [
           {
            "marker": {
             "colorbar": {
              "outlinewidth": 0,
              "ticks": ""
             }
            },
            "type": "scattergl"
           }
          ],
          "scattermap": [
           {
            "marker": {
             "colorbar": {
              "outlinewidth": 0,
              "ticks": ""
             }
            },
            "type": "scattermap"
           }
          ],
          "scattermapbox": [
           {
            "marker": {
             "colorbar": {
              "outlinewidth": 0,
              "ticks": ""
             }
            },
            "type": "scattermapbox"
           }
          ],
          "scatterpolar": [
           {
            "marker": {
             "colorbar": {
              "outlinewidth": 0,
              "ticks": ""
             }
            },
            "type": "scatterpolar"
           }
          ],
          "scatterpolargl": [
           {
            "marker": {
             "colorbar": {
              "outlinewidth": 0,
              "ticks": ""
             }
            },
            "type": "scatterpolargl"
           }
          ],
          "scatterternary": [
           {
            "marker": {
             "colorbar": {
              "outlinewidth": 0,
              "ticks": ""
             }
            },
            "type": "scatterternary"
           }
          ],
          "surface": [
           {
            "colorbar": {
             "outlinewidth": 0,
             "ticks": ""
            },
            "colorscale": [
             [
              0,
              "#0d0887"
             ],
             [
              0.1111111111111111,
              "#46039f"
             ],
             [
              0.2222222222222222,
              "#7201a8"
             ],
             [
              0.3333333333333333,
              "#9c179e"
             ],
             [
              0.4444444444444444,
              "#bd3786"
             ],
             [
              0.5555555555555556,
              "#d8576b"
             ],
             [
              0.6666666666666666,
              "#ed7953"
             ],
             [
              0.7777777777777778,
              "#fb9f3a"
             ],
             [
              0.8888888888888888,
              "#fdca26"
             ],
             [
              1,
              "#f0f921"
             ]
            ],
            "type": "surface"
           }
          ],
          "table": [
           {
            "cells": {
             "fill": {
              "color": "#EBF0F8"
             },
             "line": {
              "color": "white"
             }
            },
            "header": {
             "fill": {
              "color": "#C8D4E3"
             },
             "line": {
              "color": "white"
             }
            },
            "type": "table"
           }
          ]
         },
         "layout": {
          "annotationdefaults": {
           "arrowcolor": "#2a3f5f",
           "arrowhead": 0,
           "arrowwidth": 1
          },
          "autotypenumbers": "strict",
          "coloraxis": {
           "colorbar": {
            "outlinewidth": 0,
            "ticks": ""
           }
          },
          "colorscale": {
           "diverging": [
            [
             0,
             "#8e0152"
            ],
            [
             0.1,
             "#c51b7d"
            ],
            [
             0.2,
             "#de77ae"
            ],
            [
             0.3,
             "#f1b6da"
            ],
            [
             0.4,
             "#fde0ef"
            ],
            [
             0.5,
             "#f7f7f7"
            ],
            [
             0.6,
             "#e6f5d0"
            ],
            [
             0.7,
             "#b8e186"
            ],
            [
             0.8,
             "#7fbc41"
            ],
            [
             0.9,
             "#4d9221"
            ],
            [
             1,
             "#276419"
            ]
           ],
           "sequential": [
            [
             0,
             "#0d0887"
            ],
            [
             0.1111111111111111,
             "#46039f"
            ],
            [
             0.2222222222222222,
             "#7201a8"
            ],
            [
             0.3333333333333333,
             "#9c179e"
            ],
            [
             0.4444444444444444,
             "#bd3786"
            ],
            [
             0.5555555555555556,
             "#d8576b"
            ],
            [
             0.6666666666666666,
             "#ed7953"
            ],
            [
             0.7777777777777778,
             "#fb9f3a"
            ],
            [
             0.8888888888888888,
             "#fdca26"
            ],
            [
             1,
             "#f0f921"
            ]
           ],
           "sequentialminus": [
            [
             0,
             "#0d0887"
            ],
            [
             0.1111111111111111,
             "#46039f"
            ],
            [
             0.2222222222222222,
             "#7201a8"
            ],
            [
             0.3333333333333333,
             "#9c179e"
            ],
            [
             0.4444444444444444,
             "#bd3786"
            ],
            [
             0.5555555555555556,
             "#d8576b"
            ],
            [
             0.6666666666666666,
             "#ed7953"
            ],
            [
             0.7777777777777778,
             "#fb9f3a"
            ],
            [
             0.8888888888888888,
             "#fdca26"
            ],
            [
             1,
             "#f0f921"
            ]
           ]
          },
          "colorway": [
           "#636efa",
           "#EF553B",
           "#00cc96",
           "#ab63fa",
           "#FFA15A",
           "#19d3f3",
           "#FF6692",
           "#B6E880",
           "#FF97FF",
           "#FECB52"
          ],
          "font": {
           "color": "#2a3f5f"
          },
          "geo": {
           "bgcolor": "white",
           "lakecolor": "white",
           "landcolor": "#E5ECF6",
           "showlakes": true,
           "showland": true,
           "subunitcolor": "white"
          },
          "hoverlabel": {
           "align": "left"
          },
          "hovermode": "closest",
          "mapbox": {
           "style": "light"
          },
          "paper_bgcolor": "white",
          "plot_bgcolor": "#E5ECF6",
          "polar": {
           "angularaxis": {
            "gridcolor": "white",
            "linecolor": "white",
            "ticks": ""
           },
           "bgcolor": "#E5ECF6",
           "radialaxis": {
            "gridcolor": "white",
            "linecolor": "white",
            "ticks": ""
           }
          },
          "scene": {
           "xaxis": {
            "backgroundcolor": "#E5ECF6",
            "gridcolor": "white",
            "gridwidth": 2,
            "linecolor": "white",
            "showbackground": true,
            "ticks": "",
            "zerolinecolor": "white"
           },
           "yaxis": {
            "backgroundcolor": "#E5ECF6",
            "gridcolor": "white",
            "gridwidth": 2,
            "linecolor": "white",
            "showbackground": true,
            "ticks": "",
            "zerolinecolor": "white"
           },
           "zaxis": {
            "backgroundcolor": "#E5ECF6",
            "gridcolor": "white",
            "gridwidth": 2,
            "linecolor": "white",
            "showbackground": true,
            "ticks": "",
            "zerolinecolor": "white"
           }
          },
          "shapedefaults": {
           "line": {
            "color": "#2a3f5f"
           }
          },
          "ternary": {
           "aaxis": {
            "gridcolor": "white",
            "linecolor": "white",
            "ticks": ""
           },
           "baxis": {
            "gridcolor": "white",
            "linecolor": "white",
            "ticks": ""
           },
           "bgcolor": "#E5ECF6",
           "caxis": {
            "gridcolor": "white",
            "linecolor": "white",
            "ticks": ""
           }
          },
          "title": {
           "x": 0.05
          },
          "xaxis": {
           "automargin": true,
           "gridcolor": "white",
           "linecolor": "white",
           "ticks": "",
           "title": {
            "standoff": 15
           },
           "zerolinecolor": "white",
           "zerolinewidth": 2
          },
          "yaxis": {
           "automargin": true,
           "gridcolor": "white",
           "linecolor": "white",
           "ticks": "",
           "title": {
            "standoff": 15
           },
           "zerolinecolor": "white",
           "zerolinewidth": 2
          }
         }
        },
        "title": {
         "text": "Profitability of Rides (Dynamic Pricing vs. Historical Pricing)"
        }
       }
      },
      "image/png": "[encoded data removed]"
     },
     "metadata": {},
     "output_type": "display_data"
    }
   ],
   "source": [
    "#Calculate the Profit Percentage of each ride\n",
    "price[\"profit_percentage\"] = ((price[\"adjusted_ride_cost\"] - price[\"Historical_Cost_of_Ride\"]) / price[\"Historical_Cost_of_Ride\"]) *100\n",
    "\n",
    "\n",
    "# Identify Profitable ride where profit percentage is positive\n",
    "profitable_rides = price[price[\"profit_percentage\"] > 0]\n",
    "\n",
    "# Identify Loss ride where profit percentage is Negative\n",
    "loss_rides = price[price[\"profit_percentage\"] < 0]\n",
    "\n",
    "\n",
    "import plotly.graph_objects as go\n",
    "\n",
    "\n",
    "#Calculate the count of profitable and loss rides\n",
    "\n",
    "profitable_counts = len(profitable_rides)\n",
    "loss_counts = len(loss_rides)\n",
    "\n",
    "\n",
    "#Create a donut Chart to show the distribution  of Profitable  and Loss rides\n",
    "labels = [\"Profitable Rides\" , \"Loss Rides\"]\n",
    "values = [profitable_counts , loss_counts]\n",
    "\n",
    "fig_profitVSloss = go.Figure(data = [go.Pie(labels= labels , values= values , hole = 0.4)])\n",
    "\n",
    "fig_profitVSloss.update_layout(title = \"Profitability of Rides (Dynamic Pricing vs. Historical Pricing)\")\n",
    "fig_profitVSloss.show()"
   ]
  },
  {
   "cell_type": "markdown",
   "id": "b033614f-c22b-40e3-b480-665b565bffd8",
   "metadata": {},
   "source": [
    "Now let’s have a look at the relationship between the expected ride duration and the cost of the ride based on the dynamic pricing strategy:"
   ]
  },
  {
   "cell_type": "code",
   "execution_count": 27,
   "id": "0350e292-e80c-493f-b44e-287debf75ddc",
   "metadata": {},
   "outputs": [
    {
     "data": {
      "application/vnd.plotly.v1+json": {
       "config": {
        "plotlyServerURL": "https://plot.ly"
       },
       "data": [
        {
         "hovertemplate": "Expected_Ride_Duration=%{x}<br>adjusted_ride_cost=%{y}<extra></extra>",
         "legendgroup": "",
         "marker": {
          "color": "#636efa",
          "symbol": "circle"
         },
         "mode": "markers",
         "name": "",
         "orientation": "v",
         "showlegend": false,
         "type": "scatter",
         "x": {
          "bdata": "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",
          "dtype": "i2"
         },
         "xaxis": "x",
         "y": {
          "bdata": "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",
          "dtype": "f8"
         },
         "yaxis": "y"
        },
        {
         "hovertemplate": "<b>OLS trendline</b><br>adjusted_ride_cost = 6.41066 * Expected_Ride_Duration + 42.715<br>R<sup>2</sup>=0.426517<br><br>Expected_Ride_Duration=%{x}<br>adjusted_ride_cost=%{y} <b>(trend)</b><extra></extra>",
         "legendgroup": "",
         "marker": {
          "color": "#636efa",
          "symbol": "circle"
         },
         "mode": "lines",
         "name": "",
         "showlegend": false,
         "type": "scatter",
         "x": {
          "bdata": "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",
          "dtype": "i2"
         },
         "xaxis": "x",
         "y": {
          "bdata": "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",
          "dtype": "f8"
         },
         "yaxis": "y"
        }
       ],
       "layout": {
        "legend": {
         "tracegroupgap": 0
        },
        "template": {
         "data": {
          "bar": [
           {
            "error_x": {
             "color": "#2a3f5f"
            },
            "error_y": {
             "color": "#2a3f5f"
            },
            "marker": {
             "line": {
              "color": "#E5ECF6",
              "width": 0.5
             },
             "pattern": {
              "fillmode": "overlay",
              "size": 10,
              "solidity": 0.2
             }
            },
            "type": "bar"
           }
          ],
          "barpolar": [
           {
            "marker": {
             "line": {
              "color": "#E5ECF6",
              "width": 0.5
             },
             "pattern": {
              "fillmode": "overlay",
              "size": 10,
              "solidity": 0.2
             }
            },
            "type": "barpolar"
           }
          ],
          "carpet": [
           {
            "aaxis": {
             "endlinecolor": "#2a3f5f",
             "gridcolor": "white",
             "linecolor": "white",
             "minorgridcolor": "white",
             "startlinecolor": "#2a3f5f"
            },
            "baxis": {
             "endlinecolor": "#2a3f5f",
             "gridcolor": "white",
             "linecolor": "white",
             "minorgridcolor": "white",
             "startlinecolor": "#2a3f5f"
            },
            "type": "carpet"
           }
          ],
          "choropleth": [
           {
            "colorbar": {
             "outlinewidth": 0,
             "ticks": ""
            },
            "type": "choropleth"
           }
          ],
          "contour": [
           {
            "colorbar": {
             "outlinewidth": 0,
             "ticks": ""
            },
            "colorscale": [
             [
              0,
              "#0d0887"
             ],
             [
              0.1111111111111111,
              "#46039f"
             ],
             [
              0.2222222222222222,
              "#7201a8"
             ],
             [
              0.3333333333333333,
              "#9c179e"
             ],
             [
              0.4444444444444444,
              "#bd3786"
             ],
             [
              0.5555555555555556,
              "#d8576b"
             ],
             [
              0.6666666666666666,
              "#ed7953"
             ],
             [
              0.7777777777777778,
              "#fb9f3a"
             ],
             [
              0.8888888888888888,
              "#fdca26"
             ],
             [
              1,
              "#f0f921"
             ]
            ],
            "type": "contour"
           }
          ],
          "contourcarpet": [
           {
            "colorbar": {
             "outlinewidth": 0,
             "ticks": ""
            },
            "type": "contourcarpet"
           }
          ],
          "heatmap": [
           {
            "colorbar": {
             "outlinewidth": 0,
             "ticks": ""
            },
            "colorscale": [
             [
              0,
              "#0d0887"
             ],
             [
              0.1111111111111111,
              "#46039f"
             ],
             [
              0.2222222222222222,
              "#7201a8"
             ],
             [
              0.3333333333333333,
              "#9c179e"
             ],
             [
              0.4444444444444444,
              "#bd3786"
             ],
             [
              0.5555555555555556,
              "#d8576b"
             ],
             [
              0.6666666666666666,
              "#ed7953"
             ],
             [
              0.7777777777777778,
              "#fb9f3a"
             ],
             [
              0.8888888888888888,
              "#fdca26"
             ],
             [
              1,
              "#f0f921"
             ]
            ],
            "type": "heatmap"
           }
          ],
          "histogram": [
           {
            "marker": {
             "pattern": {
              "fillmode": "overlay",
              "size": 10,
              "solidity": 0.2
             }
            },
            "type": "histogram"
           }
          ],
          "histogram2d": [
           {
            "colorbar": {
             "outlinewidth": 0,
             "ticks": ""
            },
            "colorscale": [
             [
              0,
              "#0d0887"
             ],
             [
              0.1111111111111111,
              "#46039f"
             ],
             [
              0.2222222222222222,
              "#7201a8"
             ],
             [
              0.3333333333333333,
              "#9c179e"
             ],
             [
              0.4444444444444444,
              "#bd3786"
             ],
             [
              0.5555555555555556,
              "#d8576b"
             ],
             [
              0.6666666666666666,
              "#ed7953"
             ],
             [
              0.7777777777777778,
              "#fb9f3a"
             ],
             [
              0.8888888888888888,
              "#fdca26"
             ],
             [
              1,
              "#f0f921"
             ]
            ],
            "type": "histogram2d"
           }
          ],
          "histogram2dcontour": [
           {
            "colorbar": {
             "outlinewidth": 0,
             "ticks": ""
            },
            "colorscale": [
             [
              0,
              "#0d0887"
             ],
             [
              0.1111111111111111,
              "#46039f"
             ],
             [
              0.2222222222222222,
              "#7201a8"
             ],
             [
              0.3333333333333333,
              "#9c179e"
             ],
             [
              0.4444444444444444,
              "#bd3786"
             ],
             [
              0.5555555555555556,
              "#d8576b"
             ],
             [
              0.6666666666666666,
              "#ed7953"
             ],
             [
              0.7777777777777778,
              "#fb9f3a"
             ],
             [
              0.8888888888888888,
              "#fdca26"
             ],
             [
              1,
              "#f0f921"
             ]
            ],
            "type": "histogram2dcontour"
           }
          ],
          "mesh3d": [
           {
            "colorbar": {
             "outlinewidth": 0,
             "ticks": ""
            },
            "type": "mesh3d"
           }
          ],
          "parcoords": [
           {
            "line": {
             "colorbar": {
              "outlinewidth": 0,
              "ticks": ""
             }
            },
            "type": "parcoords"
           }
          ],
          "pie": [
           {
            "automargin": true,
            "type": "pie"
           }
          ],
          "scatter": [
           {
            "fillpattern": {
             "fillmode": "overlay",
             "size": 10,
             "solidity": 0.2
            },
            "type": "scatter"
           }
          ],
          "scatter3d": [
           {
            "line": {
             "colorbar": {
              "outlinewidth": 0,
              "ticks": ""
             }
            },
            "marker": {
             "colorbar": {
              "outlinewidth": 0,
              "ticks": ""
             }
            },
            "type": "scatter3d"
           }
          ],
          "scattercarpet": [
           {
            "marker": {
             "colorbar": {
              "outlinewidth": 0,
              "ticks": ""
             }
            },
            "type": "scattercarpet"
           }
          ],
          "scattergeo": [
           {
            "marker": {
             "colorbar": {
              "outlinewidth": 0,
              "ticks": ""
             }
            },
            "type": "scattergeo"
           }
          ],
          "scattergl": [
           {
            "marker": {
             "colorbar": {
              "outlinewidth": 0,
              "ticks": ""
             }
            },
            "type": "scattergl"
           }
          ],
          "scattermap": [
           {
            "marker": {
             "colorbar": {
              "outlinewidth": 0,
              "ticks": ""
             }
            },
            "type": "scattermap"
           }
          ],
          "scattermapbox": [
           {
            "marker": {
             "colorbar": {
              "outlinewidth": 0,
              "ticks": ""
             }
            },
            "type": "scattermapbox"
           }
          ],
          "scatterpolar": [
           {
            "marker": {
             "colorbar": {
              "outlinewidth": 0,
              "ticks": ""
             }
            },
            "type": "scatterpolar"
           }
          ],
          "scatterpolargl": [
           {
            "marker": {
             "colorbar": {
              "outlinewidth": 0,
              "ticks": ""
             }
            },
            "type": "scatterpolargl"
           }
          ],
          "scatterternary": [
           {
            "marker": {
             "colorbar": {
              "outlinewidth": 0,
              "ticks": ""
             }
            },
            "type": "scatterternary"
           }
          ],
          "surface": [
           {
            "colorbar": {
             "outlinewidth": 0,
             "ticks": ""
            },
            "colorscale": [
             [
              0,
              "#0d0887"
             ],
             [
              0.1111111111111111,
              "#46039f"
             ],
             [
              0.2222222222222222,
              "#7201a8"
             ],
             [
              0.3333333333333333,
              "#9c179e"
             ],
             [
              0.4444444444444444,
              "#bd3786"
             ],
             [
              0.5555555555555556,
              "#d8576b"
             ],
             [
              0.6666666666666666,
              "#ed7953"
             ],
             [
              0.7777777777777778,
              "#fb9f3a"
             ],
             [
              0.8888888888888888,
              "#fdca26"
             ],
             [
              1,
              "#f0f921"
             ]
            ],
            "type": "surface"
           }
          ],
          "table": [
           {
            "cells": {
             "fill": {
              "color": "#EBF0F8"
             },
             "line": {
              "color": "white"
             }
            },
            "header": {
             "fill": {
              "color": "#C8D4E3"
             },
             "line": {
              "color": "white"
             }
            },
            "type": "table"
           }
          ]
         },
         "layout": {
          "annotationdefaults": {
           "arrowcolor": "#2a3f5f",
           "arrowhead": 0,
           "arrowwidth": 1
          },
          "autotypenumbers": "strict",
          "coloraxis": {
           "colorbar": {
            "outlinewidth": 0,
            "ticks": ""
           }
          },
          "colorscale": {
           "diverging": [
            [
             0,
             "#8e0152"
            ],
            [
             0.1,
             "#c51b7d"
            ],
            [
             0.2,
             "#de77ae"
            ],
            [
             0.3,
             "#f1b6da"
            ],
            [
             0.4,
             "#fde0ef"
            ],
            [
             0.5,
             "#f7f7f7"
            ],
            [
             0.6,
             "#e6f5d0"
            ],
            [
             0.7,
             "#b8e186"
            ],
            [
             0.8,
             "#7fbc41"
            ],
            [
             0.9,
             "#4d9221"
            ],
            [
             1,
             "#276419"
            ]
           ],
           "sequential": [
            [
             0,
             "#0d0887"
            ],
            [
             0.1111111111111111,
             "#46039f"
            ],
            [
             0.2222222222222222,
             "#7201a8"
            ],
            [
             0.3333333333333333,
             "#9c179e"
            ],
            [
             0.4444444444444444,
             "#bd3786"
            ],
            [
             0.5555555555555556,
             "#d8576b"
            ],
            [
             0.6666666666666666,
             "#ed7953"
            ],
            [
             0.7777777777777778,
             "#fb9f3a"
            ],
            [
             0.8888888888888888,
             "#fdca26"
            ],
            [
             1,
             "#f0f921"
            ]
           ],
           "sequentialminus": [
            [
             0,
             "#0d0887"
            ],
            [
             0.1111111111111111,
             "#46039f"
            ],
            [
             0.2222222222222222,
             "#7201a8"
            ],
            [
             0.3333333333333333,
             "#9c179e"
            ],
            [
             0.4444444444444444,
             "#bd3786"
            ],
            [
             0.5555555555555556,
             "#d8576b"
            ],
            [
             0.6666666666666666,
             "#ed7953"
            ],
            [
             0.7777777777777778,
             "#fb9f3a"
            ],
            [
             0.8888888888888888,
             "#fdca26"
            ],
            [
             1,
             "#f0f921"
            ]
           ]
          },
          "colorway": [
           "#636efa",
           "#EF553B",
           "#00cc96",
           "#ab63fa",
           "#FFA15A",
           "#19d3f3",
           "#FF6692",
           "#B6E880",
           "#FF97FF",
           "#FECB52"
          ],
          "font": {
           "color": "#2a3f5f"
          },
          "geo": {
           "bgcolor": "white",
           "lakecolor": "white",
           "landcolor": "#E5ECF6",
           "showlakes": true,
           "showland": true,
           "subunitcolor": "white"
          },
          "hoverlabel": {
           "align": "left"
          },
          "hovermode": "closest",
          "mapbox": {
           "style": "light"
          },
          "paper_bgcolor": "white",
          "plot_bgcolor": "#E5ECF6",
          "polar": {
           "angularaxis": {
            "gridcolor": "white",
            "linecolor": "white",
            "ticks": ""
           },
           "bgcolor": "#E5ECF6",
           "radialaxis": {
            "gridcolor": "white",
            "linecolor": "white",
            "ticks": ""
           }
          },
          "scene": {
           "xaxis": {
            "backgroundcolor": "#E5ECF6",
            "gridcolor": "white",
            "gridwidth": 2,
            "linecolor": "white",
            "showbackground": true,
            "ticks": "",
            "zerolinecolor": "white"
           },
           "yaxis": {
            "backgroundcolor": "#E5ECF6",
            "gridcolor": "white",
            "gridwidth": 2,
            "linecolor": "white",
            "showbackground": true,
            "ticks": "",
            "zerolinecolor": "white"
           },
           "zaxis": {
            "backgroundcolor": "#E5ECF6",
            "gridcolor": "white",
            "gridwidth": 2,
            "linecolor": "white",
            "showbackground": true,
            "ticks": "",
            "zerolinecolor": "white"
           }
          },
          "shapedefaults": {
           "line": {
            "color": "#2a3f5f"
           }
          },
          "ternary": {
           "aaxis": {
            "gridcolor": "white",
            "linecolor": "white",
            "ticks": ""
           },
           "baxis": {
            "gridcolor": "white",
            "linecolor": "white",
            "ticks": ""
           },
           "bgcolor": "#E5ECF6",
           "caxis": {
            "gridcolor": "white",
            "linecolor": "white",
            "ticks": ""
           }
          },
          "title": {
           "x": 0.05
          },
          "xaxis": {
           "automargin": true,
           "gridcolor": "white",
           "linecolor": "white",
           "ticks": "",
           "title": {
            "standoff": 15
           },
           "zerolinecolor": "white",
           "zerolinewidth": 2
          },
          "yaxis": {
           "automargin": true,
           "gridcolor": "white",
           "linecolor": "white",
           "ticks": "",
           "title": {
            "standoff": 15
           },
           "zerolinecolor": "white",
           "zerolinewidth": 2
          }
         }
        },
        "title": {
         "text": "Expected Ride Duration VS Cost of Ride"
        },
        "xaxis": {
         "anchor": "y",
         "domain": [
          0,
          1
         ],
         "title": {
          "text": "Expected_Ride_Duration"
         }
        },
        "yaxis": {
         "anchor": "x",
         "domain": [
          0,
          1
         ],
         "title": {
          "text": "adjusted_ride_cost"
         }
        }
       }
      },
      "image/png": "[encoded data removed]"
     },
     "metadata": {},
     "output_type": "display_data"
    }
   ],
   "source": [
    "fig_durationVSadjusted_ride_cost = px.scatter(price , x = \"Expected_Ride_Duration\" ,y = \"adjusted_ride_cost\",\n",
    "                                             title= \"Expected Ride Duration VS Cost of Ride\" , trendline= \"ols\")\n",
    "\n",
    "fig_durationVSadjusted_ride_cost.show()"
   ]
  },
  {
   "cell_type": "markdown",
   "id": "3fa7a8b4-d0bd-4f5f-a25b-b24e24a3a70d",
   "metadata": {},
   "source": [
    "## Training a Predictive Model"
   ]
  },
  {
   "cell_type": "markdown",
   "id": "79d2c645-6431-4a1c-a3d8-6486f19f5349",
   "metadata": {},
   "source": [
    "Now, as we have implemented a dynamic pricing strategy, let’s train a Machine Learning model. Before training the model, let’s preprocess the data:"
   ]
  },
  {
   "cell_type": "code",
   "execution_count": 36,
   "id": "7ab0e1a0-267d-4c96-bf40-437bfaef84f8",
   "metadata": {},
   "outputs": [],
   "source": [
    "import pandas as pd\n",
    "import numpy as np\n",
    "from sklearn.preprocessing import StandardScaler\n",
    "\n",
    "\n",
    "def data_preprocessing_pipeline(price):\n",
    "    #Identify numeric and categorical features\n",
    "    numerical_features = price.select_dtypes(include=[\"float\",\"int\"]).columns\n",
    "    categorical_features = price.select_dtypes(include=[\"object\"]).columns\n",
    "\n",
    "    #Handle missing Values in numeric features\n",
    "    price[numerical_features] = price[numerical_features].fillna(price[numerical_features].mean())\n",
    "\n",
    "\n",
    "    # Detect and Handle Outliers in Numeric features using IQR\n",
    "    for nfeature in numerical_features:\n",
    "        Q1 = price[nfeature].quantile(0.25)\n",
    "        Q3 = price[nfeature].quantile(0.75)\n",
    "        IQR = Q3 - Q1\n",
    "        lower_bound = Q1 - (1.5 * IQR)\n",
    "        upper_bound = Q3 - (1.5 * IQR)\n",
    "        price[nfeature] = np.where((price[nfeature] < lower_bound) | (price[nfeature] < lower_bound),\n",
    "                                    price[nfeature].mean() , price[nfeature])\n",
    "\n",
    "    #Handling missing values in categorical feature\n",
    "    price[categorical_features] = price[categorical_features].fillna(price[categorical_features].mode().iloc[0])\n",
    "\n",
    "    return price"
   ]
  },
  {
   "cell_type": "markdown",
   "id": "c71a93a3-0b48-4821-bcbd-c5d62560bdf8",
   "metadata": {},
   "source": [
    "In the above code, we have implemented a data preprocessing pipeline to preprocess the data.You can learn more about it here below:"
   ]
  },
  {
   "cell_type": "markdown",
   "id": "b2965030-3124-4341-8c49-500cee7cf97d",
   "metadata": {},
   "source": [
    "https://amanxai.com/2023/06/19/data-preprocessing-pipeline-using-python/"
   ]
  },
  {
   "cell_type": "markdown",
   "id": "2c87ec9d-0023-4149-8cfa-f1a86f338b1b",
   "metadata": {},
   "source": [
    "As vehicle type is a valuable factor, let’s convert it into a numerical feature before moving forward:"
   ]
  },
  {
   "cell_type": "code",
   "execution_count": 40,
   "id": "97c8a104-80f3-4956-a34f-0568d2374ce3",
   "metadata": {},
   "outputs": [],
   "source": [
    "price[\"Vehicle_Type\"] = price[\"Vehicle_Type\"].map({\"Premium\" : 1 , \"Economy\": 0})"
   ]
  },
  {
   "cell_type": "markdown",
   "id": "a62315fe-c645-48c9-9cf4-f1865fb22636",
   "metadata": {},
   "source": [
    "Now let’s split the data and train a Machine Learning model to predict the cost of a ride:"
   ]
  },
  {
   "cell_type": "code",
   "execution_count": 42,
   "id": "5bc9e118-49b9-4c14-b2e7-fe4f571fb95b",
   "metadata": {},
   "outputs": [
    {
     "data": {
      "text/html": [
       "<style>#sk-container-id-1 {\n",
       "  /* Definition of color scheme common for light and dark mode */\n",
       "  --sklearn-color-text: #000;\n",
       "  --sklearn-color-text-muted: #666;\n",
       "  --sklearn-color-line: gray;\n",
       "  /* Definition of color scheme for unfitted estimators */\n",
       "  --sklearn-color-unfitted-level-0: #fff5e6;\n",
       "  --sklearn-color-unfitted-level-1: #f6e4d2;\n",
       "  --sklearn-color-unfitted-level-2: #ffe0b3;\n",
       "  --sklearn-color-unfitted-level-3: chocolate;\n",
       "  /* Definition of color scheme for fitted estimators */\n",
       "  --sklearn-color-fitted-level-0: #f0f8ff;\n",
       "  --sklearn-color-fitted-level-1: #d4ebff;\n",
       "  --sklearn-color-fitted-level-2: #b3dbfd;\n",
       "  --sklearn-color-fitted-level-3: cornflowerblue;\n",
       "\n",
       "  /* Specific color for light theme */\n",
       "  --sklearn-color-text-on-default-background: var(--sg-text-color, var(--theme-code-foreground, var(--jp-content-font-color1, black)));\n",
       "  --sklearn-color-background: var(--sg-background-color, var(--theme-background, var(--jp-layout-color0, white)));\n",
       "  --sklearn-color-border-box: var(--sg-text-color, var(--theme-code-foreground, var(--jp-content-font-color1, black)));\n",
       "  --sklearn-color-icon: #696969;\n",
       "\n",
       "  @media (prefers-color-scheme: dark) {\n",
       "    /* Redefinition of color scheme for dark theme */\n",
       "    --sklearn-color-text-on-default-background: var(--sg-text-color, var(--theme-code-foreground, var(--jp-content-font-color1, white)));\n",
       "    --sklearn-color-background: var(--sg-background-color, var(--theme-background, var(--jp-layout-color0, #111)));\n",
       "    --sklearn-color-border-box: var(--sg-text-color, var(--theme-code-foreground, var(--jp-content-font-color1, white)));\n",
       "    --sklearn-color-icon: #878787;\n",
       "  }\n",
       "}\n",
       "\n",
       "#sk-container-id-1 {\n",
       "  color: var(--sklearn-color-text);\n",
       "}\n",
       "\n",
       "#sk-container-id-1 pre {\n",
       "  padding: 0;\n",
       "}\n",
       "\n",
       "#sk-container-id-1 input.sk-hidden--visually {\n",
       "  border: 0;\n",
       "  clip: rect(1px 1px 1px 1px);\n",
       "  clip: rect(1px, 1px, 1px, 1px);\n",
       "  height: 1px;\n",
       "  margin: -1px;\n",
       "  overflow: hidden;\n",
       "  padding: 0;\n",
       "  position: absolute;\n",
       "  width: 1px;\n",
       "}\n",
       "\n",
       "#sk-container-id-1 div.sk-dashed-wrapped {\n",
       "  border: 1px dashed var(--sklearn-color-line);\n",
       "  margin: 0 0.4em 0.5em 0.4em;\n",
       "  box-sizing: border-box;\n",
       "  padding-bottom: 0.4em;\n",
       "  background-color: var(--sklearn-color-background);\n",
       "}\n",
       "\n",
       "#sk-container-id-1 div.sk-container {\n",
       "  /* jupyter's `normalize.less` sets `[hidden] { display: none; }`\n",
       "     but bootstrap.min.css set `[hidden] { display: none !important; }`\n",
       "     so we also need the `!important` here to be able to override the\n",
       "     default hidden behavior on the sphinx rendered scikit-learn.org.\n",
       "     See: https://github.com/scikit-learn/scikit-learn/issues/21755 */\n",
       "  display: inline-block !important;\n",
       "  position: relative;\n",
       "}\n",
       "\n",
       "#sk-container-id-1 div.sk-text-repr-fallback {\n",
       "  display: none;\n",
       "}\n",
       "\n",
       "div.sk-parallel-item,\n",
       "div.sk-serial,\n",
       "div.sk-item {\n",
       "  /* draw centered vertical line to link estimators */\n",
       "  background-image: linear-gradient(var(--sklearn-color-text-on-default-background), var(--sklearn-color-text-on-default-background));\n",
       "  background-size: 2px 100%;\n",
       "  background-repeat: no-repeat;\n",
       "  background-position: center center;\n",
       "}\n",
       "\n",
       "/* Parallel-specific style estimator block */\n",
       "\n",
       "#sk-container-id-1 div.sk-parallel-item::after {\n",
       "  content: \"\";\n",
       "  width: 100%;\n",
       "  border-bottom: 2px solid var(--sklearn-color-text-on-default-background);\n",
       "  flex-grow: 1;\n",
       "}\n",
       "\n",
       "#sk-container-id-1 div.sk-parallel {\n",
       "  display: flex;\n",
       "  align-items: stretch;\n",
       "  justify-content: center;\n",
       "  background-color: var(--sklearn-color-background);\n",
       "  position: relative;\n",
       "}\n",
       "\n",
       "#sk-container-id-1 div.sk-parallel-item {\n",
       "  display: flex;\n",
       "  flex-direction: column;\n",
       "}\n",
       "\n",
       "#sk-container-id-1 div.sk-parallel-item:first-child::after {\n",
       "  align-self: flex-end;\n",
       "  width: 50%;\n",
       "}\n",
       "\n",
       "#sk-container-id-1 div.sk-parallel-item:last-child::after {\n",
       "  align-self: flex-start;\n",
       "  width: 50%;\n",
       "}\n",
       "\n",
       "#sk-container-id-1 div.sk-parallel-item:only-child::after {\n",
       "  width: 0;\n",
       "}\n",
       "\n",
       "/* Serial-specific style estimator block */\n",
       "\n",
       "#sk-container-id-1 div.sk-serial {\n",
       "  display: flex;\n",
       "  flex-direction: column;\n",
       "  align-items: center;\n",
       "  background-color: var(--sklearn-color-background);\n",
       "  padding-right: 1em;\n",
       "  padding-left: 1em;\n",
       "}\n",
       "\n",
       "\n",
       "/* Toggleable style: style used for estimator/Pipeline/ColumnTransformer box that is\n",
       "clickable and can be expanded/collapsed.\n",
       "- Pipeline and ColumnTransformer use this feature and define the default style\n",
       "- Estimators will overwrite some part of the style using the `sk-estimator` class\n",
       "*/\n",
       "\n",
       "/* Pipeline and ColumnTransformer style (default) */\n",
       "\n",
       "#sk-container-id-1 div.sk-toggleable {\n",
       "  /* Default theme specific background. It is overwritten whether we have a\n",
       "  specific estimator or a Pipeline/ColumnTransformer */\n",
       "  background-color: var(--sklearn-color-background);\n",
       "}\n",
       "\n",
       "/* Toggleable label */\n",
       "#sk-container-id-1 label.sk-toggleable__label {\n",
       "  cursor: pointer;\n",
       "  display: flex;\n",
       "  width: 100%;\n",
       "  margin-bottom: 0;\n",
       "  padding: 0.5em;\n",
       "  box-sizing: border-box;\n",
       "  text-align: center;\n",
       "  align-items: start;\n",
       "  justify-content: space-between;\n",
       "  gap: 0.5em;\n",
       "}\n",
       "\n",
       "#sk-container-id-1 label.sk-toggleable__label .caption {\n",
       "  font-size: 0.6rem;\n",
       "  font-weight: lighter;\n",
       "  color: var(--sklearn-color-text-muted);\n",
       "}\n",
       "\n",
       "#sk-container-id-1 label.sk-toggleable__label-arrow:before {\n",
       "  /* Arrow on the left of the label */\n",
       "  content: \"▸\";\n",
       "  float: left;\n",
       "  margin-right: 0.25em;\n",
       "  color: var(--sklearn-color-icon);\n",
       "}\n",
       "\n",
       "#sk-container-id-1 label.sk-toggleable__label-arrow:hover:before {\n",
       "  color: var(--sklearn-color-text);\n",
       "}\n",
       "\n",
       "/* Toggleable content - dropdown */\n",
       "\n",
       "#sk-container-id-1 div.sk-toggleable__content {\n",
       "  display: none;\n",
       "  text-align: left;\n",
       "  /* unfitted */\n",
       "  background-color: var(--sklearn-color-unfitted-level-0);\n",
       "}\n",
       "\n",
       "#sk-container-id-1 div.sk-toggleable__content.fitted {\n",
       "  /* fitted */\n",
       "  background-color: var(--sklearn-color-fitted-level-0);\n",
       "}\n",
       "\n",
       "#sk-container-id-1 div.sk-toggleable__content pre {\n",
       "  margin: 0.2em;\n",
       "  border-radius: 0.25em;\n",
       "  color: var(--sklearn-color-text);\n",
       "  /* unfitted */\n",
       "  background-color: var(--sklearn-color-unfitted-level-0);\n",
       "}\n",
       "\n",
       "#sk-container-id-1 div.sk-toggleable__content.fitted pre {\n",
       "  /* unfitted */\n",
       "  background-color: var(--sklearn-color-fitted-level-0);\n",
       "}\n",
       "\n",
       "#sk-container-id-1 input.sk-toggleable__control:checked~div.sk-toggleable__content {\n",
       "  /* Expand drop-down */\n",
       "  display: block;\n",
       "  width: 100%;\n",
       "  overflow: visible;\n",
       "}\n",
       "\n",
       "#sk-container-id-1 input.sk-toggleable__control:checked~label.sk-toggleable__label-arrow:before {\n",
       "  content: \"▾\";\n",
       "}\n",
       "\n",
       "/* Pipeline/ColumnTransformer-specific style */\n",
       "\n",
       "#sk-container-id-1 div.sk-label input.sk-toggleable__control:checked~label.sk-toggleable__label {\n",
       "  color: var(--sklearn-color-text);\n",
       "  background-color: var(--sklearn-color-unfitted-level-2);\n",
       "}\n",
       "\n",
       "#sk-container-id-1 div.sk-label.fitted input.sk-toggleable__control:checked~label.sk-toggleable__label {\n",
       "  background-color: var(--sklearn-color-fitted-level-2);\n",
       "}\n",
       "\n",
       "/* Estimator-specific style */\n",
       "\n",
       "/* Colorize estimator box */\n",
       "#sk-container-id-1 div.sk-estimator input.sk-toggleable__control:checked~label.sk-toggleable__label {\n",
       "  /* unfitted */\n",
       "  background-color: var(--sklearn-color-unfitted-level-2);\n",
       "}\n",
       "\n",
       "#sk-container-id-1 div.sk-estimator.fitted input.sk-toggleable__control:checked~label.sk-toggleable__label {\n",
       "  /* fitted */\n",
       "  background-color: var(--sklearn-color-fitted-level-2);\n",
       "}\n",
       "\n",
       "#sk-container-id-1 div.sk-label label.sk-toggleable__label,\n",
       "#sk-container-id-1 div.sk-label label {\n",
       "  /* The background is the default theme color */\n",
       "  color: var(--sklearn-color-text-on-default-background);\n",
       "}\n",
       "\n",
       "/* On hover, darken the color of the background */\n",
       "#sk-container-id-1 div.sk-label:hover label.sk-toggleable__label {\n",
       "  color: var(--sklearn-color-text);\n",
       "  background-color: var(--sklearn-color-unfitted-level-2);\n",
       "}\n",
       "\n",
       "/* Label box, darken color on hover, fitted */\n",
       "#sk-container-id-1 div.sk-label.fitted:hover label.sk-toggleable__label.fitted {\n",
       "  color: var(--sklearn-color-text);\n",
       "  background-color: var(--sklearn-color-fitted-level-2);\n",
       "}\n",
       "\n",
       "/* Estimator label */\n",
       "\n",
       "#sk-container-id-1 div.sk-label label {\n",
       "  font-family: monospace;\n",
       "  font-weight: bold;\n",
       "  display: inline-block;\n",
       "  line-height: 1.2em;\n",
       "}\n",
       "\n",
       "#sk-container-id-1 div.sk-label-container {\n",
       "  text-align: center;\n",
       "}\n",
       "\n",
       "/* Estimator-specific */\n",
       "#sk-container-id-1 div.sk-estimator {\n",
       "  font-family: monospace;\n",
       "  border: 1px dotted var(--sklearn-color-border-box);\n",
       "  border-radius: 0.25em;\n",
       "  box-sizing: border-box;\n",
       "  margin-bottom: 0.5em;\n",
       "  /* unfitted */\n",
       "  background-color: var(--sklearn-color-unfitted-level-0);\n",
       "}\n",
       "\n",
       "#sk-container-id-1 div.sk-estimator.fitted {\n",
       "  /* fitted */\n",
       "  background-color: var(--sklearn-color-fitted-level-0);\n",
       "}\n",
       "\n",
       "/* on hover */\n",
       "#sk-container-id-1 div.sk-estimator:hover {\n",
       "  /* unfitted */\n",
       "  background-color: var(--sklearn-color-unfitted-level-2);\n",
       "}\n",
       "\n",
       "#sk-container-id-1 div.sk-estimator.fitted:hover {\n",
       "  /* fitted */\n",
       "  background-color: var(--sklearn-color-fitted-level-2);\n",
       "}\n",
       "\n",
       "/* Specification for estimator info (e.g. \"i\" and \"?\") */\n",
       "\n",
       "/* Common style for \"i\" and \"?\" */\n",
       "\n",
       ".sk-estimator-doc-link,\n",
       "a:link.sk-estimator-doc-link,\n",
       "a:visited.sk-estimator-doc-link {\n",
       "  float: right;\n",
       "  font-size: smaller;\n",
       "  line-height: 1em;\n",
       "  font-family: monospace;\n",
       "  background-color: var(--sklearn-color-background);\n",
       "  border-radius: 1em;\n",
       "  height: 1em;\n",
       "  width: 1em;\n",
       "  text-decoration: none !important;\n",
       "  margin-left: 0.5em;\n",
       "  text-align: center;\n",
       "  /* unfitted */\n",
       "  border: var(--sklearn-color-unfitted-level-1) 1pt solid;\n",
       "  color: var(--sklearn-color-unfitted-level-1);\n",
       "}\n",
       "\n",
       ".sk-estimator-doc-link.fitted,\n",
       "a:link.sk-estimator-doc-link.fitted,\n",
       "a:visited.sk-estimator-doc-link.fitted {\n",
       "  /* fitted */\n",
       "  border: var(--sklearn-color-fitted-level-1) 1pt solid;\n",
       "  color: var(--sklearn-color-fitted-level-1);\n",
       "}\n",
       "\n",
       "/* On hover */\n",
       "div.sk-estimator:hover .sk-estimator-doc-link:hover,\n",
       ".sk-estimator-doc-link:hover,\n",
       "div.sk-label-container:hover .sk-estimator-doc-link:hover,\n",
       ".sk-estimator-doc-link:hover {\n",
       "  /* unfitted */\n",
       "  background-color: var(--sklearn-color-unfitted-level-3);\n",
       "  color: var(--sklearn-color-background);\n",
       "  text-decoration: none;\n",
       "}\n",
       "\n",
       "div.sk-estimator.fitted:hover .sk-estimator-doc-link.fitted:hover,\n",
       ".sk-estimator-doc-link.fitted:hover,\n",
       "div.sk-label-container:hover .sk-estimator-doc-link.fitted:hover,\n",
       ".sk-estimator-doc-link.fitted:hover {\n",
       "  /* fitted */\n",
       "  background-color: var(--sklearn-color-fitted-level-3);\n",
       "  color: var(--sklearn-color-background);\n",
       "  text-decoration: none;\n",
       "}\n",
       "\n",
       "/* Span, style for the box shown on hovering the info icon */\n",
       ".sk-estimator-doc-link span {\n",
       "  display: none;\n",
       "  z-index: 9999;\n",
       "  position: relative;\n",
       "  font-weight: normal;\n",
       "  right: .2ex;\n",
       "  padding: .5ex;\n",
       "  margin: .5ex;\n",
       "  width: min-content;\n",
       "  min-width: 20ex;\n",
       "  max-width: 50ex;\n",
       "  color: var(--sklearn-color-text);\n",
       "  box-shadow: 2pt 2pt 4pt #999;\n",
       "  /* unfitted */\n",
       "  background: var(--sklearn-color-unfitted-level-0);\n",
       "  border: .5pt solid var(--sklearn-color-unfitted-level-3);\n",
       "}\n",
       "\n",
       ".sk-estimator-doc-link.fitted span {\n",
       "  /* fitted */\n",
       "  background: var(--sklearn-color-fitted-level-0);\n",
       "  border: var(--sklearn-color-fitted-level-3);\n",
       "}\n",
       "\n",
       ".sk-estimator-doc-link:hover span {\n",
       "  display: block;\n",
       "}\n",
       "\n",
       "/* \"?\"-specific style due to the `<a>` HTML tag */\n",
       "\n",
       "#sk-container-id-1 a.estimator_doc_link {\n",
       "  float: right;\n",
       "  font-size: 1rem;\n",
       "  line-height: 1em;\n",
       "  font-family: monospace;\n",
       "  background-color: var(--sklearn-color-background);\n",
       "  border-radius: 1rem;\n",
       "  height: 1rem;\n",
       "  width: 1rem;\n",
       "  text-decoration: none;\n",
       "  /* unfitted */\n",
       "  color: var(--sklearn-color-unfitted-level-1);\n",
       "  border: var(--sklearn-color-unfitted-level-1) 1pt solid;\n",
       "}\n",
       "\n",
       "#sk-container-id-1 a.estimator_doc_link.fitted {\n",
       "  /* fitted */\n",
       "  border: var(--sklearn-color-fitted-level-1) 1pt solid;\n",
       "  color: var(--sklearn-color-fitted-level-1);\n",
       "}\n",
       "\n",
       "/* On hover */\n",
       "#sk-container-id-1 a.estimator_doc_link:hover {\n",
       "  /* unfitted */\n",
       "  background-color: var(--sklearn-color-unfitted-level-3);\n",
       "  color: var(--sklearn-color-background);\n",
       "  text-decoration: none;\n",
       "}\n",
       "\n",
       "#sk-container-id-1 a.estimator_doc_link.fitted:hover {\n",
       "  /* fitted */\n",
       "  background-color: var(--sklearn-color-fitted-level-3);\n",
       "}\n",
       "\n",
       ".estimator-table summary {\n",
       "    padding: .5rem;\n",
       "    font-family: monospace;\n",
       "    cursor: pointer;\n",
       "}\n",
       "\n",
       ".estimator-table details[open] {\n",
       "    padding-left: 0.1rem;\n",
       "    padding-right: 0.1rem;\n",
       "    padding-bottom: 0.3rem;\n",
       "}\n",
       "\n",
       ".estimator-table .parameters-table {\n",
       "    margin-left: auto !important;\n",
       "    margin-right: auto !important;\n",
       "}\n",
       "\n",
       ".estimator-table .parameters-table tr:nth-child(odd) {\n",
       "    background-color: #fff;\n",
       "}\n",
       "\n",
       ".estimator-table .parameters-table tr:nth-child(even) {\n",
       "    background-color: #f6f6f6;\n",
       "}\n",
       "\n",
       ".estimator-table .parameters-table tr:hover {\n",
       "    background-color: #e0e0e0;\n",
       "}\n",
       "\n",
       ".estimator-table table td {\n",
       "    border: 1px solid rgba(106, 105, 104, 0.232);\n",
       "}\n",
       "\n",
       ".user-set td {\n",
       "    color:rgb(255, 94, 0);\n",
       "    text-align: left;\n",
       "}\n",
       "\n",
       ".user-set td.value pre {\n",
       "    color:rgb(255, 94, 0) !important;\n",
       "    background-color: transparent !important;\n",
       "}\n",
       "\n",
       ".default td {\n",
       "    color: black;\n",
       "    text-align: left;\n",
       "}\n",
       "\n",
       ".user-set td i,\n",
       ".default td i {\n",
       "    color: black;\n",
       "}\n",
       "\n",
       ".copy-paste-icon {\n",
       "    background-image: url(data:image/svg+xml;base64,PHN2ZyB4bWxucz0iaHR0cDovL3d3dy53My5vcmcvMjAwMC9zdmciIHZpZXdCb3g9IjAgMCA0NDggNTEyIj48IS0tIUZvbnQgQXdlc29tZSBGcmVlIDYuNy4yIGJ5IEBmb250YXdlc29tZSAtIGh0dHBzOi8vZm9udGF3ZXNvbWUuY29tIExpY2Vuc2UgLSBodHRwczovL2ZvbnRhd2Vzb21lLmNvbS9saWNlbnNlL2ZyZWUgQ29weXJpZ2h0IDIwMjUgRm9udGljb25zLCBJbmMuLS0+PHBhdGggZD0iTTIwOCAwTDMzMi4xIDBjMTIuNyAwIDI0LjkgNS4xIDMzLjkgMTQuMWw2Ny45IDY3LjljOSA5IDE0LjEgMjEuMiAxNC4xIDMzLjlMNDQ4IDMzNmMwIDI2LjUtMjEuNSA0OC00OCA0OGwtMTkyIDBjLTI2LjUgMC00OC0yMS41LTQ4LTQ4bDAtMjg4YzAtMjYuNSAyMS41LTQ4IDQ4LTQ4ek00OCAxMjhsODAgMCAwIDY0LTY0IDAgMCAyNTYgMTkyIDAgMC0zMiA2NCAwIDAgNDhjMCAyNi41LTIxLjUgNDgtNDggNDhMNDggNTEyYy0yNi41IDAtNDgtMjEuNS00OC00OEwwIDE3NmMwLTI2LjUgMjEuNS00OCA0OC00OHoiLz48L3N2Zz4=);\n",
       "    background-repeat: no-repeat;\n",
       "    background-size: 14px 14px;\n",
       "    background-position: 0;\n",
       "    display: inline-block;\n",
       "    width: 14px;\n",
       "    height: 14px;\n",
       "    cursor: pointer;\n",
       "}\n",
       "</style><body><div id=\"sk-container-id-1\" class=\"sk-top-container\"><div class=\"sk-text-repr-fallback\"><pre>RandomForestRegressor()</pre><b>In a Jupyter environment, please rerun this cell to show the HTML representation or trust the notebook. <br />On GitHub, the HTML representation is unable to render, please try loading this page with nbviewer.org.</b></div><div class=\"sk-container\" hidden><div class=\"sk-item\"><div class=\"sk-estimator fitted sk-toggleable\"><input class=\"sk-toggleable__control sk-hidden--visually\" id=\"sk-estimator-id-1\" type=\"checkbox\" checked><label for=\"sk-estimator-id-1\" class=\"sk-toggleable__label fitted sk-toggleable__label-arrow\"><div><div>RandomForestRegressor</div></div><div><a class=\"sk-estimator-doc-link fitted\" rel=\"noreferrer\" target=\"_blank\" href=\"https://scikit-learn.org/1.7/modules/generated/sklearn.ensemble.RandomForestRegressor.html\">?<span>Documentation for RandomForestRegressor</span></a><span class=\"sk-estimator-doc-link fitted\">i<span>Fitted</span></span></div></label><div class=\"sk-toggleable__content fitted\" data-param-prefix=\"\">\n",
       "        <div class=\"estimator-table\">\n",
       "            <details>\n",
       "                <summary>Parameters</summary>\n",
       "                <table class=\"parameters-table\">\n",
       "                  <tbody>\n",
       "                    \n",
       "        <tr class=\"default\">\n",
       "            <td><i class=\"copy-paste-icon\"\n",
       "                 onclick=\"copyToClipboard('n_estimators',\n",
       "                          this.parentElement.nextElementSibling)\"\n",
       "            ></i></td>\n",
       "            <td class=\"param\">n_estimators&nbsp;</td>\n",
       "            <td class=\"value\">100</td>\n",
       "        </tr>\n",
       "    \n",
       "\n",
       "        <tr class=\"default\">\n",
       "            <td><i class=\"copy-paste-icon\"\n",
       "                 onclick=\"copyToClipboard('criterion',\n",
       "                          this.parentElement.nextElementSibling)\"\n",
       "            ></i></td>\n",
       "            <td class=\"param\">criterion&nbsp;</td>\n",
       "            <td class=\"value\">&#x27;squared_error&#x27;</td>\n",
       "        </tr>\n",
       "    \n",
       "\n",
       "        <tr class=\"default\">\n",
       "            <td><i class=\"copy-paste-icon\"\n",
       "                 onclick=\"copyToClipboard('max_depth',\n",
       "                          this.parentElement.nextElementSibling)\"\n",
       "            ></i></td>\n",
       "            <td class=\"param\">max_depth&nbsp;</td>\n",
       "            <td class=\"value\">None</td>\n",
       "        </tr>\n",
       "    \n",
       "\n",
       "        <tr class=\"default\">\n",
       "            <td><i class=\"copy-paste-icon\"\n",
       "                 onclick=\"copyToClipboard('min_samples_split',\n",
       "                          this.parentElement.nextElementSibling)\"\n",
       "            ></i></td>\n",
       "            <td class=\"param\">min_samples_split&nbsp;</td>\n",
       "            <td class=\"value\">2</td>\n",
       "        </tr>\n",
       "    \n",
       "\n",
       "        <tr class=\"default\">\n",
       "            <td><i class=\"copy-paste-icon\"\n",
       "                 onclick=\"copyToClipboard('min_samples_leaf',\n",
       "                          this.parentElement.nextElementSibling)\"\n",
       "            ></i></td>\n",
       "            <td class=\"param\">min_samples_leaf&nbsp;</td>\n",
       "            <td class=\"value\">1</td>\n",
       "        </tr>\n",
       "    \n",
       "\n",
       "        <tr class=\"default\">\n",
       "            <td><i class=\"copy-paste-icon\"\n",
       "                 onclick=\"copyToClipboard('min_weight_fraction_leaf',\n",
       "                          this.parentElement.nextElementSibling)\"\n",
       "            ></i></td>\n",
       "            <td class=\"param\">min_weight_fraction_leaf&nbsp;</td>\n",
       "            <td class=\"value\">0.0</td>\n",
       "        </tr>\n",
       "    \n",
       "\n",
       "        <tr class=\"default\">\n",
       "            <td><i class=\"copy-paste-icon\"\n",
       "                 onclick=\"copyToClipboard('max_features',\n",
       "                          this.parentElement.nextElementSibling)\"\n",
       "            ></i></td>\n",
       "            <td class=\"param\">max_features&nbsp;</td>\n",
       "            <td class=\"value\">1.0</td>\n",
       "        </tr>\n",
       "    \n",
       "\n",
       "        <tr class=\"default\">\n",
       "            <td><i class=\"copy-paste-icon\"\n",
       "                 onclick=\"copyToClipboard('max_leaf_nodes',\n",
       "                          this.parentElement.nextElementSibling)\"\n",
       "            ></i></td>\n",
       "            <td class=\"param\">max_leaf_nodes&nbsp;</td>\n",
       "            <td class=\"value\">None</td>\n",
       "        </tr>\n",
       "    \n",
       "\n",
       "        <tr class=\"default\">\n",
       "            <td><i class=\"copy-paste-icon\"\n",
       "                 onclick=\"copyToClipboard('min_impurity_decrease',\n",
       "                          this.parentElement.nextElementSibling)\"\n",
       "            ></i></td>\n",
       "            <td class=\"param\">min_impurity_decrease&nbsp;</td>\n",
       "            <td class=\"value\">0.0</td>\n",
       "        </tr>\n",
       "    \n",
       "\n",
       "        <tr class=\"default\">\n",
       "            <td><i class=\"copy-paste-icon\"\n",
       "                 onclick=\"copyToClipboard('bootstrap',\n",
       "                          this.parentElement.nextElementSibling)\"\n",
       "            ></i></td>\n",
       "            <td class=\"param\">bootstrap&nbsp;</td>\n",
       "            <td class=\"value\">True</td>\n",
       "        </tr>\n",
       "    \n",
       "\n",
       "        <tr class=\"default\">\n",
       "            <td><i class=\"copy-paste-icon\"\n",
       "                 onclick=\"copyToClipboard('oob_score',\n",
       "                          this.parentElement.nextElementSibling)\"\n",
       "            ></i></td>\n",
       "            <td class=\"param\">oob_score&nbsp;</td>\n",
       "            <td class=\"value\">False</td>\n",
       "        </tr>\n",
       "    \n",
       "\n",
       "        <tr class=\"default\">\n",
       "            <td><i class=\"copy-paste-icon\"\n",
       "                 onclick=\"copyToClipboard('n_jobs',\n",
       "                          this.parentElement.nextElementSibling)\"\n",
       "            ></i></td>\n",
       "            <td class=\"param\">n_jobs&nbsp;</td>\n",
       "            <td class=\"value\">None</td>\n",
       "        </tr>\n",
       "    \n",
       "\n",
       "        <tr class=\"default\">\n",
       "            <td><i class=\"copy-paste-icon\"\n",
       "                 onclick=\"copyToClipboard('random_state',\n",
       "                          this.parentElement.nextElementSibling)\"\n",
       "            ></i></td>\n",
       "            <td class=\"param\">random_state&nbsp;</td>\n",
       "            <td class=\"value\">None</td>\n",
       "        </tr>\n",
       "    \n",
       "\n",
       "        <tr class=\"default\">\n",
       "            <td><i class=\"copy-paste-icon\"\n",
       "                 onclick=\"copyToClipboard('verbose',\n",
       "                          this.parentElement.nextElementSibling)\"\n",
       "            ></i></td>\n",
       "            <td class=\"param\">verbose&nbsp;</td>\n",
       "            <td class=\"value\">0</td>\n",
       "        </tr>\n",
       "    \n",
       "\n",
       "        <tr class=\"default\">\n",
       "            <td><i class=\"copy-paste-icon\"\n",
       "                 onclick=\"copyToClipboard('warm_start',\n",
       "                          this.parentElement.nextElementSibling)\"\n",
       "            ></i></td>\n",
       "            <td class=\"param\">warm_start&nbsp;</td>\n",
       "            <td class=\"value\">False</td>\n",
       "        </tr>\n",
       "    \n",
       "\n",
       "        <tr class=\"default\">\n",
       "            <td><i class=\"copy-paste-icon\"\n",
       "                 onclick=\"copyToClipboard('ccp_alpha',\n",
       "                          this.parentElement.nextElementSibling)\"\n",
       "            ></i></td>\n",
       "            <td class=\"param\">ccp_alpha&nbsp;</td>\n",
       "            <td class=\"value\">0.0</td>\n",
       "        </tr>\n",
       "    \n",
       "\n",
       "        <tr class=\"default\">\n",
       "            <td><i class=\"copy-paste-icon\"\n",
       "                 onclick=\"copyToClipboard('max_samples',\n",
       "                          this.parentElement.nextElementSibling)\"\n",
       "            ></i></td>\n",
       "            <td class=\"param\">max_samples&nbsp;</td>\n",
       "            <td class=\"value\">None</td>\n",
       "        </tr>\n",
       "    \n",
       "\n",
       "        <tr class=\"default\">\n",
       "            <td><i class=\"copy-paste-icon\"\n",
       "                 onclick=\"copyToClipboard('monotonic_cst',\n",
       "                          this.parentElement.nextElementSibling)\"\n",
       "            ></i></td>\n",
       "            <td class=\"param\">monotonic_cst&nbsp;</td>\n",
       "            <td class=\"value\">None</td>\n",
       "        </tr>\n",
       "    \n",
       "                  </tbody>\n",
       "                </table>\n",
       "            </details>\n",
       "        </div>\n",
       "    </div></div></div></div></div><script>function copyToClipboard(text, element) {\n",
       "    // Get the parameter prefix from the closest toggleable content\n",
       "    const toggleableContent = element.closest('.sk-toggleable__content');\n",
       "    const paramPrefix = toggleableContent ? toggleableContent.dataset.paramPrefix : '';\n",
       "    const fullParamName = paramPrefix ? `${paramPrefix}${text}` : text;\n",
       "\n",
       "    const originalStyle = element.style;\n",
       "    const computedStyle = window.getComputedStyle(element);\n",
       "    const originalWidth = computedStyle.width;\n",
       "    const originalHTML = element.innerHTML.replace('Copied!', '');\n",
       "\n",
       "    navigator.clipboard.writeText(fullParamName)\n",
       "        .then(() => {\n",
       "            element.style.width = originalWidth;\n",
       "            element.style.color = 'green';\n",
       "            element.innerHTML = \"Copied!\";\n",
       "\n",
       "            setTimeout(() => {\n",
       "                element.innerHTML = originalHTML;\n",
       "                element.style = originalStyle;\n",
       "            }, 2000);\n",
       "        })\n",
       "        .catch(err => {\n",
       "            console.error('Failed to copy:', err);\n",
       "            element.style.color = 'red';\n",
       "            element.innerHTML = \"Failed!\";\n",
       "            setTimeout(() => {\n",
       "                element.innerHTML = originalHTML;\n",
       "                element.style = originalStyle;\n",
       "            }, 2000);\n",
       "        });\n",
       "    return false;\n",
       "}\n",
       "\n",
       "document.querySelectorAll('.fa-regular.fa-copy').forEach(function(element) {\n",
       "    const toggleableContent = element.closest('.sk-toggleable__content');\n",
       "    const paramPrefix = toggleableContent ? toggleableContent.dataset.paramPrefix : '';\n",
       "    const paramName = element.parentElement.nextElementSibling.textContent.trim();\n",
       "    const fullParamName = paramPrefix ? `${paramPrefix}${paramName}` : paramName;\n",
       "\n",
       "    element.setAttribute('title', fullParamName);\n",
       "});\n",
       "</script></body>"
      ],
      "text/plain": [
       "RandomForestRegressor()"
      ]
     },
     "execution_count": 42,
     "metadata": {},
     "output_type": "execute_result"
    }
   ],
   "source": [
    "#Splitting Data \n",
    "from sklearn.model_selection import train_test_split\n",
    "X = np.array(price[[\"Number_of_Riders\",\"Number_of_Drivers\", \"Vehicle_Type\", \"Expected_Ride_Duration\",]])\n",
    "y = np.array(price[[\"adjusted_ride_cost\"]])\n",
    "\n",
    "\n",
    "X_train , X_test , y_train , y_test = train_test_split(X,y , test_size= 0.2, random_state= 42)\n",
    "\n",
    "#Reshape y to 1D array\n",
    "#The .ravel() function is a NumPy method that flattens an array — it converts a multi-dimensional array into a 1D array (if possible).\n",
    "y_train = y_train.ravel()\n",
    "y_test = y_test.ravel()\n",
    "\n",
    "# Training the Random Forest Regression Model\n",
    "from sklearn.ensemble import RandomForestRegressor\n",
    "model = RandomForestRegressor()\n",
    "model.fit(X_train , y_train)"
   ]
  },
  {
   "cell_type": "markdown",
   "id": "e39f05fa-bde9-4f5d-b9f7-465fcf1ff959",
   "metadata": {},
   "source": [
    "Now let’s test this Machine Learning model using some input values:"
   ]
  },
  {
   "cell_type": "code",
   "execution_count": 47,
   "id": "a6255c90-483a-41b2-aff1-2066426c79f4",
   "metadata": {},
   "outputs": [
    {
     "name": "stdin",
     "output_type": "stream",
     "text": [
      "Number of Riders 25\n",
      "Number of Drivers 25\n",
      "Vehicle Type : Premium or Economy Economy\n",
      "Duration in Minute 25\n"
     ]
    },
    {
     "name": "stdout",
     "output_type": "stream",
     "text": [
      "Predicted price: [161.33030017]\n"
     ]
    }
   ],
   "source": [
    "def get_vehicle_type_numeric(vehicle_type):\n",
    "    vehicle_type_mapping = {\"Premium\" : 1 , \"Economy\": 0}\n",
    "    vehicle_type_numeric = vehicle_type_mapping.get(vehicle_type)\n",
    "    return vehicle_type_numeric\n",
    "\n",
    "#Predicting using user input value\n",
    "def predict_price(number_of_riders,number_of_drivers, vehicle_type ,Expected_Ride_Duration ):\n",
    "    vehicle_type_numeric = get_vehicle_type_numeric(vehicle_type)\n",
    "    if vehicle_type_numeric is None: \n",
    "        raise ValueError(\"Invalid Vehicle Type\")\n",
    "\n",
    "    input_data = np.array([[number_of_riders,number_of_drivers, vehicle_type_numeric ,Expected_Ride_Duration]]) \n",
    "    predicted_price = model.predict(input_data)\n",
    "    return predicted_price\n",
    "\n",
    "#Example prediction using user input values\n",
    "user_number_of_riders = int(input(\"Number of Riders\"))\n",
    "user_number_of_drivers = int(input(\"Number of Drivers\"))\n",
    "user_vehicle_type = str(input(\"Vehicle Type : Premium or Economy\"))\n",
    "Expected_Ride_Duration = float(input(\"Duration in Minute\"))\n",
    "predicted_price = predict_price(user_number_of_riders, user_number_of_drivers ,user_vehicle_type , Expected_Ride_Duration )\n",
    "\n",
    "\n",
    "print(\"Predicted price:\", predicted_price)"
   ]
  },
  {
   "cell_type": "markdown",
   "id": "9cce1675-4dd3-4439-a59e-75949b274cf8",
   "metadata": {},
   "source": [
    "## Here’s a comparison of the actual and predicted results:"
   ]
  },
  {
   "cell_type": "code",
   "execution_count": 51,
   "id": "dbf545fa-7d17-4f77-87b2-bcb77283a576",
   "metadata": {},
   "outputs": [
    {
     "data": {
      "application/vnd.plotly.v1+json": {
       "config": {
        "plotlyServerURL": "https://plot.ly"
       },
       "data": [
        {
         "mode": "markers",
         "name": "Actual VS Predicted",
         "type": "scatter",
         "x": {
          "bdata": "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",
          "dtype": "f8"
         },
         "y": {
          "bdata": "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",
          "dtype": "f8"
         }
        },
        {
         "line": {
          "color": "red",
          "dash": "dash"
         },
         "mode": "lines",
         "name": "Ideal",
         "type": "scatter",
         "x": [
          32.354312522312306,
          2783.6811375735433
         ],
         "y": [
          32.354312522312306,
          2783.6811375735433
         ]
        }
       ],
       "layout": {
        "showlegend": true,
        "template": {
         "data": {
          "bar": [
           {
            "error_x": {
             "color": "#2a3f5f"
            },
            "error_y": {
             "color": "#2a3f5f"
            },
            "marker": {
             "line": {
              "color": "#E5ECF6",
              "width": 0.5
             },
             "pattern": {
              "fillmode": "overlay",
              "size": 10,
              "solidity": 0.2
             }
            },
            "type": "bar"
           }
          ],
          "barpolar": [
           {
            "marker": {
             "line": {
              "color": "#E5ECF6",
              "width": 0.5
             },
             "pattern": {
              "fillmode": "overlay",
              "size": 10,
              "solidity": 0.2
             }
            },
            "type": "barpolar"
           }
          ],
          "carpet": [
           {
            "aaxis": {
             "endlinecolor": "#2a3f5f",
             "gridcolor": "white",
             "linecolor": "white",
             "minorgridcolor": "white",
             "startlinecolor": "#2a3f5f"
            },
            "baxis": {
             "endlinecolor": "#2a3f5f",
             "gridcolor": "white",
             "linecolor": "white",
             "minorgridcolor": "white",
             "startlinecolor": "#2a3f5f"
            },
            "type": "carpet"
           }
          ],
          "choropleth": [
           {
            "colorbar": {
             "outlinewidth": 0,
             "ticks": ""
            },
            "type": "choropleth"
           }
          ],
          "contour": [
           {
            "colorbar": {
             "outlinewidth": 0,
             "ticks": ""
            },
            "colorscale": [
             [
              0,
              "#0d0887"
             ],
             [
              0.1111111111111111,
              "#46039f"
             ],
             [
              0.2222222222222222,
              "#7201a8"
             ],
             [
              0.3333333333333333,
              "#9c179e"
             ],
             [
              0.4444444444444444,
              "#bd3786"
             ],
             [
              0.5555555555555556,
              "#d8576b"
             ],
             [
              0.6666666666666666,
              "#ed7953"
             ],
             [
              0.7777777777777778,
              "#fb9f3a"
             ],
             [
              0.8888888888888888,
              "#fdca26"
             ],
             [
              1,
              "#f0f921"
             ]
            ],
            "type": "contour"
           }
          ],
          "contourcarpet": [
           {
            "colorbar": {
             "outlinewidth": 0,
             "ticks": ""
            },
            "type": "contourcarpet"
           }
          ],
          "heatmap": [
           {
            "colorbar": {
             "outlinewidth": 0,
             "ticks": ""
            },
            "colorscale": [
             [
              0,
              "#0d0887"
             ],
             [
              0.1111111111111111,
              "#46039f"
             ],
             [
              0.2222222222222222,
              "#7201a8"
             ],
             [
              0.3333333333333333,
              "#9c179e"
             ],
             [
              0.4444444444444444,
              "#bd3786"
             ],
             [
              0.5555555555555556,
              "#d8576b"
             ],
             [
              0.6666666666666666,
              "#ed7953"
             ],
             [
              0.7777777777777778,
              "#fb9f3a"
             ],
             [
              0.8888888888888888,
              "#fdca26"
             ],
             [
              1,
              "#f0f921"
             ]
            ],
            "type": "heatmap"
           }
          ],
          "histogram": [
           {
            "marker": {
             "pattern": {
              "fillmode": "overlay",
              "size": 10,
              "solidity": 0.2
             }
            },
            "type": "histogram"
           }
          ],
          "histogram2d": [
           {
            "colorbar": {
             "outlinewidth": 0,
             "ticks": ""
            },
            "colorscale": [
             [
              0,
              "#0d0887"
             ],
             [
              0.1111111111111111,
              "#46039f"
             ],
             [
              0.2222222222222222,
              "#7201a8"
             ],
             [
              0.3333333333333333,
              "#9c179e"
             ],
             [
              0.4444444444444444,
              "#bd3786"
             ],
             [
              0.5555555555555556,
              "#d8576b"
             ],
             [
              0.6666666666666666,
              "#ed7953"
             ],
             [
              0.7777777777777778,
              "#fb9f3a"
             ],
             [
              0.8888888888888888,
              "#fdca26"
             ],
             [
              1,
              "#f0f921"
             ]
            ],
            "type": "histogram2d"
           }
          ],
          "histogram2dcontour": [
           {
            "colorbar": {
             "outlinewidth": 0,
             "ticks": ""
            },
            "colorscale": [
             [
              0,
              "#0d0887"
             ],
             [
              0.1111111111111111,
              "#46039f"
             ],
             [
              0.2222222222222222,
              "#7201a8"
             ],
             [
              0.3333333333333333,
              "#9c179e"
             ],
             [
              0.4444444444444444,
              "#bd3786"
             ],
             [
              0.5555555555555556,
              "#d8576b"
             ],
             [
              0.6666666666666666,
              "#ed7953"
             ],
             [
              0.7777777777777778,
              "#fb9f3a"
             ],
             [
              0.8888888888888888,
              "#fdca26"
             ],
             [
              1,
              "#f0f921"
             ]
            ],
            "type": "histogram2dcontour"
           }
          ],
          "mesh3d": [
           {
            "colorbar": {
             "outlinewidth": 0,
             "ticks": ""
            },
            "type": "mesh3d"
           }
          ],
          "parcoords": [
           {
            "line": {
             "colorbar": {
              "outlinewidth": 0,
              "ticks": ""
             }
            },
            "type": "parcoords"
           }
          ],
          "pie": [
           {
            "automargin": true,
            "type": "pie"
           }
          ],
          "scatter": [
           {
            "fillpattern": {
             "fillmode": "overlay",
             "size": 10,
             "solidity": 0.2
            },
            "type": "scatter"
           }
          ],
          "scatter3d": [
           {
            "line": {
             "colorbar": {
              "outlinewidth": 0,
              "ticks": ""
             }
            },
            "marker": {
             "colorbar": {
              "outlinewidth": 0,
              "ticks": ""
             }
            },
            "type": "scatter3d"
           }
          ],
          "scattercarpet": [
           {
            "marker": {
             "colorbar": {
              "outlinewidth": 0,
              "ticks": ""
             }
            },
            "type": "scattercarpet"
           }
          ],
          "scattergeo": [
           {
            "marker": {
             "colorbar": {
              "outlinewidth": 0,
              "ticks": ""
             }
            },
            "type": "scattergeo"
           }
          ],
          "scattergl": [
           {
            "marker": {
             "colorbar": {
              "outlinewidth": 0,
              "ticks": ""
             }
            },
            "type": "scattergl"
           }
          ],
          "scattermap": [
           {
            "marker": {
             "colorbar": {
              "outlinewidth": 0,
              "ticks": ""
             }
            },
            "type": "scattermap"
           }
          ],
          "scattermapbox": [
           {
            "marker": {
             "colorbar": {
              "outlinewidth": 0,
              "ticks": ""
             }
            },
            "type": "scattermapbox"
           }
          ],
          "scatterpolar": [
           {
            "marker": {
             "colorbar": {
              "outlinewidth": 0,
              "ticks": ""
             }
            },
            "type": "scatterpolar"
           }
          ],
          "scatterpolargl": [
           {
            "marker": {
             "colorbar": {
              "outlinewidth": 0,
              "ticks": ""
             }
            },
            "type": "scatterpolargl"
           }
          ],
          "scatterternary": [
           {
            "marker": {
             "colorbar": {
              "outlinewidth": 0,
              "ticks": ""
             }
            },
            "type": "scatterternary"
           }
          ],
          "surface": [
           {
            "colorbar": {
             "outlinewidth": 0,
             "ticks": ""
            },
            "colorscale": [
             [
              0,
              "#0d0887"
             ],
             [
              0.1111111111111111,
              "#46039f"
             ],
             [
              0.2222222222222222,
              "#7201a8"
             ],
             [
              0.3333333333333333,
              "#9c179e"
             ],
             [
              0.4444444444444444,
              "#bd3786"
             ],
             [
              0.5555555555555556,
              "#d8576b"
             ],
             [
              0.6666666666666666,
              "#ed7953"
             ],
             [
              0.7777777777777778,
              "#fb9f3a"
             ],
             [
              0.8888888888888888,
              "#fdca26"
             ],
             [
              1,
              "#f0f921"
             ]
            ],
            "type": "surface"
           }
          ],
          "table": [
           {
            "cells": {
             "fill": {
              "color": "#EBF0F8"
             },
             "line": {
              "color": "white"
             }
            },
            "header": {
             "fill": {
              "color": "#C8D4E3"
             },
             "line": {
              "color": "white"
             }
            },
            "type": "table"
           }
          ]
         },
         "layout": {
          "annotationdefaults": {
           "arrowcolor": "#2a3f5f",
           "arrowhead": 0,
           "arrowwidth": 1
          },
          "autotypenumbers": "strict",
          "coloraxis": {
           "colorbar": {
            "outlinewidth": 0,
            "ticks": ""
           }
          },
          "colorscale": {
           "diverging": [
            [
             0,
             "#8e0152"
            ],
            [
             0.1,
             "#c51b7d"
            ],
            [
             0.2,
             "#de77ae"
            ],
            [
             0.3,
             "#f1b6da"
            ],
            [
             0.4,
             "#fde0ef"
            ],
            [
             0.5,
             "#f7f7f7"
            ],
            [
             0.6,
             "#e6f5d0"
            ],
            [
             0.7,
             "#b8e186"
            ],
            [
             0.8,
             "#7fbc41"
            ],
            [
             0.9,
             "#4d9221"
            ],
            [
             1,
             "#276419"
            ]
           ],
           "sequential": [
            [
             0,
             "#0d0887"
            ],
            [
             0.1111111111111111,
             "#46039f"
            ],
            [
             0.2222222222222222,
             "#7201a8"
            ],
            [
             0.3333333333333333,
             "#9c179e"
            ],
            [
             0.4444444444444444,
             "#bd3786"
            ],
            [
             0.5555555555555556,
             "#d8576b"
            ],
            [
             0.6666666666666666,
             "#ed7953"
            ],
            [
             0.7777777777777778,
             "#fb9f3a"
            ],
            [
             0.8888888888888888,
             "#fdca26"
            ],
            [
             1,
             "#f0f921"
            ]
           ],
           "sequentialminus": [
            [
             0,
             "#0d0887"
            ],
            [
             0.1111111111111111,
             "#46039f"
            ],
            [
             0.2222222222222222,
             "#7201a8"
            ],
            [
             0.3333333333333333,
             "#9c179e"
            ],
            [
             0.4444444444444444,
             "#bd3786"
            ],
            [
             0.5555555555555556,
             "#d8576b"
            ],
            [
             0.6666666666666666,
             "#ed7953"
            ],
            [
             0.7777777777777778,
             "#fb9f3a"
            ],
            [
             0.8888888888888888,
             "#fdca26"
            ],
            [
             1,
             "#f0f921"
            ]
           ]
          },
          "colorway": [
           "#636efa",
           "#EF553B",
           "#00cc96",
           "#ab63fa",
           "#FFA15A",
           "#19d3f3",
           "#FF6692",
           "#B6E880",
           "#FF97FF",
           "#FECB52"
          ],
          "font": {
           "color": "#2a3f5f"
          },
          "geo": {
           "bgcolor": "white",
           "lakecolor": "white",
           "landcolor": "#E5ECF6",
           "showlakes": true,
           "showland": true,
           "subunitcolor": "white"
          },
          "hoverlabel": {
           "align": "left"
          },
          "hovermode": "closest",
          "mapbox": {
           "style": "light"
          },
          "paper_bgcolor": "white",
          "plot_bgcolor": "#E5ECF6",
          "polar": {
           "angularaxis": {
            "gridcolor": "white",
            "linecolor": "white",
            "ticks": ""
           },
           "bgcolor": "#E5ECF6",
           "radialaxis": {
            "gridcolor": "white",
            "linecolor": "white",
            "ticks": ""
           }
          },
          "scene": {
           "xaxis": {
            "backgroundcolor": "#E5ECF6",
            "gridcolor": "white",
            "gridwidth": 2,
            "linecolor": "white",
            "showbackground": true,
            "ticks": "",
            "zerolinecolor": "white"
           },
           "yaxis": {
            "backgroundcolor": "#E5ECF6",
            "gridcolor": "white",
            "gridwidth": 2,
            "linecolor": "white",
            "showbackground": true,
            "ticks": "",
            "zerolinecolor": "white"
           },
           "zaxis": {
            "backgroundcolor": "#E5ECF6",
            "gridcolor": "white",
            "gridwidth": 2,
            "linecolor": "white",
            "showbackground": true,
            "ticks": "",
            "zerolinecolor": "white"
           }
          },
          "shapedefaults": {
           "line": {
            "color": "#2a3f5f"
           }
          },
          "ternary": {
           "aaxis": {
            "gridcolor": "white",
            "linecolor": "white",
            "ticks": ""
           },
           "baxis": {
            "gridcolor": "white",
            "linecolor": "white",
            "ticks": ""
           },
           "bgcolor": "#E5ECF6",
           "caxis": {
            "gridcolor": "white",
            "linecolor": "white",
            "ticks": ""
           }
          },
          "title": {
           "x": 0.05
          },
          "xaxis": {
           "automargin": true,
           "gridcolor": "white",
           "linecolor": "white",
           "ticks": "",
           "title": {
            "standoff": 15
           },
           "zerolinecolor": "white",
           "zerolinewidth": 2
          },
          "yaxis": {
           "automargin": true,
           "gridcolor": "white",
           "linecolor": "white",
           "ticks": "",
           "title": {
            "standoff": 15
           },
           "zerolinecolor": "white",
           "zerolinewidth": 2
          }
         }
        },
        "title": {
         "text": "Actual VS Predicted"
        },
        "xaxis": {
         "title": {
          "text": "Actual Values"
         }
        },
        "yaxis": {
         "title": {
          "text": "Predicted Values"
         }
        }
       }
      },
      "image/png": "[encoded data removed]"
     },
     "metadata": {},
     "output_type": "display_data"
    }
   ],
   "source": [
    "import plotly.graph_objects as go\n",
    "\n",
    "#Predict on the test set\n",
    "y_pred = model.predict(X_test)\n",
    "\n",
    "#Create a Scatter Plot with Actual and Predicted Values\n",
    "fig_predVSactual = go.Figure()\n",
    "\n",
    "fig_predVSactual.add_trace(go.Scatter(\n",
    "                            x = y_test.flatten() ,# convert a multi-dimensional array into a 1D (flat) array , Similar to .ravel()\n",
    "                            y = y_pred,\n",
    "                            mode = \"markers\",\n",
    "                            name = \"Actual VS Predicted\"\n",
    "                            ))\n",
    "\n",
    "#Add a line representing the Ideal Case\n",
    "fig_predVSactual.add_trace(go.Scatter(\n",
    "                            x = [min(y_test.flatten()) ,max(y_test.flatten()) ] , \n",
    "                            y = [min(y_test.flatten()) ,max(y_test.flatten()) ],\n",
    "                            mode = \"lines\",\n",
    "                            name = \"Ideal\",\n",
    "                            line= dict(color = \"red\" , dash = \"dash\")   \n",
    "))\n",
    "\n",
    "fig_predVSactual.update_layout(\n",
    "                        title = \"Actual VS Predicted\",\n",
    "                        xaxis_title = \"Actual Values\",\n",
    "                        yaxis_title = \"Predicted Values\",\n",
    "                        showlegend = True,\n",
    "                         )\n",
    "fig_predVSactual.show()"
   ]
  },
  {
   "cell_type": "markdown",
   "id": "4ff70853-2c61-447b-aefe-1de6b5381be7",
   "metadata": {},
   "source": [
    "So this is how you can use Machine Learning to implement a data-driven dynamic pricing strategy using Python."
   ]
  },
  {
   "cell_type": "markdown",
   "id": "90ff3339-43b9-4f2d-8131-3b3cf417cfd9",
   "metadata": {},
   "source": [
    "## Summary"
   ]
  },
  {
   "cell_type": "markdown",
   "id": "8fff2ab8-2e7f-4f05-b7ae-01b6f1c5f81e",
   "metadata": {},
   "source": [
    "In a dynamic pricing strategy, the aim is to maximize revenue and profitability by pricing items at the right level that balances supply and demand dynamics. It allows businesses to adjust prices dynamically based on factors like time of day, day of the week, customer segments, inventory levels, seasonal fluctuations, competitor pricing, and market conditions."
   ]
  },
  {
   "cell_type": "code",
   "execution_count": null,
   "id": "9e382e2c-2e13-4761-962c-58d29bfd83a7",
   "metadata": {},
   "outputs": [],
   "source": []
  }
 ],
 "metadata": {
  "kernelspec": {
   "display_name": "Python 3 (ipykernel)",
   "language": "python",
   "name": "python3"
  },
  "language_info": {
   "codemirror_mode": {
    "name": "ipython",
    "version": 3
   },
   "file_extension": ".py",
   "mimetype": "text/x-python",
   "name": "python",
   "nbconvert_exporter": "python",
   "pygments_lexer": "ipython3",
   "version": "3.10.18"
  }
 },
 "nbformat": 4,
 "nbformat_minor": 5
}
